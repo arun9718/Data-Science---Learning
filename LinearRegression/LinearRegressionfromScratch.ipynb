{
  "nbformat": 4,
  "nbformat_minor": 0,
  "metadata": {
    "colab": {
      "name": "LinearRegressionfromScratch.ipynb",
      "provenance": [],
      "authorship_tag": "ABX9TyNg2tVmBijs2/zX0a7r+o0U",
      "include_colab_link": true
    },
    "kernelspec": {
      "name": "python3",
      "display_name": "Python 3"
    },
    "language_info": {
      "name": "python"
    }
  },
  "cells": [
    {
      "cell_type": "markdown",
      "metadata": {
        "id": "view-in-github",
        "colab_type": "text"
      },
      "source": [
        "<a href=\"https://colab.research.google.com/github/arun9718/Data-Science---Learning/blob/main/LinearRegression/LinearRegressionfromScratch.ipynb\" target=\"_parent\"><img src=\"https://colab.research.google.com/assets/colab-badge.svg\" alt=\"Open In Colab\"/></a>"
      ]
    },
    {
      "cell_type": "markdown",
      "source": [
        "#Linear Regression\n",
        "\n",
        "##Y=mX+C\n",
        "\n",
        "##X=Dependent Variable\n",
        "##Y=Independent Variable\n",
        "\n",
        "##m=weight\n",
        "##C=bias\n",
        "\n",
        "#Gradient Descent\n",
        "##Gradient is an optimizaiton algorithm which is used to for minimizing the cost function of the machine learning model by the updatig the parameters of the machine learning model.\n",
        "\n",
        "##w=w-α*dw\n",
        "##b=b-α*db"
      ],
      "metadata": {
        "id": "OrVi6jQCioJG"
      }
    },
    {
      "cell_type": "code",
      "source": [
        "import numpy as np\n",
        "\n",
        "class Linear_Regression() :\n",
        "  def __init__(self,learning_rate,no_of_iterations):\n",
        "    self.learning_rate=learning_rate\n",
        "    self.no_of_iterations=no_of_iterations\n",
        "\n",
        "  def fit(self,X,Y):\n",
        "    #no. of data,no. of features\n",
        "    self.m,self.n=X.shape\n",
        "    self.w=np.zeros(self.n)\n",
        "    self.b=0\n",
        "    self.X=X\n",
        "    self.Y=Y\n",
        "\n",
        "    #update the weights using gradient descent\n",
        "    for i in range(self.no_of_iterations):\n",
        "      self.update_weights()\n",
        "\n",
        "  def update_weights(self):\n",
        "    Y_prediction = self.predict( self.X )\n",
        "          \n",
        "    # calculate gradients  \n",
        "  \n",
        "    dw = - ( 2 * ( self.X.T ).dot( self.Y - Y_prediction )  ) / self.m\n",
        "    \n",
        "    db = - 2 * np.sum( self.Y - Y_prediction ) / self.m \n",
        "      \n",
        "    # updating the weights\n",
        "  \n",
        "    self.w = self.w - self.learning_rate * dw\n",
        "  \n",
        "    self.b = self.b - self.learning_rate * db\n",
        "\n",
        "  def predict( self, X ) :\n",
        "      \n",
        "        return X.dot( self.w ) + self.b\n"
      ],
      "metadata": {
        "id": "EDs532Qgjvht"
      },
      "execution_count": 1,
      "outputs": []
    },
    {
      "cell_type": "code",
      "source": [
        ""
      ],
      "metadata": {
        "id": "16W1w6yXpZm0"
      },
      "execution_count": null,
      "outputs": []
    }
  ]
}