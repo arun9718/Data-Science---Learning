{
  "nbformat": 4,
  "nbformat_minor": 0,
  "metadata": {
    "colab": {
      "name": "Dictionaries_OOPS_in_Python.ipynb",
      "provenance": [],
      "authorship_tag": "ABX9TyMio65qvlLtJF9XXpKmA3/n",
      "include_colab_link": true
    },
    "kernelspec": {
      "name": "python3",
      "display_name": "Python 3"
    },
    "language_info": {
      "name": "python"
    }
  },
  "cells": [
    {
      "cell_type": "markdown",
      "metadata": {
        "id": "view-in-github",
        "colab_type": "text"
      },
      "source": [
        "<a href=\"https://colab.research.google.com/github/arun9718/Data-Science---Learning/blob/Day1/Dictionaries_OOPS_in_Python.ipynb\" target=\"_parent\"><img src=\"https://colab.research.google.com/assets/colab-badge.svg\" alt=\"Open In Colab\"/></a>"
      ]
    },
    {
      "cell_type": "markdown",
      "source": [
        "# * Dictionaries in Python :- *\n",
        "  * Properties \n",
        "      1. Dictionaries are ordered(After Python 3.7)\n",
        "      2. Dictionaries are not indexed\n",
        "      3. Dictionaries are not mutable(Values cannot be changed in dictionaries)\n",
        "      4. There cannot be any duplicate values in dictionaries\n",
        "          - If same keys are repeated then the last key over writes all the previous keys"
      ],
      "metadata": {
        "id": "LY5GHje_ErgP"
      }
    },
    {
      "cell_type": "code",
      "source": [
        "dict1={\n",
        "    'A' : 123,\n",
        "    'C' : 'Arunava',\n",
        "    'B' : 34.89\n",
        "}"
      ],
      "metadata": {
        "id": "LCcE0AkvEzOH"
      },
      "execution_count": 1,
      "outputs": []
    },
    {
      "cell_type": "code",
      "source": [
        "print(dict1)"
      ],
      "metadata": {
        "colab": {
          "base_uri": "https://localhost:8080/"
        },
        "id": "1AIfevknKK9_",
        "outputId": "e85e920e-f4eb-43c8-c3fb-453d0dd23fb5"
      },
      "execution_count": 2,
      "outputs": [
        {
          "output_type": "stream",
          "name": "stdout",
          "text": [
            "{'A': 123, 'C': 'Arunava', 'B': 34.89}\n"
          ]
        }
      ]
    },
    {
      "cell_type": "code",
      "source": [
        "#printing the dictionary line wise in opimised way\n",
        "for i,j in dict1.items():\n",
        "  print(i,j)"
      ],
      "metadata": {
        "colab": {
          "base_uri": "https://localhost:8080/"
        },
        "id": "RvxkE3GwKNWW",
        "outputId": "eda517b3-131e-42c3-85a9-73bb30b6d128"
      },
      "execution_count": 4,
      "outputs": [
        {
          "output_type": "stream",
          "name": "stdout",
          "text": [
            "A 123\n",
            "C Arunava\n",
            "B 34.89\n"
          ]
        }
      ]
    },
    {
      "cell_type": "code",
      "source": [
        "#printing the dictionary line wise in optimised way(2nd way)\n",
        "for i,j in zip(dict1.keys(),dict1.values()):\n",
        "  print(i,j)"
      ],
      "metadata": {
        "colab": {
          "base_uri": "https://localhost:8080/"
        },
        "id": "vcvJNO7ZKq2m",
        "outputId": "20e5d414-45da-497a-fa87-9468bf612945"
      },
      "execution_count": 5,
      "outputs": [
        {
          "output_type": "stream",
          "name": "stdout",
          "text": [
            "A 123\n",
            "C Arunava\n",
            "B 34.89\n"
          ]
        }
      ]
    },
    {
      "cell_type": "code",
      "source": [
        "#doing the above task in single line\n",
        "dict2={i:print(i,j) for i,j in dict1.items()}"
      ],
      "metadata": {
        "colab": {
          "base_uri": "https://localhost:8080/"
        },
        "id": "6HH4-SV5Lq8S",
        "outputId": "52b4a911-cfa5-441e-921e-928a3334f163"
      },
      "execution_count": 11,
      "outputs": [
        {
          "output_type": "stream",
          "name": "stdout",
          "text": [
            "A 123\n",
            "C Arunava\n",
            "B 34.89\n"
          ]
        }
      ]
    },
    {
      "cell_type": "markdown",
      "source": [
        "# Question :- Create a dictionary within the range (1,6) with a key and values = key*keyin the most optimised way"
      ],
      "metadata": {
        "id": "f7PbbWuhVDVZ"
      }
    },
    {
      "cell_type": "code",
      "source": [
        "#The optimised way would be using dictionary comprehension\n",
        "dict3={i: i*i for i in range(1,6)}\n",
        "print(dict3)\n",
        "#Empty the dictionary using 'dict()'\n",
        "dict3=dict()\n",
        "print(dict3)"
      ],
      "metadata": {
        "colab": {
          "base_uri": "https://localhost:8080/"
        },
        "id": "wFO2kPfYU6ca",
        "outputId": "e0e587eb-9a6e-4959-d00f-57893500716c"
      },
      "execution_count": 14,
      "outputs": [
        {
          "output_type": "stream",
          "name": "stdout",
          "text": [
            "{1: 1, 2: 4, 3: 9, 4: 16, 5: 25}\n",
            "{}\n"
          ]
        }
      ]
    },
    {
      "cell_type": "markdown",
      "source": [
        "# Revision of Exception Handling"
      ],
      "metadata": {
        "id": "nkwB1OinWOZw"
      }
    },
    {
      "cell_type": "code",
      "source": [
        "try:\n",
        "  print(a) #nameerror\n",
        "  print(3/0) #div by zero\n",
        "except:\n",
        "  print(\"Nameerror\")\n",
        "else:\n",
        "  print(\"success\")\n",
        "finally:\n",
        "  print(\"I run every time\")"
      ],
      "metadata": {
        "colab": {
          "base_uri": "https://localhost:8080/"
        },
        "id": "kYgDO5esWimB",
        "outputId": "c87eafba-72ff-48d3-c547-1f37e7d9b6fc"
      },
      "execution_count": 1,
      "outputs": [
        {
          "output_type": "stream",
          "name": "stdout",
          "text": [
            "Nameerror\n",
            "I run every time\n"
          ]
        }
      ]
    },
    {
      "cell_type": "markdown",
      "source": [
        "# Exception Handling properties\n",
        "  * First try will run(Try will run always)\n",
        "  * If try has error thwn except will run\n",
        "  * else will run if try runs successfully and except does not run\n",
        "  * finally will run everytime"
      ],
      "metadata": {
        "id": "ujklGfgJaOBc"
      }
    },
    {
      "cell_type": "markdown",
      "source": [
        "# Object Oriented  Programming Concepts\n",
        "   * Inheritance\n",
        "   * Polymorphism\n",
        "   * Encapsulation\n",
        "   * Data Abstraction"
      ],
      "metadata": {
        "id": "DESLx8E4bdHX"
      }
    },
    {
      "cell_type": "code",
      "source": [
        "class Father:\n",
        "  #class attribute\n",
        "  language='English'\n",
        "  lst_name=''\n",
        "  add=''\n",
        "\n",
        "  #constructor\n",
        "  def __init__(self):\n",
        "    self.lst_name='Paul'\n",
        "\n",
        "  def address(self):\n",
        "    self.add='Kolkata'\n",
        "\n",
        "  \n",
        "\n",
        "  \n",
        "class Son(Father):\n",
        "  first_name=''\n",
        "  road=''\n",
        "  def __init__(self):\n",
        "    self.first_name='john'\n",
        "\n",
        "  def address(self):\n",
        "    self.road='MG Road'\n",
        "\n",
        "\n",
        "member1=Father()\n",
        "member1.address()\n",
        "print(member1.add)"
      ],
      "metadata": {
        "colab": {
          "base_uri": "https://localhost:8080/"
        },
        "id": "4gcgicKDigMT",
        "outputId": "8b36f3cd-ce96-4395-a95c-eb38bbc9751d"
      },
      "execution_count": 2,
      "outputs": [
        {
          "output_type": "stream",
          "name": "stdout",
          "text": [
            "Kolkata\n"
          ]
        }
      ]
    }
  ]
}