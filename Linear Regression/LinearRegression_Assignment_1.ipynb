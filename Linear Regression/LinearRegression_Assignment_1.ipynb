{
  "nbformat": 4,
  "nbformat_minor": 0,
  "metadata": {
    "colab": {
      "name": "LinearRegression_Assignment.ipynb",
      "provenance": [],
      "collapsed_sections": [],
      "include_colab_link": true
    },
    "kernelspec": {
      "name": "python3",
      "display_name": "Python 3"
    },
    "language_info": {
      "name": "python"
    }
  },
  "cells": [
    {
      "cell_type": "markdown",
      "metadata": {
        "id": "view-in-github",
        "colab_type": "text"
      },
      "source": [
        "<a href=\"https://colab.research.google.com/github/arun9718/Data-Science---Learning/blob/main/Linear%20Regression/LinearRegression_Assignment_1.ipynb\" target=\"_parent\"><img src=\"https://colab.research.google.com/assets/colab-badge.svg\" alt=\"Open In Colab\"/></a>"
      ]
    },
    {
      "cell_type": "code",
      "source": [
        "import numpy as np\n",
        "import matplotlib.pyplot as plt\n",
        "import pandas as pd"
      ],
      "metadata": {
        "id": "6WNpN-FowLxT"
      },
      "execution_count": 1,
      "outputs": []
    },
    {
      "cell_type": "markdown",
      "source": [
        "Feature Engineering "
      ],
      "metadata": {
        "id": "DbqTYrO2gqjt"
      }
    },
    {
      "cell_type": "markdown",
      "source": [
        "Feature Engineering is generally required when we do not have a correlation between the given features and the required label, in such a situation, one might want to merge a few features and create a feature having a better correlation. \n",
        "\n",
        "Taking a very basic example, if i have a some values of x, say -5,-4,-3,-2,... upto +5, and i have Y with values 25,16,9,4,... upto 25, now it is clear that y is the square of x. If i want to apply linear regression, obviously it will be very difficult if not impossible. Since it is a second degree curve.\n",
        "\n",
        "Another approach could be to use feature engineering, in this case if I , multiply x and x, it will become equal to y, which is having a direct correlaton with y. \n",
        "\n",
        "This might seem very confusing, so let me give a real life example, if i need to predict the price of a house, the number of rooms will not matter if i dont know the number of people who are going to live there. \n",
        "\n",
        "So, if i calculate rooms per person, that will have a better correlation, with the price of the house. \n",
        "\n",
        "Similarly, we have to manipulate the data, so as to make a better correlation."
      ],
      "metadata": {
        "id": "eYnF3YK19yQd"
      }
    },
    {
      "cell_type": "code",
      "source": [
        "data1 = {'X':[-5,-4,-3,-2,-1,0,1,2,3,4,5],\n",
        " 'Y':[49.5, 34.2, 22.3, 13.8,  8.7,  7. ,  8.7, 13.8, 22.3, 34.2, 49.5]}"
      ],
      "metadata": {
        "id": "6vp94vESg_XX"
      },
      "execution_count": 3,
      "outputs": []
    },
    {
      "cell_type": "code",
      "source": [
        "df1 = pd.DataFrame(data1)"
      ],
      "metadata": {
        "id": "DA06775AhY_6"
      },
      "execution_count": 4,
      "outputs": []
    },
    {
      "cell_type": "markdown",
      "source": [
        "We prepare a dataset of our own.\n",
        "\n",
        "View the head to gain some insight."
      ],
      "metadata": {
        "id": "5D328WRbERUU"
      }
    },
    {
      "cell_type": "code",
      "source": [
        "df1.head()"
      ],
      "metadata": {
        "id": "pPJXNbRpNkNg",
        "colab": {
          "base_uri": "https://localhost:8080/",
          "height": 206
        },
        "outputId": "5621132a-ac34-473e-b64c-28f015343d76"
      },
      "execution_count": 5,
      "outputs": [
        {
          "output_type": "execute_result",
          "data": {
            "text/html": [
              "\n",
              "  <div id=\"df-0d0027a1-9f41-4700-b807-a511c1fb3a4f\">\n",
              "    <div class=\"colab-df-container\">\n",
              "      <div>\n",
              "<style scoped>\n",
              "    .dataframe tbody tr th:only-of-type {\n",
              "        vertical-align: middle;\n",
              "    }\n",
              "\n",
              "    .dataframe tbody tr th {\n",
              "        vertical-align: top;\n",
              "    }\n",
              "\n",
              "    .dataframe thead th {\n",
              "        text-align: right;\n",
              "    }\n",
              "</style>\n",
              "<table border=\"1\" class=\"dataframe\">\n",
              "  <thead>\n",
              "    <tr style=\"text-align: right;\">\n",
              "      <th></th>\n",
              "      <th>X</th>\n",
              "      <th>Y</th>\n",
              "    </tr>\n",
              "  </thead>\n",
              "  <tbody>\n",
              "    <tr>\n",
              "      <th>0</th>\n",
              "      <td>-5</td>\n",
              "      <td>49.5</td>\n",
              "    </tr>\n",
              "    <tr>\n",
              "      <th>1</th>\n",
              "      <td>-4</td>\n",
              "      <td>34.2</td>\n",
              "    </tr>\n",
              "    <tr>\n",
              "      <th>2</th>\n",
              "      <td>-3</td>\n",
              "      <td>22.3</td>\n",
              "    </tr>\n",
              "    <tr>\n",
              "      <th>3</th>\n",
              "      <td>-2</td>\n",
              "      <td>13.8</td>\n",
              "    </tr>\n",
              "    <tr>\n",
              "      <th>4</th>\n",
              "      <td>-1</td>\n",
              "      <td>8.7</td>\n",
              "    </tr>\n",
              "  </tbody>\n",
              "</table>\n",
              "</div>\n",
              "      <button class=\"colab-df-convert\" onclick=\"convertToInteractive('df-0d0027a1-9f41-4700-b807-a511c1fb3a4f')\"\n",
              "              title=\"Convert this dataframe to an interactive table.\"\n",
              "              style=\"display:none;\">\n",
              "        \n",
              "  <svg xmlns=\"http://www.w3.org/2000/svg\" height=\"24px\"viewBox=\"0 0 24 24\"\n",
              "       width=\"24px\">\n",
              "    <path d=\"M0 0h24v24H0V0z\" fill=\"none\"/>\n",
              "    <path d=\"M18.56 5.44l.94 2.06.94-2.06 2.06-.94-2.06-.94-.94-2.06-.94 2.06-2.06.94zm-11 1L8.5 8.5l.94-2.06 2.06-.94-2.06-.94L8.5 2.5l-.94 2.06-2.06.94zm10 10l.94 2.06.94-2.06 2.06-.94-2.06-.94-.94-2.06-.94 2.06-2.06.94z\"/><path d=\"M17.41 7.96l-1.37-1.37c-.4-.4-.92-.59-1.43-.59-.52 0-1.04.2-1.43.59L10.3 9.45l-7.72 7.72c-.78.78-.78 2.05 0 2.83L4 21.41c.39.39.9.59 1.41.59.51 0 1.02-.2 1.41-.59l7.78-7.78 2.81-2.81c.8-.78.8-2.07 0-2.86zM5.41 20L4 18.59l7.72-7.72 1.47 1.35L5.41 20z\"/>\n",
              "  </svg>\n",
              "      </button>\n",
              "      \n",
              "  <style>\n",
              "    .colab-df-container {\n",
              "      display:flex;\n",
              "      flex-wrap:wrap;\n",
              "      gap: 12px;\n",
              "    }\n",
              "\n",
              "    .colab-df-convert {\n",
              "      background-color: #E8F0FE;\n",
              "      border: none;\n",
              "      border-radius: 50%;\n",
              "      cursor: pointer;\n",
              "      display: none;\n",
              "      fill: #1967D2;\n",
              "      height: 32px;\n",
              "      padding: 0 0 0 0;\n",
              "      width: 32px;\n",
              "    }\n",
              "\n",
              "    .colab-df-convert:hover {\n",
              "      background-color: #E2EBFA;\n",
              "      box-shadow: 0px 1px 2px rgba(60, 64, 67, 0.3), 0px 1px 3px 1px rgba(60, 64, 67, 0.15);\n",
              "      fill: #174EA6;\n",
              "    }\n",
              "\n",
              "    [theme=dark] .colab-df-convert {\n",
              "      background-color: #3B4455;\n",
              "      fill: #D2E3FC;\n",
              "    }\n",
              "\n",
              "    [theme=dark] .colab-df-convert:hover {\n",
              "      background-color: #434B5C;\n",
              "      box-shadow: 0px 1px 3px 1px rgba(0, 0, 0, 0.15);\n",
              "      filter: drop-shadow(0px 1px 2px rgba(0, 0, 0, 0.3));\n",
              "      fill: #FFFFFF;\n",
              "    }\n",
              "  </style>\n",
              "\n",
              "      <script>\n",
              "        const buttonEl =\n",
              "          document.querySelector('#df-0d0027a1-9f41-4700-b807-a511c1fb3a4f button.colab-df-convert');\n",
              "        buttonEl.style.display =\n",
              "          google.colab.kernel.accessAllowed ? 'block' : 'none';\n",
              "\n",
              "        async function convertToInteractive(key) {\n",
              "          const element = document.querySelector('#df-0d0027a1-9f41-4700-b807-a511c1fb3a4f');\n",
              "          const dataTable =\n",
              "            await google.colab.kernel.invokeFunction('convertToInteractive',\n",
              "                                                     [key], {});\n",
              "          if (!dataTable) return;\n",
              "\n",
              "          const docLinkHtml = 'Like what you see? Visit the ' +\n",
              "            '<a target=\"_blank\" href=https://colab.research.google.com/notebooks/data_table.ipynb>data table notebook</a>'\n",
              "            + ' to learn more about interactive tables.';\n",
              "          element.innerHTML = '';\n",
              "          dataTable['output_type'] = 'display_data';\n",
              "          await google.colab.output.renderOutput(dataTable, element);\n",
              "          const docLink = document.createElement('div');\n",
              "          docLink.innerHTML = docLinkHtml;\n",
              "          element.appendChild(docLink);\n",
              "        }\n",
              "      </script>\n",
              "    </div>\n",
              "  </div>\n",
              "  "
            ],
            "text/plain": [
              "   X     Y\n",
              "0 -5  49.5\n",
              "1 -4  34.2\n",
              "2 -3  22.3\n",
              "3 -2  13.8\n",
              "4 -1   8.7"
            ]
          },
          "metadata": {},
          "execution_count": 5
        }
      ]
    },
    {
      "cell_type": "code",
      "source": [
        ""
      ],
      "metadata": {
        "colab": {
          "base_uri": "https://localhost:8080/",
          "height": 206
        },
        "id": "rdP4UWv_heB8",
        "outputId": "5c180c63-9acc-4a4a-de29-44b15edd53c6"
      },
      "execution_count": null,
      "outputs": [
        {
          "output_type": "execute_result",
          "data": {
            "text/html": [
              "\n",
              "  <div id=\"df-8ba11b6f-6669-4dc3-979d-4a3741ec0200\">\n",
              "    <div class=\"colab-df-container\">\n",
              "      <div>\n",
              "<style scoped>\n",
              "    .dataframe tbody tr th:only-of-type {\n",
              "        vertical-align: middle;\n",
              "    }\n",
              "\n",
              "    .dataframe tbody tr th {\n",
              "        vertical-align: top;\n",
              "    }\n",
              "\n",
              "    .dataframe thead th {\n",
              "        text-align: right;\n",
              "    }\n",
              "</style>\n",
              "<table border=\"1\" class=\"dataframe\">\n",
              "  <thead>\n",
              "    <tr style=\"text-align: right;\">\n",
              "      <th></th>\n",
              "      <th>X</th>\n",
              "      <th>Y</th>\n",
              "    </tr>\n",
              "  </thead>\n",
              "  <tbody>\n",
              "    <tr>\n",
              "      <th>0</th>\n",
              "      <td>-5</td>\n",
              "      <td>49.5</td>\n",
              "    </tr>\n",
              "    <tr>\n",
              "      <th>1</th>\n",
              "      <td>-4</td>\n",
              "      <td>34.2</td>\n",
              "    </tr>\n",
              "    <tr>\n",
              "      <th>2</th>\n",
              "      <td>-3</td>\n",
              "      <td>22.3</td>\n",
              "    </tr>\n",
              "    <tr>\n",
              "      <th>3</th>\n",
              "      <td>-2</td>\n",
              "      <td>13.8</td>\n",
              "    </tr>\n",
              "    <tr>\n",
              "      <th>4</th>\n",
              "      <td>-1</td>\n",
              "      <td>8.7</td>\n",
              "    </tr>\n",
              "  </tbody>\n",
              "</table>\n",
              "</div>\n",
              "      <button class=\"colab-df-convert\" onclick=\"convertToInteractive('df-8ba11b6f-6669-4dc3-979d-4a3741ec0200')\"\n",
              "              title=\"Convert this dataframe to an interactive table.\"\n",
              "              style=\"display:none;\">\n",
              "        \n",
              "  <svg xmlns=\"http://www.w3.org/2000/svg\" height=\"24px\"viewBox=\"0 0 24 24\"\n",
              "       width=\"24px\">\n",
              "    <path d=\"M0 0h24v24H0V0z\" fill=\"none\"/>\n",
              "    <path d=\"M18.56 5.44l.94 2.06.94-2.06 2.06-.94-2.06-.94-.94-2.06-.94 2.06-2.06.94zm-11 1L8.5 8.5l.94-2.06 2.06-.94-2.06-.94L8.5 2.5l-.94 2.06-2.06.94zm10 10l.94 2.06.94-2.06 2.06-.94-2.06-.94-.94-2.06-.94 2.06-2.06.94z\"/><path d=\"M17.41 7.96l-1.37-1.37c-.4-.4-.92-.59-1.43-.59-.52 0-1.04.2-1.43.59L10.3 9.45l-7.72 7.72c-.78.78-.78 2.05 0 2.83L4 21.41c.39.39.9.59 1.41.59.51 0 1.02-.2 1.41-.59l7.78-7.78 2.81-2.81c.8-.78.8-2.07 0-2.86zM5.41 20L4 18.59l7.72-7.72 1.47 1.35L5.41 20z\"/>\n",
              "  </svg>\n",
              "      </button>\n",
              "      \n",
              "  <style>\n",
              "    .colab-df-container {\n",
              "      display:flex;\n",
              "      flex-wrap:wrap;\n",
              "      gap: 12px;\n",
              "    }\n",
              "\n",
              "    .colab-df-convert {\n",
              "      background-color: #E8F0FE;\n",
              "      border: none;\n",
              "      border-radius: 50%;\n",
              "      cursor: pointer;\n",
              "      display: none;\n",
              "      fill: #1967D2;\n",
              "      height: 32px;\n",
              "      padding: 0 0 0 0;\n",
              "      width: 32px;\n",
              "    }\n",
              "\n",
              "    .colab-df-convert:hover {\n",
              "      background-color: #E2EBFA;\n",
              "      box-shadow: 0px 1px 2px rgba(60, 64, 67, 0.3), 0px 1px 3px 1px rgba(60, 64, 67, 0.15);\n",
              "      fill: #174EA6;\n",
              "    }\n",
              "\n",
              "    [theme=dark] .colab-df-convert {\n",
              "      background-color: #3B4455;\n",
              "      fill: #D2E3FC;\n",
              "    }\n",
              "\n",
              "    [theme=dark] .colab-df-convert:hover {\n",
              "      background-color: #434B5C;\n",
              "      box-shadow: 0px 1px 3px 1px rgba(0, 0, 0, 0.15);\n",
              "      filter: drop-shadow(0px 1px 2px rgba(0, 0, 0, 0.3));\n",
              "      fill: #FFFFFF;\n",
              "    }\n",
              "  </style>\n",
              "\n",
              "      <script>\n",
              "        const buttonEl =\n",
              "          document.querySelector('#df-8ba11b6f-6669-4dc3-979d-4a3741ec0200 button.colab-df-convert');\n",
              "        buttonEl.style.display =\n",
              "          google.colab.kernel.accessAllowed ? 'block' : 'none';\n",
              "\n",
              "        async function convertToInteractive(key) {\n",
              "          const element = document.querySelector('#df-8ba11b6f-6669-4dc3-979d-4a3741ec0200');\n",
              "          const dataTable =\n",
              "            await google.colab.kernel.invokeFunction('convertToInteractive',\n",
              "                                                     [key], {});\n",
              "          if (!dataTable) return;\n",
              "\n",
              "          const docLinkHtml = 'Like what you see? Visit the ' +\n",
              "            '<a target=\"_blank\" href=https://colab.research.google.com/notebooks/data_table.ipynb>data table notebook</a>'\n",
              "            + ' to learn more about interactive tables.';\n",
              "          element.innerHTML = '';\n",
              "          dataTable['output_type'] = 'display_data';\n",
              "          await google.colab.output.renderOutput(dataTable, element);\n",
              "          const docLink = document.createElement('div');\n",
              "          docLink.innerHTML = docLinkHtml;\n",
              "          element.appendChild(docLink);\n",
              "        }\n",
              "      </script>\n",
              "    </div>\n",
              "  </div>\n",
              "  "
            ],
            "text/plain": [
              "   X     Y\n",
              "0 -5  49.5\n",
              "1 -4  34.2\n",
              "2 -3  22.3\n",
              "3 -2  13.8\n",
              "4 -1   8.7"
            ]
          },
          "metadata": {},
          "execution_count": 17
        }
      ]
    },
    {
      "cell_type": "markdown",
      "source": [
        "Did not worked, scatter plot x with y axis."
      ],
      "metadata": {
        "id": "VQAw-ReLxRk2"
      }
    },
    {
      "cell_type": "code",
      "source": [
        "plt.scatter(x='X',y='Y',data=df1)"
      ],
      "metadata": {
        "id": "xt4qsCF6Nl1b",
        "colab": {
          "base_uri": "https://localhost:8080/",
          "height": 282
        },
        "outputId": "85adbc1b-5e59-4508-ff36-14cecc7d5c7b"
      },
      "execution_count": 6,
      "outputs": [
        {
          "output_type": "execute_result",
          "data": {
            "text/plain": [
              "<matplotlib.collections.PathCollection at 0x7f23087ec910>"
            ]
          },
          "metadata": {},
          "execution_count": 6
        },
        {
          "output_type": "display_data",
          "data": {
            "image/png": "[encoded data removed]",
            "text/plain": [
              "<Figure size 432x288 with 1 Axes>"
            ]
          },
          "metadata": {
            "needs_background": "light"
          }
        }
      ]
    },
    {
      "cell_type": "code",
      "source": [
        ""
      ],
      "metadata": {
        "colab": {
          "base_uri": "https://localhost:8080/",
          "height": 282
        },
        "id": "dQaGPrFcxYG6",
        "outputId": "ab937e55-beb2-425d-eed9-595cfb1808b2"
      },
      "execution_count": null,
      "outputs": [
        {
          "output_type": "execute_result",
          "data": {
            "text/plain": [
              "<matplotlib.collections.PathCollection at 0x7fe4c0850410>"
            ]
          },
          "metadata": {},
          "execution_count": 19
        },
        {
          "output_type": "display_data",
          "data": {
            "image/png": "[encoded data removed]",
            "text/plain": [
              "<Figure size 432x288 with 1 Axes>"
            ]
          },
          "metadata": {
            "needs_background": "light"
          }
        }
      ]
    },
    {
      "cell_type": "markdown",
      "source": [
        "Now u got it we need to add another feature to make LinearRegression recognize this pattern figure out the patterns by looking at the plot and add them."
      ],
      "metadata": {
        "id": "bhXQ8bkoxiyK"
      }
    },
    {
      "cell_type": "code",
      "source": [
        "df1['NewFeature'] = df1['X']*df1['X']\n",
        "df1"
      ],
      "metadata": {
        "id": "_9cqoPawNoZ4",
        "colab": {
          "base_uri": "https://localhost:8080/",
          "height": 394
        },
        "outputId": "058c9f2c-6995-4a7d-d1bf-4df5df1ea997"
      },
      "execution_count": 8,
      "outputs": [
        {
          "output_type": "execute_result",
          "data": {
            "text/html": [
              "\n",
              "  <div id=\"df-b2aa350d-4160-41c3-8286-10b5d481db88\">\n",
              "    <div class=\"colab-df-container\">\n",
              "      <div>\n",
              "<style scoped>\n",
              "    .dataframe tbody tr th:only-of-type {\n",
              "        vertical-align: middle;\n",
              "    }\n",
              "\n",
              "    .dataframe tbody tr th {\n",
              "        vertical-align: top;\n",
              "    }\n",
              "\n",
              "    .dataframe thead th {\n",
              "        text-align: right;\n",
              "    }\n",
              "</style>\n",
              "<table border=\"1\" class=\"dataframe\">\n",
              "  <thead>\n",
              "    <tr style=\"text-align: right;\">\n",
              "      <th></th>\n",
              "      <th>X</th>\n",
              "      <th>Y</th>\n",
              "      <th>NewFeature</th>\n",
              "    </tr>\n",
              "  </thead>\n",
              "  <tbody>\n",
              "    <tr>\n",
              "      <th>0</th>\n",
              "      <td>-5</td>\n",
              "      <td>49.5</td>\n",
              "      <td>25</td>\n",
              "    </tr>\n",
              "    <tr>\n",
              "      <th>1</th>\n",
              "      <td>-4</td>\n",
              "      <td>34.2</td>\n",
              "      <td>16</td>\n",
              "    </tr>\n",
              "    <tr>\n",
              "      <th>2</th>\n",
              "      <td>-3</td>\n",
              "      <td>22.3</td>\n",
              "      <td>9</td>\n",
              "    </tr>\n",
              "    <tr>\n",
              "      <th>3</th>\n",
              "      <td>-2</td>\n",
              "      <td>13.8</td>\n",
              "      <td>4</td>\n",
              "    </tr>\n",
              "    <tr>\n",
              "      <th>4</th>\n",
              "      <td>-1</td>\n",
              "      <td>8.7</td>\n",
              "      <td>1</td>\n",
              "    </tr>\n",
              "    <tr>\n",
              "      <th>5</th>\n",
              "      <td>0</td>\n",
              "      <td>7.0</td>\n",
              "      <td>0</td>\n",
              "    </tr>\n",
              "    <tr>\n",
              "      <th>6</th>\n",
              "      <td>1</td>\n",
              "      <td>8.7</td>\n",
              "      <td>1</td>\n",
              "    </tr>\n",
              "    <tr>\n",
              "      <th>7</th>\n",
              "      <td>2</td>\n",
              "      <td>13.8</td>\n",
              "      <td>4</td>\n",
              "    </tr>\n",
              "    <tr>\n",
              "      <th>8</th>\n",
              "      <td>3</td>\n",
              "      <td>22.3</td>\n",
              "      <td>9</td>\n",
              "    </tr>\n",
              "    <tr>\n",
              "      <th>9</th>\n",
              "      <td>4</td>\n",
              "      <td>34.2</td>\n",
              "      <td>16</td>\n",
              "    </tr>\n",
              "    <tr>\n",
              "      <th>10</th>\n",
              "      <td>5</td>\n",
              "      <td>49.5</td>\n",
              "      <td>25</td>\n",
              "    </tr>\n",
              "  </tbody>\n",
              "</table>\n",
              "</div>\n",
              "      <button class=\"colab-df-convert\" onclick=\"convertToInteractive('df-b2aa350d-4160-41c3-8286-10b5d481db88')\"\n",
              "              title=\"Convert this dataframe to an interactive table.\"\n",
              "              style=\"display:none;\">\n",
              "        \n",
              "  <svg xmlns=\"http://www.w3.org/2000/svg\" height=\"24px\"viewBox=\"0 0 24 24\"\n",
              "       width=\"24px\">\n",
              "    <path d=\"M0 0h24v24H0V0z\" fill=\"none\"/>\n",
              "    <path d=\"M18.56 5.44l.94 2.06.94-2.06 2.06-.94-2.06-.94-.94-2.06-.94 2.06-2.06.94zm-11 1L8.5 8.5l.94-2.06 2.06-.94-2.06-.94L8.5 2.5l-.94 2.06-2.06.94zm10 10l.94 2.06.94-2.06 2.06-.94-2.06-.94-.94-2.06-.94 2.06-2.06.94z\"/><path d=\"M17.41 7.96l-1.37-1.37c-.4-.4-.92-.59-1.43-.59-.52 0-1.04.2-1.43.59L10.3 9.45l-7.72 7.72c-.78.78-.78 2.05 0 2.83L4 21.41c.39.39.9.59 1.41.59.51 0 1.02-.2 1.41-.59l7.78-7.78 2.81-2.81c.8-.78.8-2.07 0-2.86zM5.41 20L4 18.59l7.72-7.72 1.47 1.35L5.41 20z\"/>\n",
              "  </svg>\n",
              "      </button>\n",
              "      \n",
              "  <style>\n",
              "    .colab-df-container {\n",
              "      display:flex;\n",
              "      flex-wrap:wrap;\n",
              "      gap: 12px;\n",
              "    }\n",
              "\n",
              "    .colab-df-convert {\n",
              "      background-color: #E8F0FE;\n",
              "      border: none;\n",
              "      border-radius: 50%;\n",
              "      cursor: pointer;\n",
              "      display: none;\n",
              "      fill: #1967D2;\n",
              "      height: 32px;\n",
              "      padding: 0 0 0 0;\n",
              "      width: 32px;\n",
              "    }\n",
              "\n",
              "    .colab-df-convert:hover {\n",
              "      background-color: #E2EBFA;\n",
              "      box-shadow: 0px 1px 2px rgba(60, 64, 67, 0.3), 0px 1px 3px 1px rgba(60, 64, 67, 0.15);\n",
              "      fill: #174EA6;\n",
              "    }\n",
              "\n",
              "    [theme=dark] .colab-df-convert {\n",
              "      background-color: #3B4455;\n",
              "      fill: #D2E3FC;\n",
              "    }\n",
              "\n",
              "    [theme=dark] .colab-df-convert:hover {\n",
              "      background-color: #434B5C;\n",
              "      box-shadow: 0px 1px 3px 1px rgba(0, 0, 0, 0.15);\n",
              "      filter: drop-shadow(0px 1px 2px rgba(0, 0, 0, 0.3));\n",
              "      fill: #FFFFFF;\n",
              "    }\n",
              "  </style>\n",
              "\n",
              "      <script>\n",
              "        const buttonEl =\n",
              "          document.querySelector('#df-b2aa350d-4160-41c3-8286-10b5d481db88 button.colab-df-convert');\n",
              "        buttonEl.style.display =\n",
              "          google.colab.kernel.accessAllowed ? 'block' : 'none';\n",
              "\n",
              "        async function convertToInteractive(key) {\n",
              "          const element = document.querySelector('#df-b2aa350d-4160-41c3-8286-10b5d481db88');\n",
              "          const dataTable =\n",
              "            await google.colab.kernel.invokeFunction('convertToInteractive',\n",
              "                                                     [key], {});\n",
              "          if (!dataTable) return;\n",
              "\n",
              "          const docLinkHtml = 'Like what you see? Visit the ' +\n",
              "            '<a target=\"_blank\" href=https://colab.research.google.com/notebooks/data_table.ipynb>data table notebook</a>'\n",
              "            + ' to learn more about interactive tables.';\n",
              "          element.innerHTML = '';\n",
              "          dataTable['output_type'] = 'display_data';\n",
              "          await google.colab.output.renderOutput(dataTable, element);\n",
              "          const docLink = document.createElement('div');\n",
              "          docLink.innerHTML = docLinkHtml;\n",
              "          element.appendChild(docLink);\n",
              "        }\n",
              "      </script>\n",
              "    </div>\n",
              "  </div>\n",
              "  "
            ],
            "text/plain": [
              "    X     Y  NewFeature\n",
              "0  -5  49.5          25\n",
              "1  -4  34.2          16\n",
              "2  -3  22.3           9\n",
              "3  -2  13.8           4\n",
              "4  -1   8.7           1\n",
              "5   0   7.0           0\n",
              "6   1   8.7           1\n",
              "7   2  13.8           4\n",
              "8   3  22.3           9\n",
              "9   4  34.2          16\n",
              "10  5  49.5          25"
            ]
          },
          "metadata": {},
          "execution_count": 8
        }
      ]
    },
    {
      "cell_type": "markdown",
      "source": [
        "**Split X and Y**"
      ],
      "metadata": {
        "id": "ISVJmGv-N2n6"
      }
    },
    {
      "cell_type": "code",
      "source": [
        "sample_X = df1.drop( 'Y' , axis = 1)\n",
        "sample_Y = df1[ 'Y' ]"
      ],
      "metadata": {
        "id": "sznqp10izS23"
      },
      "execution_count": 9,
      "outputs": []
    },
    {
      "cell_type": "code",
      "source": [
        "print(sample_X)\n",
        "print(sample_Y)"
      ],
      "metadata": {
        "id": "GYTEILMi-QF7",
        "outputId": "d56b4449-733c-4b9d-992d-86af30732b4a",
        "colab": {
          "base_uri": "https://localhost:8080/"
        }
      },
      "execution_count": 10,
      "outputs": [
        {
          "output_type": "stream",
          "name": "stdout",
          "text": [
            "    X  NewFeature\n",
            "0  -5          25\n",
            "1  -4          16\n",
            "2  -3           9\n",
            "3  -2           4\n",
            "4  -1           1\n",
            "5   0           0\n",
            "6   1           1\n",
            "7   2           4\n",
            "8   3           9\n",
            "9   4          16\n",
            "10  5          25\n",
            "0     49.5\n",
            "1     34.2\n",
            "2     22.3\n",
            "3     13.8\n",
            "4      8.7\n",
            "5      7.0\n",
            "6      8.7\n",
            "7     13.8\n",
            "8     22.3\n",
            "9     34.2\n",
            "10    49.5\n",
            "Name: Y, dtype: float64\n"
          ]
        }
      ]
    },
    {
      "cell_type": "markdown",
      "source": [
        "Create LinearRegression object and fit data sample_X and sample_Y"
      ],
      "metadata": {
        "id": "KZk9fIKYzbIP"
      }
    },
    {
      "cell_type": "code",
      "source": [
        "from sklearn.linear_model import LinearRegression\n",
        "\n",
        "lin_reg = LinearRegression()\n",
        "lin_reg.fit(sample_X, sample_Y)"
      ],
      "metadata": {
        "id": "Lhbttm4FzoSm",
        "colab": {
          "base_uri": "https://localhost:8080/"
        },
        "outputId": "2834ca38-758a-4c34-ecb8-4777037ba95c"
      },
      "execution_count": 11,
      "outputs": [
        {
          "output_type": "execute_result",
          "data": {
            "text/plain": [
              "LinearRegression()"
            ]
          },
          "metadata": {},
          "execution_count": 11
        }
      ]
    },
    {
      "cell_type": "code",
      "source": [
        ""
      ],
      "metadata": {
        "id": "wX69b2pjEyu0",
        "colab": {
          "base_uri": "https://localhost:8080/"
        },
        "outputId": "49e6d7b8-81f6-4a54-e5c5-1c839f57fc8c"
      },
      "execution_count": null,
      "outputs": [
        {
          "output_type": "execute_result",
          "data": {
            "text/plain": [
              "LinearRegression()"
            ]
          },
          "metadata": {},
          "execution_count": 24
        }
      ]
    },
    {
      "cell_type": "markdown",
      "source": [
        "**Predict the result**"
      ],
      "metadata": {
        "id": "tDcp03e0OCTL"
      }
    },
    {
      "cell_type": "code",
      "source": [
        "y_pred = lin_reg.predict(sample_X)"
      ],
      "metadata": {
        "id": "q8uYE5Bw0B5q"
      },
      "execution_count": 12,
      "outputs": []
    },
    {
      "cell_type": "markdown",
      "source": [
        "**Plot actual data and predicted data**"
      ],
      "metadata": {
        "id": "M9aQkNz6OHGj"
      }
    },
    {
      "cell_type": "code",
      "source": [
        "plt.scatter(sample_X['X'],sample_Y, label = 'actual')\n",
        "plt.plot(sample_X['X'],y_pred, label = 'predicted', color = 'red')\n",
        "\n",
        "plt.legend()"
      ],
      "metadata": {
        "id": "uzTHCwJTOLDI",
        "colab": {
          "base_uri": "https://localhost:8080/",
          "height": 282
        },
        "outputId": "915c1005-33ff-4923-81f9-d7bd1d37ce0b"
      },
      "execution_count": 14,
      "outputs": [
        {
          "output_type": "execute_result",
          "data": {
            "text/plain": [
              "<matplotlib.legend.Legend at 0x7f22f5539bd0>"
            ]
          },
          "metadata": {},
          "execution_count": 14
        },
        {
          "output_type": "display_data",
          "data": {
            "image/png": "[encoded data removed]",
            "text/plain": [
              "<Figure size 432x288 with 1 Axes>"
            ]
          },
          "metadata": {
            "needs_background": "light"
          }
        }
      ]
    },
    {
      "cell_type": "code",
      "source": [
        ""
      ],
      "metadata": {
        "colab": {
          "base_uri": "https://localhost:8080/",
          "height": 282
        },
        "id": "Tcp72OvCz3Nh",
        "outputId": "aeceeeba-fb0c-4084-e231-2aecf0986e7b"
      },
      "execution_count": null,
      "outputs": [
        {
          "output_type": "execute_result",
          "data": {
            "text/plain": [
              "<matplotlib.legend.Legend at 0x7fe4ae8b1090>"
            ]
          },
          "metadata": {},
          "execution_count": 29
        },
        {
          "output_type": "display_data",
          "data": {
            "image/png": "[encoded data removed]",
            "text/plain": [
              "<Figure size 432x288 with 1 Axes>"
            ]
          },
          "metadata": {
            "needs_background": "light"
          }
        }
      ]
    },
    {
      "cell_type": "markdown",
      "source": [
        "**WOW u made it, Hurray!!!**\n",
        "\n",
        "Here's another one, Have Fun solving it :)"
      ],
      "metadata": {
        "id": "wiC3jADn67AN"
      }
    },
    {
      "cell_type": "code",
      "source": [
        "data3 = {'X':[-5. , -4. , -3. , -2. , -1. ,0. ,  1. ,  2. ,  2.33333333,  2.66666667,3. ,  3.33333333,  3.66666667,  4. ,  4.33333333,4.66666667,  5. ,  5. ,  6. ,  7. ,8. ,  9. , 10. , 11. , 12.,13.],\n",
        "         'Y': [-1.07984907e+02, -1.07958973e+02, -1.07888477e+02, -1.07696849e+02,-1.07175950e+02, -1.05760000e+02, -1.01911049e+02, -9.14485143e+01,-8.49005410e+01, -7.57621078e+01, -6.30083973e+01, -4.52091604e+01,-2.03683236e+01,  1.42998561e+01,  6.26831982e+01,  1.30207594e+02, 2.24445476e+02,  2.24445476e+02,  7.95680497e+02,  2.34845827e+03, 6.56934589e+03,  1.80429080e+04,  4.92312834e+04,  1.34010077e+05, 3.64462733e+05,  9.90897998e+05]}\n",
        "\n",
        "df3 = pd.DataFrame(data3)"
      ],
      "metadata": {
        "id": "1EvWPrmP7UDA"
      },
      "execution_count": 15,
      "outputs": []
    },
    {
      "cell_type": "code",
      "source": [
        "df3.head()"
      ],
      "metadata": {
        "colab": {
          "base_uri": "https://localhost:8080/",
          "height": 206
        },
        "id": "Bsg7-n1v82yr",
        "outputId": "25dec7dc-41fa-43e0-8c3d-cd998c275b4e"
      },
      "execution_count": 16,
      "outputs": [
        {
          "output_type": "execute_result",
          "data": {
            "text/html": [
              "\n",
              "  <div id=\"df-5d254230-f30e-4838-880b-3ea584d693cb\">\n",
              "    <div class=\"colab-df-container\">\n",
              "      <div>\n",
              "<style scoped>\n",
              "    .dataframe tbody tr th:only-of-type {\n",
              "        vertical-align: middle;\n",
              "    }\n",
              "\n",
              "    .dataframe tbody tr th {\n",
              "        vertical-align: top;\n",
              "    }\n",
              "\n",
              "    .dataframe thead th {\n",
              "        text-align: right;\n",
              "    }\n",
              "</style>\n",
              "<table border=\"1\" class=\"dataframe\">\n",
              "  <thead>\n",
              "    <tr style=\"text-align: right;\">\n",
              "      <th></th>\n",
              "      <th>X</th>\n",
              "      <th>Y</th>\n",
              "    </tr>\n",
              "  </thead>\n",
              "  <tbody>\n",
              "    <tr>\n",
              "      <th>0</th>\n",
              "      <td>-5.0</td>\n",
              "      <td>-107.984907</td>\n",
              "    </tr>\n",
              "    <tr>\n",
              "      <th>1</th>\n",
              "      <td>-4.0</td>\n",
              "      <td>-107.958973</td>\n",
              "    </tr>\n",
              "    <tr>\n",
              "      <th>2</th>\n",
              "      <td>-3.0</td>\n",
              "      <td>-107.888477</td>\n",
              "    </tr>\n",
              "    <tr>\n",
              "      <th>3</th>\n",
              "      <td>-2.0</td>\n",
              "      <td>-107.696849</td>\n",
              "    </tr>\n",
              "    <tr>\n",
              "      <th>4</th>\n",
              "      <td>-1.0</td>\n",
              "      <td>-107.175950</td>\n",
              "    </tr>\n",
              "  </tbody>\n",
              "</table>\n",
              "</div>\n",
              "      <button class=\"colab-df-convert\" onclick=\"convertToInteractive('df-5d254230-f30e-4838-880b-3ea584d693cb')\"\n",
              "              title=\"Convert this dataframe to an interactive table.\"\n",
              "              style=\"display:none;\">\n",
              "        \n",
              "  <svg xmlns=\"http://www.w3.org/2000/svg\" height=\"24px\"viewBox=\"0 0 24 24\"\n",
              "       width=\"24px\">\n",
              "    <path d=\"M0 0h24v24H0V0z\" fill=\"none\"/>\n",
              "    <path d=\"M18.56 5.44l.94 2.06.94-2.06 2.06-.94-2.06-.94-.94-2.06-.94 2.06-2.06.94zm-11 1L8.5 8.5l.94-2.06 2.06-.94-2.06-.94L8.5 2.5l-.94 2.06-2.06.94zm10 10l.94 2.06.94-2.06 2.06-.94-2.06-.94-.94-2.06-.94 2.06-2.06.94z\"/><path d=\"M17.41 7.96l-1.37-1.37c-.4-.4-.92-.59-1.43-.59-.52 0-1.04.2-1.43.59L10.3 9.45l-7.72 7.72c-.78.78-.78 2.05 0 2.83L4 21.41c.39.39.9.59 1.41.59.51 0 1.02-.2 1.41-.59l7.78-7.78 2.81-2.81c.8-.78.8-2.07 0-2.86zM5.41 20L4 18.59l7.72-7.72 1.47 1.35L5.41 20z\"/>\n",
              "  </svg>\n",
              "      </button>\n",
              "      \n",
              "  <style>\n",
              "    .colab-df-container {\n",
              "      display:flex;\n",
              "      flex-wrap:wrap;\n",
              "      gap: 12px;\n",
              "    }\n",
              "\n",
              "    .colab-df-convert {\n",
              "      background-color: #E8F0FE;\n",
              "      border: none;\n",
              "      border-radius: 50%;\n",
              "      cursor: pointer;\n",
              "      display: none;\n",
              "      fill: #1967D2;\n",
              "      height: 32px;\n",
              "      padding: 0 0 0 0;\n",
              "      width: 32px;\n",
              "    }\n",
              "\n",
              "    .colab-df-convert:hover {\n",
              "      background-color: #E2EBFA;\n",
              "      box-shadow: 0px 1px 2px rgba(60, 64, 67, 0.3), 0px 1px 3px 1px rgba(60, 64, 67, 0.15);\n",
              "      fill: #174EA6;\n",
              "    }\n",
              "\n",
              "    [theme=dark] .colab-df-convert {\n",
              "      background-color: #3B4455;\n",
              "      fill: #D2E3FC;\n",
              "    }\n",
              "\n",
              "    [theme=dark] .colab-df-convert:hover {\n",
              "      background-color: #434B5C;\n",
              "      box-shadow: 0px 1px 3px 1px rgba(0, 0, 0, 0.15);\n",
              "      filter: drop-shadow(0px 1px 2px rgba(0, 0, 0, 0.3));\n",
              "      fill: #FFFFFF;\n",
              "    }\n",
              "  </style>\n",
              "\n",
              "      <script>\n",
              "        const buttonEl =\n",
              "          document.querySelector('#df-5d254230-f30e-4838-880b-3ea584d693cb button.colab-df-convert');\n",
              "        buttonEl.style.display =\n",
              "          google.colab.kernel.accessAllowed ? 'block' : 'none';\n",
              "\n",
              "        async function convertToInteractive(key) {\n",
              "          const element = document.querySelector('#df-5d254230-f30e-4838-880b-3ea584d693cb');\n",
              "          const dataTable =\n",
              "            await google.colab.kernel.invokeFunction('convertToInteractive',\n",
              "                                                     [key], {});\n",
              "          if (!dataTable) return;\n",
              "\n",
              "          const docLinkHtml = 'Like what you see? Visit the ' +\n",
              "            '<a target=\"_blank\" href=https://colab.research.google.com/notebooks/data_table.ipynb>data table notebook</a>'\n",
              "            + ' to learn more about interactive tables.';\n",
              "          element.innerHTML = '';\n",
              "          dataTable['output_type'] = 'display_data';\n",
              "          await google.colab.output.renderOutput(dataTable, element);\n",
              "          const docLink = document.createElement('div');\n",
              "          docLink.innerHTML = docLinkHtml;\n",
              "          element.appendChild(docLink);\n",
              "        }\n",
              "      </script>\n",
              "    </div>\n",
              "  </div>\n",
              "  "
            ],
            "text/plain": [
              "     X           Y\n",
              "0 -5.0 -107.984907\n",
              "1 -4.0 -107.958973\n",
              "2 -3.0 -107.888477\n",
              "3 -2.0 -107.696849\n",
              "4 -1.0 -107.175950"
            ]
          },
          "metadata": {},
          "execution_count": 16
        }
      ]
    },
    {
      "cell_type": "markdown",
      "source": [
        "plot the data then add new necessary features"
      ],
      "metadata": {
        "id": "NkQ8UU6s7UDD"
      }
    },
    {
      "cell_type": "code",
      "source": [
        "df3"
      ],
      "metadata": {
        "id": "hUqq14LI-WYE",
        "colab": {
          "base_uri": "https://localhost:8080/",
          "height": 865
        },
        "outputId": "f40bfa8c-2e87-45a5-b196-241d3640ccde"
      },
      "execution_count": 17,
      "outputs": [
        {
          "output_type": "execute_result",
          "data": {
            "text/html": [
              "\n",
              "  <div id=\"df-63e9dc1c-daa6-48a0-82b2-43a15424c5bb\">\n",
              "    <div class=\"colab-df-container\">\n",
              "      <div>\n",
              "<style scoped>\n",
              "    .dataframe tbody tr th:only-of-type {\n",
              "        vertical-align: middle;\n",
              "    }\n",
              "\n",
              "    .dataframe tbody tr th {\n",
              "        vertical-align: top;\n",
              "    }\n",
              "\n",
              "    .dataframe thead th {\n",
              "        text-align: right;\n",
              "    }\n",
              "</style>\n",
              "<table border=\"1\" class=\"dataframe\">\n",
              "  <thead>\n",
              "    <tr style=\"text-align: right;\">\n",
              "      <th></th>\n",
              "      <th>X</th>\n",
              "      <th>Y</th>\n",
              "    </tr>\n",
              "  </thead>\n",
              "  <tbody>\n",
              "    <tr>\n",
              "      <th>0</th>\n",
              "      <td>-5.000000</td>\n",
              "      <td>-107.984907</td>\n",
              "    </tr>\n",
              "    <tr>\n",
              "      <th>1</th>\n",
              "      <td>-4.000000</td>\n",
              "      <td>-107.958973</td>\n",
              "    </tr>\n",
              "    <tr>\n",
              "      <th>2</th>\n",
              "      <td>-3.000000</td>\n",
              "      <td>-107.888477</td>\n",
              "    </tr>\n",
              "    <tr>\n",
              "      <th>3</th>\n",
              "      <td>-2.000000</td>\n",
              "      <td>-107.696849</td>\n",
              "    </tr>\n",
              "    <tr>\n",
              "      <th>4</th>\n",
              "      <td>-1.000000</td>\n",
              "      <td>-107.175950</td>\n",
              "    </tr>\n",
              "    <tr>\n",
              "      <th>5</th>\n",
              "      <td>0.000000</td>\n",
              "      <td>-105.760000</td>\n",
              "    </tr>\n",
              "    <tr>\n",
              "      <th>6</th>\n",
              "      <td>1.000000</td>\n",
              "      <td>-101.911049</td>\n",
              "    </tr>\n",
              "    <tr>\n",
              "      <th>7</th>\n",
              "      <td>2.000000</td>\n",
              "      <td>-91.448514</td>\n",
              "    </tr>\n",
              "    <tr>\n",
              "      <th>8</th>\n",
              "      <td>2.333333</td>\n",
              "      <td>-84.900541</td>\n",
              "    </tr>\n",
              "    <tr>\n",
              "      <th>9</th>\n",
              "      <td>2.666667</td>\n",
              "      <td>-75.762108</td>\n",
              "    </tr>\n",
              "    <tr>\n",
              "      <th>10</th>\n",
              "      <td>3.000000</td>\n",
              "      <td>-63.008397</td>\n",
              "    </tr>\n",
              "    <tr>\n",
              "      <th>11</th>\n",
              "      <td>3.333333</td>\n",
              "      <td>-45.209160</td>\n",
              "    </tr>\n",
              "    <tr>\n",
              "      <th>12</th>\n",
              "      <td>3.666667</td>\n",
              "      <td>-20.368324</td>\n",
              "    </tr>\n",
              "    <tr>\n",
              "      <th>13</th>\n",
              "      <td>4.000000</td>\n",
              "      <td>14.299856</td>\n",
              "    </tr>\n",
              "    <tr>\n",
              "      <th>14</th>\n",
              "      <td>4.333333</td>\n",
              "      <td>62.683198</td>\n",
              "    </tr>\n",
              "    <tr>\n",
              "      <th>15</th>\n",
              "      <td>4.666667</td>\n",
              "      <td>130.207594</td>\n",
              "    </tr>\n",
              "    <tr>\n",
              "      <th>16</th>\n",
              "      <td>5.000000</td>\n",
              "      <td>224.445476</td>\n",
              "    </tr>\n",
              "    <tr>\n",
              "      <th>17</th>\n",
              "      <td>5.000000</td>\n",
              "      <td>224.445476</td>\n",
              "    </tr>\n",
              "    <tr>\n",
              "      <th>18</th>\n",
              "      <td>6.000000</td>\n",
              "      <td>795.680497</td>\n",
              "    </tr>\n",
              "    <tr>\n",
              "      <th>19</th>\n",
              "      <td>7.000000</td>\n",
              "      <td>2348.458270</td>\n",
              "    </tr>\n",
              "    <tr>\n",
              "      <th>20</th>\n",
              "      <td>8.000000</td>\n",
              "      <td>6569.345890</td>\n",
              "    </tr>\n",
              "    <tr>\n",
              "      <th>21</th>\n",
              "      <td>9.000000</td>\n",
              "      <td>18042.908000</td>\n",
              "    </tr>\n",
              "    <tr>\n",
              "      <th>22</th>\n",
              "      <td>10.000000</td>\n",
              "      <td>49231.283400</td>\n",
              "    </tr>\n",
              "    <tr>\n",
              "      <th>23</th>\n",
              "      <td>11.000000</td>\n",
              "      <td>134010.077000</td>\n",
              "    </tr>\n",
              "    <tr>\n",
              "      <th>24</th>\n",
              "      <td>12.000000</td>\n",
              "      <td>364462.733000</td>\n",
              "    </tr>\n",
              "    <tr>\n",
              "      <th>25</th>\n",
              "      <td>13.000000</td>\n",
              "      <td>990897.998000</td>\n",
              "    </tr>\n",
              "  </tbody>\n",
              "</table>\n",
              "</div>\n",
              "      <button class=\"colab-df-convert\" onclick=\"convertToInteractive('df-63e9dc1c-daa6-48a0-82b2-43a15424c5bb')\"\n",
              "              title=\"Convert this dataframe to an interactive table.\"\n",
              "              style=\"display:none;\">\n",
              "        \n",
              "  <svg xmlns=\"http://www.w3.org/2000/svg\" height=\"24px\"viewBox=\"0 0 24 24\"\n",
              "       width=\"24px\">\n",
              "    <path d=\"M0 0h24v24H0V0z\" fill=\"none\"/>\n",
              "    <path d=\"M18.56 5.44l.94 2.06.94-2.06 2.06-.94-2.06-.94-.94-2.06-.94 2.06-2.06.94zm-11 1L8.5 8.5l.94-2.06 2.06-.94-2.06-.94L8.5 2.5l-.94 2.06-2.06.94zm10 10l.94 2.06.94-2.06 2.06-.94-2.06-.94-.94-2.06-.94 2.06-2.06.94z\"/><path d=\"M17.41 7.96l-1.37-1.37c-.4-.4-.92-.59-1.43-.59-.52 0-1.04.2-1.43.59L10.3 9.45l-7.72 7.72c-.78.78-.78 2.05 0 2.83L4 21.41c.39.39.9.59 1.41.59.51 0 1.02-.2 1.41-.59l7.78-7.78 2.81-2.81c.8-.78.8-2.07 0-2.86zM5.41 20L4 18.59l7.72-7.72 1.47 1.35L5.41 20z\"/>\n",
              "  </svg>\n",
              "      </button>\n",
              "      \n",
              "  <style>\n",
              "    .colab-df-container {\n",
              "      display:flex;\n",
              "      flex-wrap:wrap;\n",
              "      gap: 12px;\n",
              "    }\n",
              "\n",
              "    .colab-df-convert {\n",
              "      background-color: #E8F0FE;\n",
              "      border: none;\n",
              "      border-radius: 50%;\n",
              "      cursor: pointer;\n",
              "      display: none;\n",
              "      fill: #1967D2;\n",
              "      height: 32px;\n",
              "      padding: 0 0 0 0;\n",
              "      width: 32px;\n",
              "    }\n",
              "\n",
              "    .colab-df-convert:hover {\n",
              "      background-color: #E2EBFA;\n",
              "      box-shadow: 0px 1px 2px rgba(60, 64, 67, 0.3), 0px 1px 3px 1px rgba(60, 64, 67, 0.15);\n",
              "      fill: #174EA6;\n",
              "    }\n",
              "\n",
              "    [theme=dark] .colab-df-convert {\n",
              "      background-color: #3B4455;\n",
              "      fill: #D2E3FC;\n",
              "    }\n",
              "\n",
              "    [theme=dark] .colab-df-convert:hover {\n",
              "      background-color: #434B5C;\n",
              "      box-shadow: 0px 1px 3px 1px rgba(0, 0, 0, 0.15);\n",
              "      filter: drop-shadow(0px 1px 2px rgba(0, 0, 0, 0.3));\n",
              "      fill: #FFFFFF;\n",
              "    }\n",
              "  </style>\n",
              "\n",
              "      <script>\n",
              "        const buttonEl =\n",
              "          document.querySelector('#df-63e9dc1c-daa6-48a0-82b2-43a15424c5bb button.colab-df-convert');\n",
              "        buttonEl.style.display =\n",
              "          google.colab.kernel.accessAllowed ? 'block' : 'none';\n",
              "\n",
              "        async function convertToInteractive(key) {\n",
              "          const element = document.querySelector('#df-63e9dc1c-daa6-48a0-82b2-43a15424c5bb');\n",
              "          const dataTable =\n",
              "            await google.colab.kernel.invokeFunction('convertToInteractive',\n",
              "                                                     [key], {});\n",
              "          if (!dataTable) return;\n",
              "\n",
              "          const docLinkHtml = 'Like what you see? Visit the ' +\n",
              "            '<a target=\"_blank\" href=https://colab.research.google.com/notebooks/data_table.ipynb>data table notebook</a>'\n",
              "            + ' to learn more about interactive tables.';\n",
              "          element.innerHTML = '';\n",
              "          dataTable['output_type'] = 'display_data';\n",
              "          await google.colab.output.renderOutput(dataTable, element);\n",
              "          const docLink = document.createElement('div');\n",
              "          docLink.innerHTML = docLinkHtml;\n",
              "          element.appendChild(docLink);\n",
              "        }\n",
              "      </script>\n",
              "    </div>\n",
              "  </div>\n",
              "  "
            ],
            "text/plain": [
              "            X              Y\n",
              "0   -5.000000    -107.984907\n",
              "1   -4.000000    -107.958973\n",
              "2   -3.000000    -107.888477\n",
              "3   -2.000000    -107.696849\n",
              "4   -1.000000    -107.175950\n",
              "5    0.000000    -105.760000\n",
              "6    1.000000    -101.911049\n",
              "7    2.000000     -91.448514\n",
              "8    2.333333     -84.900541\n",
              "9    2.666667     -75.762108\n",
              "10   3.000000     -63.008397\n",
              "11   3.333333     -45.209160\n",
              "12   3.666667     -20.368324\n",
              "13   4.000000      14.299856\n",
              "14   4.333333      62.683198\n",
              "15   4.666667     130.207594\n",
              "16   5.000000     224.445476\n",
              "17   5.000000     224.445476\n",
              "18   6.000000     795.680497\n",
              "19   7.000000    2348.458270\n",
              "20   8.000000    6569.345890\n",
              "21   9.000000   18042.908000\n",
              "22  10.000000   49231.283400\n",
              "23  11.000000  134010.077000\n",
              "24  12.000000  364462.733000\n",
              "25  13.000000  990897.998000"
            ]
          },
          "metadata": {},
          "execution_count": 17
        }
      ]
    },
    {
      "cell_type": "code",
      "source": [
        "plt.plot('X','Y',data=df3)"
      ],
      "metadata": {
        "colab": {
          "base_uri": "https://localhost:8080/",
          "height": 383
        },
        "id": "Y5jVZ8DX9HGZ",
        "outputId": "f0e05288-fe04-45c5-e840-090f1a73a5cd"
      },
      "execution_count": 22,
      "outputs": [
        {
          "output_type": "stream",
          "name": "stderr",
          "text": [
            "/usr/local/lib/python3.7/dist-packages/ipykernel_launcher.py:1: MatplotlibDeprecationWarning: Support for uppercase single-letter colors is deprecated since Matplotlib 3.1 and will be removed in 3.3; please use lowercase instead.\n",
            "  \"\"\"Entry point for launching an IPython kernel.\n",
            "/usr/local/lib/python3.7/dist-packages/ipykernel_launcher.py:1: RuntimeWarning: Second argument 'Y' is ambiguous: could be a format string but is in 'data'; using as data.  If it was intended as data, set the format string to an empty string to suppress this warning.  If it was intended as a format string, explicitly pass the x-values as well.  Alternatively, rename the entry in 'data'.\n",
            "  \"\"\"Entry point for launching an IPython kernel.\n"
          ]
        },
        {
          "output_type": "execute_result",
          "data": {
            "text/plain": [
              "[<matplotlib.lines.Line2D at 0x7f22f50f96d0>]"
            ]
          },
          "metadata": {},
          "execution_count": 22
        },
        {
          "output_type": "display_data",
          "data": {
            "image/png": "[encoded data removed]",
            "text/plain": [
              "<Figure size 432x288 with 1 Axes>"
            ]
          },
          "metadata": {
            "needs_background": "light"
          }
        }
      ]
    },
    {
      "cell_type": "markdown",
      "source": [
        "**add new necessary feature's**"
      ],
      "metadata": {
        "id": "r1To5Mdn-ofH"
      }
    },
    {
      "cell_type": "code",
      "source": [
        "df3['NewFeature'] = df3['X']*df3['Y']\n",
        "df3.head()"
      ],
      "metadata": {
        "id": "oYpDIhtB7UDI",
        "colab": {
          "base_uri": "https://localhost:8080/",
          "height": 206
        },
        "outputId": "d3454708-279e-4441-daa8-99a28876f0e1"
      },
      "execution_count": 31,
      "outputs": [
        {
          "output_type": "execute_result",
          "data": {
            "text/html": [
              "\n",
              "  <div id=\"df-b2266754-fdd1-448d-8035-2b9f46f61a3c\">\n",
              "    <div class=\"colab-df-container\">\n",
              "      <div>\n",
              "<style scoped>\n",
              "    .dataframe tbody tr th:only-of-type {\n",
              "        vertical-align: middle;\n",
              "    }\n",
              "\n",
              "    .dataframe tbody tr th {\n",
              "        vertical-align: top;\n",
              "    }\n",
              "\n",
              "    .dataframe thead th {\n",
              "        text-align: right;\n",
              "    }\n",
              "</style>\n",
              "<table border=\"1\" class=\"dataframe\">\n",
              "  <thead>\n",
              "    <tr style=\"text-align: right;\">\n",
              "      <th></th>\n",
              "      <th>X</th>\n",
              "      <th>Y</th>\n",
              "      <th>NewFeature</th>\n",
              "    </tr>\n",
              "  </thead>\n",
              "  <tbody>\n",
              "    <tr>\n",
              "      <th>0</th>\n",
              "      <td>-5.0</td>\n",
              "      <td>-107.984907</td>\n",
              "      <td>539.924535</td>\n",
              "    </tr>\n",
              "    <tr>\n",
              "      <th>1</th>\n",
              "      <td>-4.0</td>\n",
              "      <td>-107.958973</td>\n",
              "      <td>431.835892</td>\n",
              "    </tr>\n",
              "    <tr>\n",
              "      <th>2</th>\n",
              "      <td>-3.0</td>\n",
              "      <td>-107.888477</td>\n",
              "      <td>323.665431</td>\n",
              "    </tr>\n",
              "    <tr>\n",
              "      <th>3</th>\n",
              "      <td>-2.0</td>\n",
              "      <td>-107.696849</td>\n",
              "      <td>215.393698</td>\n",
              "    </tr>\n",
              "    <tr>\n",
              "      <th>4</th>\n",
              "      <td>-1.0</td>\n",
              "      <td>-107.175950</td>\n",
              "      <td>107.175950</td>\n",
              "    </tr>\n",
              "  </tbody>\n",
              "</table>\n",
              "</div>\n",
              "      <button class=\"colab-df-convert\" onclick=\"convertToInteractive('df-b2266754-fdd1-448d-8035-2b9f46f61a3c')\"\n",
              "              title=\"Convert this dataframe to an interactive table.\"\n",
              "              style=\"display:none;\">\n",
              "        \n",
              "  <svg xmlns=\"http://www.w3.org/2000/svg\" height=\"24px\"viewBox=\"0 0 24 24\"\n",
              "       width=\"24px\">\n",
              "    <path d=\"M0 0h24v24H0V0z\" fill=\"none\"/>\n",
              "    <path d=\"M18.56 5.44l.94 2.06.94-2.06 2.06-.94-2.06-.94-.94-2.06-.94 2.06-2.06.94zm-11 1L8.5 8.5l.94-2.06 2.06-.94-2.06-.94L8.5 2.5l-.94 2.06-2.06.94zm10 10l.94 2.06.94-2.06 2.06-.94-2.06-.94-.94-2.06-.94 2.06-2.06.94z\"/><path d=\"M17.41 7.96l-1.37-1.37c-.4-.4-.92-.59-1.43-.59-.52 0-1.04.2-1.43.59L10.3 9.45l-7.72 7.72c-.78.78-.78 2.05 0 2.83L4 21.41c.39.39.9.59 1.41.59.51 0 1.02-.2 1.41-.59l7.78-7.78 2.81-2.81c.8-.78.8-2.07 0-2.86zM5.41 20L4 18.59l7.72-7.72 1.47 1.35L5.41 20z\"/>\n",
              "  </svg>\n",
              "      </button>\n",
              "      \n",
              "  <style>\n",
              "    .colab-df-container {\n",
              "      display:flex;\n",
              "      flex-wrap:wrap;\n",
              "      gap: 12px;\n",
              "    }\n",
              "\n",
              "    .colab-df-convert {\n",
              "      background-color: #E8F0FE;\n",
              "      border: none;\n",
              "      border-radius: 50%;\n",
              "      cursor: pointer;\n",
              "      display: none;\n",
              "      fill: #1967D2;\n",
              "      height: 32px;\n",
              "      padding: 0 0 0 0;\n",
              "      width: 32px;\n",
              "    }\n",
              "\n",
              "    .colab-df-convert:hover {\n",
              "      background-color: #E2EBFA;\n",
              "      box-shadow: 0px 1px 2px rgba(60, 64, 67, 0.3), 0px 1px 3px 1px rgba(60, 64, 67, 0.15);\n",
              "      fill: #174EA6;\n",
              "    }\n",
              "\n",
              "    [theme=dark] .colab-df-convert {\n",
              "      background-color: #3B4455;\n",
              "      fill: #D2E3FC;\n",
              "    }\n",
              "\n",
              "    [theme=dark] .colab-df-convert:hover {\n",
              "      background-color: #434B5C;\n",
              "      box-shadow: 0px 1px 3px 1px rgba(0, 0, 0, 0.15);\n",
              "      filter: drop-shadow(0px 1px 2px rgba(0, 0, 0, 0.3));\n",
              "      fill: #FFFFFF;\n",
              "    }\n",
              "  </style>\n",
              "\n",
              "      <script>\n",
              "        const buttonEl =\n",
              "          document.querySelector('#df-b2266754-fdd1-448d-8035-2b9f46f61a3c button.colab-df-convert');\n",
              "        buttonEl.style.display =\n",
              "          google.colab.kernel.accessAllowed ? 'block' : 'none';\n",
              "\n",
              "        async function convertToInteractive(key) {\n",
              "          const element = document.querySelector('#df-b2266754-fdd1-448d-8035-2b9f46f61a3c');\n",
              "          const dataTable =\n",
              "            await google.colab.kernel.invokeFunction('convertToInteractive',\n",
              "                                                     [key], {});\n",
              "          if (!dataTable) return;\n",
              "\n",
              "          const docLinkHtml = 'Like what you see? Visit the ' +\n",
              "            '<a target=\"_blank\" href=https://colab.research.google.com/notebooks/data_table.ipynb>data table notebook</a>'\n",
              "            + ' to learn more about interactive tables.';\n",
              "          element.innerHTML = '';\n",
              "          dataTable['output_type'] = 'display_data';\n",
              "          await google.colab.output.renderOutput(dataTable, element);\n",
              "          const docLink = document.createElement('div');\n",
              "          docLink.innerHTML = docLinkHtml;\n",
              "          element.appendChild(docLink);\n",
              "        }\n",
              "      </script>\n",
              "    </div>\n",
              "  </div>\n",
              "  "
            ],
            "text/plain": [
              "     X           Y  NewFeature\n",
              "0 -5.0 -107.984907  539.924535\n",
              "1 -4.0 -107.958973  431.835892\n",
              "2 -3.0 -107.888477  323.665431\n",
              "3 -2.0 -107.696849  215.393698\n",
              "4 -1.0 -107.175950  107.175950"
            ]
          },
          "metadata": {},
          "execution_count": 31
        }
      ]
    },
    {
      "cell_type": "markdown",
      "source": [
        "prepare X and Y for training."
      ],
      "metadata": {
        "id": "kQvyxcdX-uCo"
      }
    },
    {
      "cell_type": "code",
      "source": [
        "X = df3.drop('Y',axis=1)\n",
        "y = df3['Y']"
      ],
      "metadata": {
        "id": "0ys5VKT17UDJ"
      },
      "execution_count": 32,
      "outputs": []
    },
    {
      "cell_type": "markdown",
      "source": [
        "**Fit and predict**"
      ],
      "metadata": {
        "id": "e276B95DHI37"
      }
    },
    {
      "cell_type": "code",
      "source": [
        "lin_reg=LinearRegression()\n",
        "lin_reg.fit(X,y)\n",
        "y_pred = lin_reg.predict(X)"
      ],
      "metadata": {
        "id": "TcOXOgL07UDL"
      },
      "execution_count": 33,
      "outputs": []
    },
    {
      "cell_type": "markdown",
      "source": [
        "**Plot IT**\n",
        "\n",
        "If u did not get the same result in plot try adding different NewFeature"
      ],
      "metadata": {
        "id": "RZZrF6gcHLcp"
      }
    },
    {
      "cell_type": "code",
      "source": [
        "plt.scatter(df3['X'], y,color='blue',label='actual')\n",
        "plt.plot( df3['X'], y_pred,color = 'red',label='predicted')\n",
        "\n",
        "plt.legend()\n",
        "plt.show()"
      ],
      "metadata": {
        "id": "k7aJiM5jOs_s",
        "colab": {
          "base_uri": "https://localhost:8080/",
          "height": 276
        },
        "outputId": "7a896d43-50f0-42e1-ba03-0a0f8969ac7b"
      },
      "execution_count": 34,
      "outputs": [
        {
          "output_type": "display_data",
          "data": {
            "image/png": "[encoded data removed]",
            "text/plain": [
              "<Figure size 432x288 with 1 Axes>"
            ]
          },
          "metadata": {
            "needs_background": "light"
          }
        }
      ]
    },
    {
      "cell_type": "code",
      "source": [
        ""
      ],
      "metadata": {
        "colab": {
          "base_uri": "https://localhost:8080/",
          "height": 276
        },
        "outputId": "700fd63a-3169-4b60-d74d-628f8756808a",
        "id": "8EO8KZul7UDM"
      },
      "execution_count": null,
      "outputs": [
        {
          "output_type": "display_data",
          "data": {
            "image/png": "[encoded data removed]",
            "text/plain": [
              "<Figure size 432x288 with 1 Axes>"
            ]
          },
          "metadata": {
            "needs_background": "light"
          }
        }
      ]
    },
    {
      "cell_type": "markdown",
      "source": [
        "**Great Job You did it**\n",
        "\n",
        "it's time to see a new problem"
      ],
      "metadata": {
        "id": "zvvyRVlzvsPJ"
      }
    },
    {
      "cell_type": "code",
      "source": [
        "data5 = {'X' : [-180, -160, -140, -120, -100,  -80,  -60,  -40,  -20,    0,   20,40,   60,   80,  100,  120,  140,  160],\n",
        "         'Y' : [-1.22464680e-16, -3.42020143e-01, -6.42787610e-01, -8.66025404e-01,       -9.84807753e-01, -9.84807753e-01, -8.66025404e-01, -6.42787610e-01,       -3.42020143e-01,  0.00000000e+00,  3.42020143e-01,  6.42787610e-01,        8.66025404e-01,  9.84807753e-01,  9.84807753e-01,  8.66025404e-01, 6.42787610e-01,  3.42020143e-01]   }\n",
        "df4 = pd.DataFrame(data5)"
      ],
      "metadata": {
        "id": "Y-DaatIwvygp"
      },
      "execution_count": 35,
      "outputs": []
    },
    {
      "cell_type": "code",
      "source": [
        "df4"
      ],
      "metadata": {
        "id": "K1b48DS1wDd2",
        "colab": {
          "base_uri": "https://localhost:8080/",
          "height": 614
        },
        "outputId": "689339f5-a5c0-48a5-cd80-f8395ab5c4af"
      },
      "execution_count": 36,
      "outputs": [
        {
          "output_type": "execute_result",
          "data": {
            "text/html": [
              "\n",
              "  <div id=\"df-453bb8c0-75ab-4b55-9b09-a644404552c5\">\n",
              "    <div class=\"colab-df-container\">\n",
              "      <div>\n",
              "<style scoped>\n",
              "    .dataframe tbody tr th:only-of-type {\n",
              "        vertical-align: middle;\n",
              "    }\n",
              "\n",
              "    .dataframe tbody tr th {\n",
              "        vertical-align: top;\n",
              "    }\n",
              "\n",
              "    .dataframe thead th {\n",
              "        text-align: right;\n",
              "    }\n",
              "</style>\n",
              "<table border=\"1\" class=\"dataframe\">\n",
              "  <thead>\n",
              "    <tr style=\"text-align: right;\">\n",
              "      <th></th>\n",
              "      <th>X</th>\n",
              "      <th>Y</th>\n",
              "    </tr>\n",
              "  </thead>\n",
              "  <tbody>\n",
              "    <tr>\n",
              "      <th>0</th>\n",
              "      <td>-180</td>\n",
              "      <td>-1.224647e-16</td>\n",
              "    </tr>\n",
              "    <tr>\n",
              "      <th>1</th>\n",
              "      <td>-160</td>\n",
              "      <td>-3.420201e-01</td>\n",
              "    </tr>\n",
              "    <tr>\n",
              "      <th>2</th>\n",
              "      <td>-140</td>\n",
              "      <td>-6.427876e-01</td>\n",
              "    </tr>\n",
              "    <tr>\n",
              "      <th>3</th>\n",
              "      <td>-120</td>\n",
              "      <td>-8.660254e-01</td>\n",
              "    </tr>\n",
              "    <tr>\n",
              "      <th>4</th>\n",
              "      <td>-100</td>\n",
              "      <td>-9.848078e-01</td>\n",
              "    </tr>\n",
              "    <tr>\n",
              "      <th>5</th>\n",
              "      <td>-80</td>\n",
              "      <td>-9.848078e-01</td>\n",
              "    </tr>\n",
              "    <tr>\n",
              "      <th>6</th>\n",
              "      <td>-60</td>\n",
              "      <td>-8.660254e-01</td>\n",
              "    </tr>\n",
              "    <tr>\n",
              "      <th>7</th>\n",
              "      <td>-40</td>\n",
              "      <td>-6.427876e-01</td>\n",
              "    </tr>\n",
              "    <tr>\n",
              "      <th>8</th>\n",
              "      <td>-20</td>\n",
              "      <td>-3.420201e-01</td>\n",
              "    </tr>\n",
              "    <tr>\n",
              "      <th>9</th>\n",
              "      <td>0</td>\n",
              "      <td>0.000000e+00</td>\n",
              "    </tr>\n",
              "    <tr>\n",
              "      <th>10</th>\n",
              "      <td>20</td>\n",
              "      <td>3.420201e-01</td>\n",
              "    </tr>\n",
              "    <tr>\n",
              "      <th>11</th>\n",
              "      <td>40</td>\n",
              "      <td>6.427876e-01</td>\n",
              "    </tr>\n",
              "    <tr>\n",
              "      <th>12</th>\n",
              "      <td>60</td>\n",
              "      <td>8.660254e-01</td>\n",
              "    </tr>\n",
              "    <tr>\n",
              "      <th>13</th>\n",
              "      <td>80</td>\n",
              "      <td>9.848078e-01</td>\n",
              "    </tr>\n",
              "    <tr>\n",
              "      <th>14</th>\n",
              "      <td>100</td>\n",
              "      <td>9.848078e-01</td>\n",
              "    </tr>\n",
              "    <tr>\n",
              "      <th>15</th>\n",
              "      <td>120</td>\n",
              "      <td>8.660254e-01</td>\n",
              "    </tr>\n",
              "    <tr>\n",
              "      <th>16</th>\n",
              "      <td>140</td>\n",
              "      <td>6.427876e-01</td>\n",
              "    </tr>\n",
              "    <tr>\n",
              "      <th>17</th>\n",
              "      <td>160</td>\n",
              "      <td>3.420201e-01</td>\n",
              "    </tr>\n",
              "  </tbody>\n",
              "</table>\n",
              "</div>\n",
              "      <button class=\"colab-df-convert\" onclick=\"convertToInteractive('df-453bb8c0-75ab-4b55-9b09-a644404552c5')\"\n",
              "              title=\"Convert this dataframe to an interactive table.\"\n",
              "              style=\"display:none;\">\n",
              "        \n",
              "  <svg xmlns=\"http://www.w3.org/2000/svg\" height=\"24px\"viewBox=\"0 0 24 24\"\n",
              "       width=\"24px\">\n",
              "    <path d=\"M0 0h24v24H0V0z\" fill=\"none\"/>\n",
              "    <path d=\"M18.56 5.44l.94 2.06.94-2.06 2.06-.94-2.06-.94-.94-2.06-.94 2.06-2.06.94zm-11 1L8.5 8.5l.94-2.06 2.06-.94-2.06-.94L8.5 2.5l-.94 2.06-2.06.94zm10 10l.94 2.06.94-2.06 2.06-.94-2.06-.94-.94-2.06-.94 2.06-2.06.94z\"/><path d=\"M17.41 7.96l-1.37-1.37c-.4-.4-.92-.59-1.43-.59-.52 0-1.04.2-1.43.59L10.3 9.45l-7.72 7.72c-.78.78-.78 2.05 0 2.83L4 21.41c.39.39.9.59 1.41.59.51 0 1.02-.2 1.41-.59l7.78-7.78 2.81-2.81c.8-.78.8-2.07 0-2.86zM5.41 20L4 18.59l7.72-7.72 1.47 1.35L5.41 20z\"/>\n",
              "  </svg>\n",
              "      </button>\n",
              "      \n",
              "  <style>\n",
              "    .colab-df-container {\n",
              "      display:flex;\n",
              "      flex-wrap:wrap;\n",
              "      gap: 12px;\n",
              "    }\n",
              "\n",
              "    .colab-df-convert {\n",
              "      background-color: #E8F0FE;\n",
              "      border: none;\n",
              "      border-radius: 50%;\n",
              "      cursor: pointer;\n",
              "      display: none;\n",
              "      fill: #1967D2;\n",
              "      height: 32px;\n",
              "      padding: 0 0 0 0;\n",
              "      width: 32px;\n",
              "    }\n",
              "\n",
              "    .colab-df-convert:hover {\n",
              "      background-color: #E2EBFA;\n",
              "      box-shadow: 0px 1px 2px rgba(60, 64, 67, 0.3), 0px 1px 3px 1px rgba(60, 64, 67, 0.15);\n",
              "      fill: #174EA6;\n",
              "    }\n",
              "\n",
              "    [theme=dark] .colab-df-convert {\n",
              "      background-color: #3B4455;\n",
              "      fill: #D2E3FC;\n",
              "    }\n",
              "\n",
              "    [theme=dark] .colab-df-convert:hover {\n",
              "      background-color: #434B5C;\n",
              "      box-shadow: 0px 1px 3px 1px rgba(0, 0, 0, 0.15);\n",
              "      filter: drop-shadow(0px 1px 2px rgba(0, 0, 0, 0.3));\n",
              "      fill: #FFFFFF;\n",
              "    }\n",
              "  </style>\n",
              "\n",
              "      <script>\n",
              "        const buttonEl =\n",
              "          document.querySelector('#df-453bb8c0-75ab-4b55-9b09-a644404552c5 button.colab-df-convert');\n",
              "        buttonEl.style.display =\n",
              "          google.colab.kernel.accessAllowed ? 'block' : 'none';\n",
              "\n",
              "        async function convertToInteractive(key) {\n",
              "          const element = document.querySelector('#df-453bb8c0-75ab-4b55-9b09-a644404552c5');\n",
              "          const dataTable =\n",
              "            await google.colab.kernel.invokeFunction('convertToInteractive',\n",
              "                                                     [key], {});\n",
              "          if (!dataTable) return;\n",
              "\n",
              "          const docLinkHtml = 'Like what you see? Visit the ' +\n",
              "            '<a target=\"_blank\" href=https://colab.research.google.com/notebooks/data_table.ipynb>data table notebook</a>'\n",
              "            + ' to learn more about interactive tables.';\n",
              "          element.innerHTML = '';\n",
              "          dataTable['output_type'] = 'display_data';\n",
              "          await google.colab.output.renderOutput(dataTable, element);\n",
              "          const docLink = document.createElement('div');\n",
              "          docLink.innerHTML = docLinkHtml;\n",
              "          element.appendChild(docLink);\n",
              "        }\n",
              "      </script>\n",
              "    </div>\n",
              "  </div>\n",
              "  "
            ],
            "text/plain": [
              "      X             Y\n",
              "0  -180 -1.224647e-16\n",
              "1  -160 -3.420201e-01\n",
              "2  -140 -6.427876e-01\n",
              "3  -120 -8.660254e-01\n",
              "4  -100 -9.848078e-01\n",
              "5   -80 -9.848078e-01\n",
              "6   -60 -8.660254e-01\n",
              "7   -40 -6.427876e-01\n",
              "8   -20 -3.420201e-01\n",
              "9     0  0.000000e+00\n",
              "10   20  3.420201e-01\n",
              "11   40  6.427876e-01\n",
              "12   60  8.660254e-01\n",
              "13   80  9.848078e-01\n",
              "14  100  9.848078e-01\n",
              "15  120  8.660254e-01\n",
              "16  140  6.427876e-01\n",
              "17  160  3.420201e-01"
            ]
          },
          "metadata": {},
          "execution_count": 36
        }
      ]
    },
    {
      "cell_type": "markdown",
      "source": [
        "plot the data and then add the new necessary feature"
      ],
      "metadata": {
        "id": "AyrM1l73wJ_B"
      }
    },
    {
      "cell_type": "code",
      "source": [
        "plt.scatter('X','Y',data=df4,color='blue')"
      ],
      "metadata": {
        "id": "j_muRC9PwTY3",
        "colab": {
          "base_uri": "https://localhost:8080/",
          "height": 282
        },
        "outputId": "1a90704f-a59e-4f78-c69f-54063f636712"
      },
      "execution_count": 37,
      "outputs": [
        {
          "output_type": "execute_result",
          "data": {
            "text/plain": [
              "<matplotlib.collections.PathCollection at 0x7f22f4c21210>"
            ]
          },
          "metadata": {},
          "execution_count": 37
        },
        {
          "output_type": "display_data",
          "data": {
            "image/png": "[encoded data removed]",
            "text/plain": [
              "<Figure size 432x288 with 1 Axes>"
            ]
          },
          "metadata": {
            "needs_background": "light"
          }
        }
      ]
    },
    {
      "cell_type": "code",
      "source": [
        ""
      ],
      "metadata": {
        "colab": {
          "base_uri": "https://localhost:8080/",
          "height": 283
        },
        "id": "WS78uQsOwK1m",
        "outputId": "b657b982-ea2a-4034-8198-ee7a902698fc"
      },
      "execution_count": null,
      "outputs": [
        {
          "output_type": "execute_result",
          "data": {
            "text/plain": [
              "<matplotlib.collections.PathCollection at 0x7f71c9028550>"
            ]
          },
          "metadata": {},
          "execution_count": 5
        },
        {
          "output_type": "display_data",
          "data": {
            "image/png": "[encoded data removed]",
            "text/plain": [
              "<Figure size 432x288 with 1 Axes>"
            ]
          },
          "metadata": {
            "needs_background": "light"
          }
        }
      ]
    },
    {
      "cell_type": "code",
      "source": [
        "df4['NewFeature'] = (df4['X']+df4['Y'])/2"
      ],
      "metadata": {
        "id": "gOiE_syKwZDo"
      },
      "execution_count": 39,
      "outputs": []
    },
    {
      "cell_type": "code",
      "source": [
        "df4.head()"
      ],
      "metadata": {
        "id": "HQga6_D2EFRy",
        "outputId": "eb301b08-49a9-48a6-d91f-5a98cdc1021e",
        "colab": {
          "base_uri": "https://localhost:8080/",
          "height": 206
        }
      },
      "execution_count": 40,
      "outputs": [
        {
          "output_type": "execute_result",
          "data": {
            "text/html": [
              "\n",
              "  <div id=\"df-0f4a08d4-0d58-4bf7-adc4-d10f61c84ea2\">\n",
              "    <div class=\"colab-df-container\">\n",
              "      <div>\n",
              "<style scoped>\n",
              "    .dataframe tbody tr th:only-of-type {\n",
              "        vertical-align: middle;\n",
              "    }\n",
              "\n",
              "    .dataframe tbody tr th {\n",
              "        vertical-align: top;\n",
              "    }\n",
              "\n",
              "    .dataframe thead th {\n",
              "        text-align: right;\n",
              "    }\n",
              "</style>\n",
              "<table border=\"1\" class=\"dataframe\">\n",
              "  <thead>\n",
              "    <tr style=\"text-align: right;\">\n",
              "      <th></th>\n",
              "      <th>X</th>\n",
              "      <th>Y</th>\n",
              "      <th>NewFeature</th>\n",
              "    </tr>\n",
              "  </thead>\n",
              "  <tbody>\n",
              "    <tr>\n",
              "      <th>0</th>\n",
              "      <td>-180</td>\n",
              "      <td>-1.224647e-16</td>\n",
              "      <td>-90.000000</td>\n",
              "    </tr>\n",
              "    <tr>\n",
              "      <th>1</th>\n",
              "      <td>-160</td>\n",
              "      <td>-3.420201e-01</td>\n",
              "      <td>-80.171010</td>\n",
              "    </tr>\n",
              "    <tr>\n",
              "      <th>2</th>\n",
              "      <td>-140</td>\n",
              "      <td>-6.427876e-01</td>\n",
              "      <td>-70.321394</td>\n",
              "    </tr>\n",
              "    <tr>\n",
              "      <th>3</th>\n",
              "      <td>-120</td>\n",
              "      <td>-8.660254e-01</td>\n",
              "      <td>-60.433013</td>\n",
              "    </tr>\n",
              "    <tr>\n",
              "      <th>4</th>\n",
              "      <td>-100</td>\n",
              "      <td>-9.848078e-01</td>\n",
              "      <td>-50.492404</td>\n",
              "    </tr>\n",
              "  </tbody>\n",
              "</table>\n",
              "</div>\n",
              "      <button class=\"colab-df-convert\" onclick=\"convertToInteractive('df-0f4a08d4-0d58-4bf7-adc4-d10f61c84ea2')\"\n",
              "              title=\"Convert this dataframe to an interactive table.\"\n",
              "              style=\"display:none;\">\n",
              "        \n",
              "  <svg xmlns=\"http://www.w3.org/2000/svg\" height=\"24px\"viewBox=\"0 0 24 24\"\n",
              "       width=\"24px\">\n",
              "    <path d=\"M0 0h24v24H0V0z\" fill=\"none\"/>\n",
              "    <path d=\"M18.56 5.44l.94 2.06.94-2.06 2.06-.94-2.06-.94-.94-2.06-.94 2.06-2.06.94zm-11 1L8.5 8.5l.94-2.06 2.06-.94-2.06-.94L8.5 2.5l-.94 2.06-2.06.94zm10 10l.94 2.06.94-2.06 2.06-.94-2.06-.94-.94-2.06-.94 2.06-2.06.94z\"/><path d=\"M17.41 7.96l-1.37-1.37c-.4-.4-.92-.59-1.43-.59-.52 0-1.04.2-1.43.59L10.3 9.45l-7.72 7.72c-.78.78-.78 2.05 0 2.83L4 21.41c.39.39.9.59 1.41.59.51 0 1.02-.2 1.41-.59l7.78-7.78 2.81-2.81c.8-.78.8-2.07 0-2.86zM5.41 20L4 18.59l7.72-7.72 1.47 1.35L5.41 20z\"/>\n",
              "  </svg>\n",
              "      </button>\n",
              "      \n",
              "  <style>\n",
              "    .colab-df-container {\n",
              "      display:flex;\n",
              "      flex-wrap:wrap;\n",
              "      gap: 12px;\n",
              "    }\n",
              "\n",
              "    .colab-df-convert {\n",
              "      background-color: #E8F0FE;\n",
              "      border: none;\n",
              "      border-radius: 50%;\n",
              "      cursor: pointer;\n",
              "      display: none;\n",
              "      fill: #1967D2;\n",
              "      height: 32px;\n",
              "      padding: 0 0 0 0;\n",
              "      width: 32px;\n",
              "    }\n",
              "\n",
              "    .colab-df-convert:hover {\n",
              "      background-color: #E2EBFA;\n",
              "      box-shadow: 0px 1px 2px rgba(60, 64, 67, 0.3), 0px 1px 3px 1px rgba(60, 64, 67, 0.15);\n",
              "      fill: #174EA6;\n",
              "    }\n",
              "\n",
              "    [theme=dark] .colab-df-convert {\n",
              "      background-color: #3B4455;\n",
              "      fill: #D2E3FC;\n",
              "    }\n",
              "\n",
              "    [theme=dark] .colab-df-convert:hover {\n",
              "      background-color: #434B5C;\n",
              "      box-shadow: 0px 1px 3px 1px rgba(0, 0, 0, 0.15);\n",
              "      filter: drop-shadow(0px 1px 2px rgba(0, 0, 0, 0.3));\n",
              "      fill: #FFFFFF;\n",
              "    }\n",
              "  </style>\n",
              "\n",
              "      <script>\n",
              "        const buttonEl =\n",
              "          document.querySelector('#df-0f4a08d4-0d58-4bf7-adc4-d10f61c84ea2 button.colab-df-convert');\n",
              "        buttonEl.style.display =\n",
              "          google.colab.kernel.accessAllowed ? 'block' : 'none';\n",
              "\n",
              "        async function convertToInteractive(key) {\n",
              "          const element = document.querySelector('#df-0f4a08d4-0d58-4bf7-adc4-d10f61c84ea2');\n",
              "          const dataTable =\n",
              "            await google.colab.kernel.invokeFunction('convertToInteractive',\n",
              "                                                     [key], {});\n",
              "          if (!dataTable) return;\n",
              "\n",
              "          const docLinkHtml = 'Like what you see? Visit the ' +\n",
              "            '<a target=\"_blank\" href=https://colab.research.google.com/notebooks/data_table.ipynb>data table notebook</a>'\n",
              "            + ' to learn more about interactive tables.';\n",
              "          element.innerHTML = '';\n",
              "          dataTable['output_type'] = 'display_data';\n",
              "          await google.colab.output.renderOutput(dataTable, element);\n",
              "          const docLink = document.createElement('div');\n",
              "          docLink.innerHTML = docLinkHtml;\n",
              "          element.appendChild(docLink);\n",
              "        }\n",
              "      </script>\n",
              "    </div>\n",
              "  </div>\n",
              "  "
            ],
            "text/plain": [
              "     X             Y  NewFeature\n",
              "0 -180 -1.224647e-16  -90.000000\n",
              "1 -160 -3.420201e-01  -80.171010\n",
              "2 -140 -6.427876e-01  -70.321394\n",
              "3 -120 -8.660254e-01  -60.433013\n",
              "4 -100 -9.848078e-01  -50.492404"
            ]
          },
          "metadata": {},
          "execution_count": 40
        }
      ]
    },
    {
      "cell_type": "markdown",
      "source": [
        "prepare X and Y for training"
      ],
      "metadata": {
        "id": "cck1kGljw2EB"
      }
    },
    {
      "cell_type": "code",
      "source": [
        "x = df4.drop('Y',axis=1)\n",
        "y = df4['Y']"
      ],
      "metadata": {
        "id": "qyXsGhyiwsdK"
      },
      "execution_count": 41,
      "outputs": []
    },
    {
      "cell_type": "markdown",
      "source": [
        "fit and predict"
      ],
      "metadata": {
        "id": "UnQFX-7qxEZR"
      }
    },
    {
      "cell_type": "code",
      "source": [
        "from sklearn.linear_model import LinearRegression\n",
        "\n",
        "lin_reg = LinearRegression()"
      ],
      "metadata": {
        "id": "m6QCAuL0xYln"
      },
      "execution_count": 42,
      "outputs": []
    },
    {
      "cell_type": "code",
      "source": [
        "lin_reg.fit(x,y)\n",
        "y_pred = lin_reg.predict(x)"
      ],
      "metadata": {
        "id": "dYjxpntzwZAj"
      },
      "execution_count": 43,
      "outputs": []
    },
    {
      "cell_type": "markdown",
      "source": [
        "plot\n",
        "\n",
        "If u did not get the same result in plot try adding different NewFeature"
      ],
      "metadata": {
        "id": "StfhMzHRxhBK"
      }
    },
    {
      "cell_type": "code",
      "source": [
        "plt.scatter(x['X'],y,label='actual',color='blue')\n",
        "plt.plot(x['X'],y_pred,label='pred',color='red')\n",
        "\n",
        "plt.legend()\n",
        "plt.show()"
      ],
      "metadata": {
        "id": "7-rlPdBux35C",
        "colab": {
          "base_uri": "https://localhost:8080/",
          "height": 265
        },
        "outputId": "ef0f9b98-4ee5-458d-ce7f-4fa2d094d2e9"
      },
      "execution_count": 44,
      "outputs": [
        {
          "output_type": "display_data",
          "data": {
            "image/png": "[encoded data removed]",
            "text/plain": [
              "<Figure size 432x288 with 1 Axes>"
            ]
          },
          "metadata": {
            "needs_background": "light"
          }
        }
      ]
    },
    {
      "cell_type": "code",
      "source": [
        ""
      ],
      "metadata": {
        "colab": {
          "base_uri": "https://localhost:8080/",
          "height": 264
        },
        "id": "xG3TYthvxiRB",
        "outputId": "55962151-26c7-4252-bdde-a8b76a504133"
      },
      "execution_count": null,
      "outputs": [
        {
          "output_type": "display_data",
          "data": {
            "image/png": "[encoded data removed]",
            "text/plain": [
              "<Figure size 432x288 with 1 Axes>"
            ]
          },
          "metadata": {
            "needs_background": "light"
          }
        }
      ]
    },
    {
      "cell_type": "markdown",
      "source": [
        "**Now Some tricky things**\n",
        "\n",
        "Try as many possible features to get better accuracy"
      ],
      "metadata": {
        "id": "UzdKT1oo_COM"
      }
    },
    {
      "cell_type": "code",
      "source": [
        "df = pd.read_csv('https://raw.githubusercontent.com/aman5898/Pepcoding-Data-Science/main/dataset/data3.csv')\n",
        "df.drop(['Unnamed: 0'], axis = 1, inplace = True)\n",
        "df.sample(7)"
      ],
      "metadata": {
        "colab": {
          "base_uri": "https://localhost:8080/",
          "height": 269
        },
        "id": "1N9VpP_AJczq",
        "outputId": "f9f70c69-09e8-475f-9bde-d60d9fbe3c41"
      },
      "execution_count": 45,
      "outputs": [
        {
          "output_type": "execute_result",
          "data": {
            "text/html": [
              "\n",
              "  <div id=\"df-9fcf6b73-9d69-43bf-84ba-9f5831ce4751\">\n",
              "    <div class=\"colab-df-container\">\n",
              "      <div>\n",
              "<style scoped>\n",
              "    .dataframe tbody tr th:only-of-type {\n",
              "        vertical-align: middle;\n",
              "    }\n",
              "\n",
              "    .dataframe tbody tr th {\n",
              "        vertical-align: top;\n",
              "    }\n",
              "\n",
              "    .dataframe thead th {\n",
              "        text-align: right;\n",
              "    }\n",
              "</style>\n",
              "<table border=\"1\" class=\"dataframe\">\n",
              "  <thead>\n",
              "    <tr style=\"text-align: right;\">\n",
              "      <th></th>\n",
              "      <th>x1</th>\n",
              "      <th>x2</th>\n",
              "      <th>x3</th>\n",
              "      <th>Y</th>\n",
              "    </tr>\n",
              "  </thead>\n",
              "  <tbody>\n",
              "    <tr>\n",
              "      <th>18</th>\n",
              "      <td>12</td>\n",
              "      <td>-11.526316</td>\n",
              "      <td>2.409582</td>\n",
              "      <td>2.078738e+06</td>\n",
              "    </tr>\n",
              "    <tr>\n",
              "      <th>0</th>\n",
              "      <td>30</td>\n",
              "      <td>-30.000000</td>\n",
              "      <td>3.908991</td>\n",
              "      <td>1.378555e+14</td>\n",
              "    </tr>\n",
              "    <tr>\n",
              "      <th>10</th>\n",
              "      <td>20</td>\n",
              "      <td>-19.736842</td>\n",
              "      <td>21.647507</td>\n",
              "      <td>6.258703e+09</td>\n",
              "    </tr>\n",
              "    <tr>\n",
              "      <th>25</th>\n",
              "      <td>5</td>\n",
              "      <td>-4.342105</td>\n",
              "      <td>7.182598</td>\n",
              "      <td>3.506856e+03</td>\n",
              "    </tr>\n",
              "    <tr>\n",
              "      <th>34</th>\n",
              "      <td>-4</td>\n",
              "      <td>4.894737</td>\n",
              "      <td>18.552124</td>\n",
              "      <td>7.593414e+04</td>\n",
              "    </tr>\n",
              "    <tr>\n",
              "      <th>33</th>\n",
              "      <td>-3</td>\n",
              "      <td>3.868421</td>\n",
              "      <td>25.661858</td>\n",
              "      <td>2.047412e+05</td>\n",
              "    </tr>\n",
              "    <tr>\n",
              "      <th>8</th>\n",
              "      <td>22</td>\n",
              "      <td>-21.789474</td>\n",
              "      <td>26.051254</td>\n",
              "      <td>4.624553e+10</td>\n",
              "    </tr>\n",
              "  </tbody>\n",
              "</table>\n",
              "</div>\n",
              "      <button class=\"colab-df-convert\" onclick=\"convertToInteractive('df-9fcf6b73-9d69-43bf-84ba-9f5831ce4751')\"\n",
              "              title=\"Convert this dataframe to an interactive table.\"\n",
              "              style=\"display:none;\">\n",
              "        \n",
              "  <svg xmlns=\"http://www.w3.org/2000/svg\" height=\"24px\"viewBox=\"0 0 24 24\"\n",
              "       width=\"24px\">\n",
              "    <path d=\"M0 0h24v24H0V0z\" fill=\"none\"/>\n",
              "    <path d=\"M18.56 5.44l.94 2.06.94-2.06 2.06-.94-2.06-.94-.94-2.06-.94 2.06-2.06.94zm-11 1L8.5 8.5l.94-2.06 2.06-.94-2.06-.94L8.5 2.5l-.94 2.06-2.06.94zm10 10l.94 2.06.94-2.06 2.06-.94-2.06-.94-.94-2.06-.94 2.06-2.06.94z\"/><path d=\"M17.41 7.96l-1.37-1.37c-.4-.4-.92-.59-1.43-.59-.52 0-1.04.2-1.43.59L10.3 9.45l-7.72 7.72c-.78.78-.78 2.05 0 2.83L4 21.41c.39.39.9.59 1.41.59.51 0 1.02-.2 1.41-.59l7.78-7.78 2.81-2.81c.8-.78.8-2.07 0-2.86zM5.41 20L4 18.59l7.72-7.72 1.47 1.35L5.41 20z\"/>\n",
              "  </svg>\n",
              "      </button>\n",
              "      \n",
              "  <style>\n",
              "    .colab-df-container {\n",
              "      display:flex;\n",
              "      flex-wrap:wrap;\n",
              "      gap: 12px;\n",
              "    }\n",
              "\n",
              "    .colab-df-convert {\n",
              "      background-color: #E8F0FE;\n",
              "      border: none;\n",
              "      border-radius: 50%;\n",
              "      cursor: pointer;\n",
              "      display: none;\n",
              "      fill: #1967D2;\n",
              "      height: 32px;\n",
              "      padding: 0 0 0 0;\n",
              "      width: 32px;\n",
              "    }\n",
              "\n",
              "    .colab-df-convert:hover {\n",
              "      background-color: #E2EBFA;\n",
              "      box-shadow: 0px 1px 2px rgba(60, 64, 67, 0.3), 0px 1px 3px 1px rgba(60, 64, 67, 0.15);\n",
              "      fill: #174EA6;\n",
              "    }\n",
              "\n",
              "    [theme=dark] .colab-df-convert {\n",
              "      background-color: #3B4455;\n",
              "      fill: #D2E3FC;\n",
              "    }\n",
              "\n",
              "    [theme=dark] .colab-df-convert:hover {\n",
              "      background-color: #434B5C;\n",
              "      box-shadow: 0px 1px 3px 1px rgba(0, 0, 0, 0.15);\n",
              "      filter: drop-shadow(0px 1px 2px rgba(0, 0, 0, 0.3));\n",
              "      fill: #FFFFFF;\n",
              "    }\n",
              "  </style>\n",
              "\n",
              "      <script>\n",
              "        const buttonEl =\n",
              "          document.querySelector('#df-9fcf6b73-9d69-43bf-84ba-9f5831ce4751 button.colab-df-convert');\n",
              "        buttonEl.style.display =\n",
              "          google.colab.kernel.accessAllowed ? 'block' : 'none';\n",
              "\n",
              "        async function convertToInteractive(key) {\n",
              "          const element = document.querySelector('#df-9fcf6b73-9d69-43bf-84ba-9f5831ce4751');\n",
              "          const dataTable =\n",
              "            await google.colab.kernel.invokeFunction('convertToInteractive',\n",
              "                                                     [key], {});\n",
              "          if (!dataTable) return;\n",
              "\n",
              "          const docLinkHtml = 'Like what you see? Visit the ' +\n",
              "            '<a target=\"_blank\" href=https://colab.research.google.com/notebooks/data_table.ipynb>data table notebook</a>'\n",
              "            + ' to learn more about interactive tables.';\n",
              "          element.innerHTML = '';\n",
              "          dataTable['output_type'] = 'display_data';\n",
              "          await google.colab.output.renderOutput(dataTable, element);\n",
              "          const docLink = document.createElement('div');\n",
              "          docLink.innerHTML = docLinkHtml;\n",
              "          element.appendChild(docLink);\n",
              "        }\n",
              "      </script>\n",
              "    </div>\n",
              "  </div>\n",
              "  "
            ],
            "text/plain": [
              "    x1         x2         x3             Y\n",
              "18  12 -11.526316   2.409582  2.078738e+06\n",
              "0   30 -30.000000   3.908991  1.378555e+14\n",
              "10  20 -19.736842  21.647507  6.258703e+09\n",
              "25   5  -4.342105   7.182598  3.506856e+03\n",
              "34  -4   4.894737  18.552124  7.593414e+04\n",
              "33  -3   3.868421  25.661858  2.047412e+05\n",
              "8   22 -21.789474  26.051254  4.624553e+10"
            ]
          },
          "metadata": {},
          "execution_count": 45
        }
      ]
    },
    {
      "cell_type": "code",
      "source": [
        "import plotly.express as px\n",
        "\n",
        "px.scatter_3d(df, x = 'x1', y = 'x2', z = 'x3')"
      ],
      "metadata": {
        "colab": {
          "base_uri": "https://localhost:8080/",
          "height": 542
        },
        "id": "wBbFdPet_tao",
        "outputId": "04d301e6-b9bc-48eb-e751-c16f0685e3ad"
      },
      "execution_count": 46,
      "outputs": [
        {
          "output_type": "display_data",
          "data": {
            "text/html": [
              "<html>\n",
              "<head><meta charset=\"utf-8\" /></head>\n",
              "<body>\n",
              "    <div>            <script src=\"https://cdnjs.cloudflare.com/ajax/libs/mathjax/2.7.5/MathJax.js?config=TeX-AMS-MML_SVG\"></script><script type=\"text/javascript\">if (window.MathJax) {MathJax.Hub.Config({SVG: {font: \"STIX-Web\"}});}</script>                <script type=\"text/javascript\">window.PlotlyConfig = {MathJaxConfig: 'local'};</script>\n",
              "        <script src=\"https://cdn.plot.ly/plotly-2.8.3.min.js\"></script>                <div id=\"f04a32a3-c634-48e9-80b8-0e2678137bfe\" class=\"plotly-graph-div\" style=\"height:525px; width:100%;\"></div>            <script type=\"text/javascript\">                                    window.PLOTLYENV=window.PLOTLYENV || {};                                    if (document.getElementById(\"f04a32a3-c634-48e9-80b8-0e2678137bfe\")) {                    Plotly.newPlot(                        \"f04a32a3-c634-48e9-80b8-0e2678137bfe\",                        [{\"hovertemplate\":\"x1=%{x}<br>x2=%{y}<br>x3=%{z}<extra></extra>\",\"legendgroup\":\"\",\"marker\":{\"color\":\"#636efa\",\"symbol\":\"circle\"},\"mode\":\"markers\",\"name\":\"\",\"scene\":\"scene\",\"showlegend\":false,\"x\":[30,29,28,27,26,25,24,23,22,21,20,19,18,17,16,15,14,13,12,11,10,9,8,7,6,5,4,3,2,1,0,-1,-2,-3,-4,-5,-6,-7,-8],\"y\":[-30.0,-28.973684210526315,-27.94736842105263,-26.921052631578945,-25.894736842105264,-24.86842105263158,-23.84210526315789,-22.81578947368421,-21.789473684210527,-20.76315789473684,-19.73684210526316,-18.710526315789476,-17.684210526315788,-16.657894736842103,-15.63157894736842,-14.605263157894736,-13.578947368421051,-12.552631578947366,-11.52631578947368,-10.5,-9.473684210526317,-8.44736842105263,-7.421052631578945,-6.39473684210526,-5.368421052631575,-4.342105263157894,-3.315789473684209,-2.289473684210524,-1.263157894736839,-0.2368421052631539,0.7894736842105274,1.8157894736842124,2.8421052631578974,3.8684210526315823,4.894736842105267,5.921052631578952,6.947368421052637,7.973684210526322,9.0],\"z\":[3.908991434003044,18.402618459755107,22.617838995710603,7.953190915471815,16.550851994661386,6.509888592230589,7.114551419852015,18.729798880403305,26.0512539564649,6.75529371530053,21.64750697712372,24.4406425099113,12.222014654468506,5.414654730471145,25.160410245129217,28.55142337177258,18.5600229290016,10.835467643475363,2.409582397792187,28.09551153448832,17.606139953535717,26.382054704690287,0.9828865741960358,29.216803144996707,0.4942558355935322,7.182598038430449,2.062233372527935,26.411230694691085,10.638900721043518,25.589026312372027,23.484454612470707,16.936435149407178,2.193917990130193,25.661858168301748,18.55212430499003,14.286566175494892,11.623951909234126,21.152997006496506,4.489689498968782],\"type\":\"scatter3d\"}],                        {\"template\":{\"data\":{\"bar\":[{\"error_x\":{\"color\":\"#2a3f5f\"},\"error_y\":{\"color\":\"#2a3f5f\"},\"marker\":{\"line\":{\"color\":\"#E5ECF6\",\"width\":0.5},\"pattern\":{\"fillmode\":\"overlay\",\"size\":10,\"solidity\":0.2}},\"type\":\"bar\"}],\"barpolar\":[{\"marker\":{\"line\":{\"color\":\"#E5ECF6\",\"width\":0.5},\"pattern\":{\"fillmode\":\"overlay\",\"size\":10,\"solidity\":0.2}},\"type\":\"barpolar\"}],\"carpet\":[{\"aaxis\":{\"endlinecolor\":\"#2a3f5f\",\"gridcolor\":\"white\",\"linecolor\":\"white\",\"minorgridcolor\":\"white\",\"startlinecolor\":\"#2a3f5f\"},\"baxis\":{\"endlinecolor\":\"#2a3f5f\",\"gridcolor\":\"white\",\"linecolor\":\"white\",\"minorgridcolor\":\"white\",\"startlinecolor\":\"#2a3f5f\"},\"type\":\"carpet\"}],\"choropleth\":[{\"colorbar\":{\"outlinewidth\":0,\"ticks\":\"\"},\"type\":\"choropleth\"}],\"contour\":[{\"colorbar\":{\"outlinewidth\":0,\"ticks\":\"\"},\"colorscale\":[[0.0,\"#0d0887\"],[0.1111111111111111,\"#46039f\"],[0.2222222222222222,\"#7201a8\"],[0.3333333333333333,\"#9c179e\"],[0.4444444444444444,\"#bd3786\"],[0.5555555555555556,\"#d8576b\"],[0.6666666666666666,\"#ed7953\"],[0.7777777777777778,\"#fb9f3a\"],[0.8888888888888888,\"#fdca26\"],[1.0,\"#f0f921\"]],\"type\":\"contour\"}],\"contourcarpet\":[{\"colorbar\":{\"outlinewidth\":0,\"ticks\":\"\"},\"type\":\"contourcarpet\"}],\"heatmap\":[{\"colorbar\":{\"outlinewidth\":0,\"ticks\":\"\"},\"colorscale\":[[0.0,\"#0d0887\"],[0.1111111111111111,\"#46039f\"],[0.2222222222222222,\"#7201a8\"],[0.3333333333333333,\"#9c179e\"],[0.4444444444444444,\"#bd3786\"],[0.5555555555555556,\"#d8576b\"],[0.6666666666666666,\"#ed7953\"],[0.7777777777777778,\"#fb9f3a\"],[0.8888888888888888,\"#fdca26\"],[1.0,\"#f0f921\"]],\"type\":\"heatmap\"}],\"heatmapgl\":[{\"colorbar\":{\"outlinewidth\":0,\"ticks\":\"\"},\"colorscale\":[[0.0,\"#0d0887\"],[0.1111111111111111,\"#46039f\"],[0.2222222222222222,\"#7201a8\"],[0.3333333333333333,\"#9c179e\"],[0.4444444444444444,\"#bd3786\"],[0.5555555555555556,\"#d8576b\"],[0.6666666666666666,\"#ed7953\"],[0.7777777777777778,\"#fb9f3a\"],[0.8888888888888888,\"#fdca26\"],[1.0,\"#f0f921\"]],\"type\":\"heatmapgl\"}],\"histogram\":[{\"marker\":{\"pattern\":{\"fillmode\":\"overlay\",\"size\":10,\"solidity\":0.2}},\"type\":\"histogram\"}],\"histogram2d\":[{\"colorbar\":{\"outlinewidth\":0,\"ticks\":\"\"},\"colorscale\":[[0.0,\"#0d0887\"],[0.1111111111111111,\"#46039f\"],[0.2222222222222222,\"#7201a8\"],[0.3333333333333333,\"#9c179e\"],[0.4444444444444444,\"#bd3786\"],[0.5555555555555556,\"#d8576b\"],[0.6666666666666666,\"#ed7953\"],[0.7777777777777778,\"#fb9f3a\"],[0.8888888888888888,\"#fdca26\"],[1.0,\"#f0f921\"]],\"type\":\"histogram2d\"}],\"histogram2dcontour\":[{\"colorbar\":{\"outlinewidth\":0,\"ticks\":\"\"},\"colorscale\":[[0.0,\"#0d0887\"],[0.1111111111111111,\"#46039f\"],[0.2222222222222222,\"#7201a8\"],[0.3333333333333333,\"#9c179e\"],[0.4444444444444444,\"#bd3786\"],[0.5555555555555556,\"#d8576b\"],[0.6666666666666666,\"#ed7953\"],[0.7777777777777778,\"#fb9f3a\"],[0.8888888888888888,\"#fdca26\"],[1.0,\"#f0f921\"]],\"type\":\"histogram2dcontour\"}],\"mesh3d\":[{\"colorbar\":{\"outlinewidth\":0,\"ticks\":\"\"},\"type\":\"mesh3d\"}],\"parcoords\":[{\"line\":{\"colorbar\":{\"outlinewidth\":0,\"ticks\":\"\"}},\"type\":\"parcoords\"}],\"pie\":[{\"automargin\":true,\"type\":\"pie\"}],\"scatter\":[{\"marker\":{\"colorbar\":{\"outlinewidth\":0,\"ticks\":\"\"}},\"type\":\"scatter\"}],\"scatter3d\":[{\"line\":{\"colorbar\":{\"outlinewidth\":0,\"ticks\":\"\"}},\"marker\":{\"colorbar\":{\"outlinewidth\":0,\"ticks\":\"\"}},\"type\":\"scatter3d\"}],\"scattercarpet\":[{\"marker\":{\"colorbar\":{\"outlinewidth\":0,\"ticks\":\"\"}},\"type\":\"scattercarpet\"}],\"scattergeo\":[{\"marker\":{\"colorbar\":{\"outlinewidth\":0,\"ticks\":\"\"}},\"type\":\"scattergeo\"}],\"scattergl\":[{\"marker\":{\"colorbar\":{\"outlinewidth\":0,\"ticks\":\"\"}},\"type\":\"scattergl\"}],\"scattermapbox\":[{\"marker\":{\"colorbar\":{\"outlinewidth\":0,\"ticks\":\"\"}},\"type\":\"scattermapbox\"}],\"scatterpolar\":[{\"marker\":{\"colorbar\":{\"outlinewidth\":0,\"ticks\":\"\"}},\"type\":\"scatterpolar\"}],\"scatterpolargl\":[{\"marker\":{\"colorbar\":{\"outlinewidth\":0,\"ticks\":\"\"}},\"type\":\"scatterpolargl\"}],\"scatterternary\":[{\"marker\":{\"colorbar\":{\"outlinewidth\":0,\"ticks\":\"\"}},\"type\":\"scatterternary\"}],\"surface\":[{\"colorbar\":{\"outlinewidth\":0,\"ticks\":\"\"},\"colorscale\":[[0.0,\"#0d0887\"],[0.1111111111111111,\"#46039f\"],[0.2222222222222222,\"#7201a8\"],[0.3333333333333333,\"#9c179e\"],[0.4444444444444444,\"#bd3786\"],[0.5555555555555556,\"#d8576b\"],[0.6666666666666666,\"#ed7953\"],[0.7777777777777778,\"#fb9f3a\"],[0.8888888888888888,\"#fdca26\"],[1.0,\"#f0f921\"]],\"type\":\"surface\"}],\"table\":[{\"cells\":{\"fill\":{\"color\":\"#EBF0F8\"},\"line\":{\"color\":\"white\"}},\"header\":{\"fill\":{\"color\":\"#C8D4E3\"},\"line\":{\"color\":\"white\"}},\"type\":\"table\"}]},\"layout\":{\"annotationdefaults\":{\"arrowcolor\":\"#2a3f5f\",\"arrowhead\":0,\"arrowwidth\":1},\"autotypenumbers\":\"strict\",\"coloraxis\":{\"colorbar\":{\"outlinewidth\":0,\"ticks\":\"\"}},\"colorscale\":{\"diverging\":[[0,\"#8e0152\"],[0.1,\"#c51b7d\"],[0.2,\"#de77ae\"],[0.3,\"#f1b6da\"],[0.4,\"#fde0ef\"],[0.5,\"#f7f7f7\"],[0.6,\"#e6f5d0\"],[0.7,\"#b8e186\"],[0.8,\"#7fbc41\"],[0.9,\"#4d9221\"],[1,\"#276419\"]],\"sequential\":[[0.0,\"#0d0887\"],[0.1111111111111111,\"#46039f\"],[0.2222222222222222,\"#7201a8\"],[0.3333333333333333,\"#9c179e\"],[0.4444444444444444,\"#bd3786\"],[0.5555555555555556,\"#d8576b\"],[0.6666666666666666,\"#ed7953\"],[0.7777777777777778,\"#fb9f3a\"],[0.8888888888888888,\"#fdca26\"],[1.0,\"#f0f921\"]],\"sequentialminus\":[[0.0,\"#0d0887\"],[0.1111111111111111,\"#46039f\"],[0.2222222222222222,\"#7201a8\"],[0.3333333333333333,\"#9c179e\"],[0.4444444444444444,\"#bd3786\"],[0.5555555555555556,\"#d8576b\"],[0.6666666666666666,\"#ed7953\"],[0.7777777777777778,\"#fb9f3a\"],[0.8888888888888888,\"#fdca26\"],[1.0,\"#f0f921\"]]},\"colorway\":[\"#636efa\",\"#EF553B\",\"#00cc96\",\"#ab63fa\",\"#FFA15A\",\"#19d3f3\",\"#FF6692\",\"#B6E880\",\"#FF97FF\",\"#FECB52\"],\"font\":{\"color\":\"#2a3f5f\"},\"geo\":{\"bgcolor\":\"white\",\"lakecolor\":\"white\",\"landcolor\":\"#E5ECF6\",\"showlakes\":true,\"showland\":true,\"subunitcolor\":\"white\"},\"hoverlabel\":{\"align\":\"left\"},\"hovermode\":\"closest\",\"mapbox\":{\"style\":\"light\"},\"paper_bgcolor\":\"white\",\"plot_bgcolor\":\"#E5ECF6\",\"polar\":{\"angularaxis\":{\"gridcolor\":\"white\",\"linecolor\":\"white\",\"ticks\":\"\"},\"bgcolor\":\"#E5ECF6\",\"radialaxis\":{\"gridcolor\":\"white\",\"linecolor\":\"white\",\"ticks\":\"\"}},\"scene\":{\"xaxis\":{\"backgroundcolor\":\"#E5ECF6\",\"gridcolor\":\"white\",\"gridwidth\":2,\"linecolor\":\"white\",\"showbackground\":true,\"ticks\":\"\",\"zerolinecolor\":\"white\"},\"yaxis\":{\"backgroundcolor\":\"#E5ECF6\",\"gridcolor\":\"white\",\"gridwidth\":2,\"linecolor\":\"white\",\"showbackground\":true,\"ticks\":\"\",\"zerolinecolor\":\"white\"},\"zaxis\":{\"backgroundcolor\":\"#E5ECF6\",\"gridcolor\":\"white\",\"gridwidth\":2,\"linecolor\":\"white\",\"showbackground\":true,\"ticks\":\"\",\"zerolinecolor\":\"white\"}},\"shapedefaults\":{\"line\":{\"color\":\"#2a3f5f\"}},\"ternary\":{\"aaxis\":{\"gridcolor\":\"white\",\"linecolor\":\"white\",\"ticks\":\"\"},\"baxis\":{\"gridcolor\":\"white\",\"linecolor\":\"white\",\"ticks\":\"\"},\"bgcolor\":\"#E5ECF6\",\"caxis\":{\"gridcolor\":\"white\",\"linecolor\":\"white\",\"ticks\":\"\"}},\"title\":{\"x\":0.05},\"xaxis\":{\"automargin\":true,\"gridcolor\":\"white\",\"linecolor\":\"white\",\"ticks\":\"\",\"title\":{\"standoff\":15},\"zerolinecolor\":\"white\",\"zerolinewidth\":2},\"yaxis\":{\"automargin\":true,\"gridcolor\":\"white\",\"linecolor\":\"white\",\"ticks\":\"\",\"title\":{\"standoff\":15},\"zerolinecolor\":\"white\",\"zerolinewidth\":2}}},\"scene\":{\"domain\":{\"x\":[0.0,1.0],\"y\":[0.0,1.0]},\"xaxis\":{\"title\":{\"text\":\"x1\"}},\"yaxis\":{\"title\":{\"text\":\"x2\"}},\"zaxis\":{\"title\":{\"text\":\"x3\"}}},\"legend\":{\"tracegroupgap\":0},\"margin\":{\"t\":60}},                        {\"responsive\": true}                    ).then(function(){\n",
              "                            \n",
              "var gd = document.getElementById('f04a32a3-c634-48e9-80b8-0e2678137bfe');\n",
              "var x = new MutationObserver(function (mutations, observer) {{\n",
              "        var display = window.getComputedStyle(gd).display;\n",
              "        if (!display || display === 'none') {{\n",
              "            console.log([gd, 'removed!']);\n",
              "            Plotly.purge(gd);\n",
              "            observer.disconnect();\n",
              "        }}\n",
              "}});\n",
              "\n",
              "// Listen for the removal of the full notebook cells\n",
              "var notebookContainer = gd.closest('#notebook-container');\n",
              "if (notebookContainer) {{\n",
              "    x.observe(notebookContainer, {childList: true});\n",
              "}}\n",
              "\n",
              "// Listen for the clearing of the current output cell\n",
              "var outputEl = gd.closest('.output');\n",
              "if (outputEl) {{\n",
              "    x.observe(outputEl, {childList: true});\n",
              "}}\n",
              "\n",
              "                        })                };                            </script>        </div>\n",
              "</body>\n",
              "</html>"
            ]
          },
          "metadata": {}
        }
      ]
    },
    {
      "cell_type": "markdown",
      "source": [
        "**Split X and Y**"
      ],
      "metadata": {
        "id": "YVufCicMPAXr"
      }
    },
    {
      "cell_type": "code",
      "source": [
        "X = df.drop('Y',axis=1)\n",
        "y = df['Y']"
      ],
      "metadata": {
        "id": "vNABX_4cEIPY"
      },
      "execution_count": 47,
      "outputs": []
    },
    {
      "cell_type": "code",
      "source": [
        "X.head()\n",
        "y.head()"
      ],
      "metadata": {
        "id": "expsw9qlHyFE",
        "outputId": "fa146aba-12e3-4731-fc7c-bc5bc6d49dd9",
        "colab": {
          "base_uri": "https://localhost:8080/"
        }
      },
      "execution_count": 49,
      "outputs": [
        {
          "output_type": "execute_result",
          "data": {
            "text/plain": [
              "0    1.378555e+14\n",
              "1    5.071421e+13\n",
              "2    1.865672e+13\n",
              "3    6.863422e+12\n",
              "4    2.524912e+12\n",
              "Name: Y, dtype: float64"
            ]
          },
          "metadata": {},
          "execution_count": 49
        }
      ]
    },
    {
      "cell_type": "markdown",
      "source": [
        "**Now Think of It and add some new features**\n",
        "\n",
        "HINT\n",
        "\n",
        "\n",
        "\n",
        "*   **PolynomialFeatures** of degree 10\n",
        "*   **e ^ x**\n",
        "*   **log**\n",
        "\n",
        "\n",
        "\n",
        "\n",
        "\n",
        "\n",
        "\n"
      ],
      "metadata": {
        "id": "U5Ju5KA8Fb1T"
      }
    },
    {
      "cell_type": "code",
      "source": [
        "from sklearn.preprocessing import PolynomialFeatures\n",
        "\n",
        "p = PolynomialFeatures(degree = 10)\n",
        "X = p.fit_transform(X)"
      ],
      "metadata": {
        "id": "LHo-ZyztFnw-"
      },
      "execution_count": 50,
      "outputs": []
    },
    {
      "cell_type": "markdown",
      "source": [
        "**add some e^x feature**"
      ],
      "metadata": {
        "id": "SNuJ_DnWPQt-"
      }
    },
    {
      "cell_type": "code",
      "source": [
        "tmp = df['x1'].values\n",
        "\n",
        "X = np.hstack([X, np.exp(tmp).reshape(-1, 1)])"
      ],
      "metadata": {
        "id": "f0zKN7cOF-qV"
      },
      "execution_count": 51,
      "outputs": []
    },
    {
      "cell_type": "code",
      "source": [
        "tmp1=df['x2'].values\n",
        "\n",
        "X=np.hstack([X,np.exp(tmp1).reshape(-1,1)])"
      ],
      "metadata": {
        "id": "r00ToOrHGPp8"
      },
      "execution_count": 52,
      "outputs": []
    },
    {
      "cell_type": "code",
      "source": [
        "tmp2=df['x3'].values\n",
        "\n",
        "X=np.hstack([X,np.exp(tmp2).reshape(-1,1)])"
      ],
      "metadata": {
        "id": "4M0dvQ32GP02"
      },
      "execution_count": 53,
      "outputs": []
    },
    {
      "cell_type": "markdown",
      "source": [
        "**Add log feature if possible**"
      ],
      "metadata": {
        "id": "HgQJkmiRPVr_"
      }
    },
    {
      "cell_type": "code",
      "source": [
        "X=np.hstack([X,np.log2(tmp2).reshape(-1,1)])"
      ],
      "metadata": {
        "id": "vWwf4bjt_tin"
      },
      "execution_count": 54,
      "outputs": []
    },
    {
      "cell_type": "markdown",
      "source": [
        "now fit  in linear model and calculate mse"
      ],
      "metadata": {
        "id": "LDxSxsLRzHjF"
      }
    },
    {
      "cell_type": "code",
      "source": [
        "lin_reg.fit(X, y)\n",
        "\n",
        "from sklearn.metrics import mean_squared_error\n",
        "\n",
        "mean_squared_error(y, lin_reg.predict(X))"
      ],
      "metadata": {
        "id": "sKm3nVpPG6Rz",
        "colab": {
          "base_uri": "https://localhost:8080/"
        },
        "outputId": "0da8c1c2-fa7a-4600-fd15-5c7426fd3017"
      },
      "execution_count": 55,
      "outputs": [
        {
          "output_type": "execute_result",
          "data": {
            "text/plain": [
              "0.11522445300215627"
            ]
          },
          "metadata": {},
          "execution_count": 55
        }
      ]
    },
    {
      "cell_type": "code",
      "source": [
        "# This is what error i got try to minimize it"
      ],
      "metadata": {
        "colab": {
          "base_uri": "https://localhost:8080/"
        },
        "id": "Xqbg7ogeG6UW",
        "outputId": "17815365-2886-4bc8-eaf9-8bc37079aa50"
      },
      "execution_count": null,
      "outputs": [
        {
          "output_type": "execute_result",
          "data": {
            "text/plain": [
              "0.13336958755364892"
            ]
          },
          "metadata": {},
          "execution_count": 93
        }
      ]
    },
    {
      "cell_type": "markdown",
      "source": [
        "**Now it's time to check which features having more weights**"
      ],
      "metadata": {
        "id": "HYe-UUMYIHoe"
      }
    },
    {
      "cell_type": "code",
      "source": [
        "lin_reg.coef_\n"
      ],
      "metadata": {
        "id": "6ue6XNOtQE7P",
        "colab": {
          "base_uri": "https://localhost:8080/"
        },
        "outputId": "89070f0c-7936-4b87-d940-f36762cf6a9c"
      },
      "execution_count": 56,
      "outputs": [
        {
          "output_type": "execute_result",
          "data": {
            "text/plain": [
              "array([ 8.56714417e-07, -2.03254985e-04,  2.08750232e-04,  3.56156982e-05,\n",
              "       -5.42047503e-04,  3.95721438e-04, -2.56318946e-04, -2.41167617e-04,\n",
              "        2.91334055e-04,  8.52692211e-05, -3.09727801e-03,  2.75072033e-03,\n",
              "       -2.20456785e-04, -2.51068870e-03,  2.38823584e-05, -5.45521904e-04,\n",
              "        2.38637022e-03,  2.05487173e-04,  6.27195172e-04,  1.57327537e-04,\n",
              "       -1.03652785e-02,  8.19282949e-03, -2.19990767e-03, -6.23680894e-03,\n",
              "        2.08375511e-03, -4.57071207e-04,  4.41881264e-03, -2.11973627e-03,\n",
              "        3.84242089e-05, -1.44370727e-03, -2.65112070e-03,  2.33774553e-03,\n",
              "        4.55718705e-04,  1.60590552e-03,  2.86447754e-04, -3.39711964e-02,\n",
              "        2.66820606e-02, -3.89635010e-03, -2.09161969e-02,  2.26211642e-03,\n",
              "       -4.46136538e-03,  1.65428266e-02, -6.76575974e-04,  4.21792405e-03,\n",
              "       -1.99624869e-03, -1.34896278e-02, -9.79095401e-04, -4.29858715e-03,\n",
              "        9.09012654e-04, -4.40980209e-03,  1.17516280e-02,  2.85044964e-03,\n",
              "        4.77148578e-03,  3.34886105e-04,  4.75199247e-03,  1.51348931e-03,\n",
              "       -6.08013779e-02,  3.55820486e-02, -1.42318079e-02, -1.54536335e-02,\n",
              "        1.15302633e-02, -6.01453632e-03, -6.52478898e-04, -1.00478099e-02,\n",
              "        2.65068302e-03, -8.87085351e-03,  1.37297756e-02,  9.77808702e-03,\n",
              "        6.09502196e-04,  7.52831121e-03, -8.37232342e-03, -2.47407917e-02,\n",
              "       -1.08083752e-02, -4.01916316e-03, -7.00878310e-03,  5.11122502e-03,\n",
              "       -1.41098307e-02,  3.46694662e-02,  1.33431611e-02,  7.89189307e-03,\n",
              "        7.45760853e-03, -1.49415794e-03,  1.56760021e-02,  1.47784071e-02,\n",
              "       -6.67921920e-02,  2.05487935e-02, -2.80922816e-02,  7.00153979e-03,\n",
              "        1.75959144e-02,  2.73445598e-03, -1.93860278e-02, -8.95612529e-03,\n",
              "       -7.55473349e-03,  1.71914274e-03,  1.93810715e-02,  1.25933130e-03,\n",
              "        9.84618677e-03, -8.76768874e-03, -1.38910176e-02, -9.05180320e-03,\n",
              "        6.42707078e-03, -9.62411100e-03,  1.49418210e-02,  7.64684170e-03,\n",
              "       -2.70139558e-02, -1.02421954e-02, -1.51291320e-02,  6.70435352e-03,\n",
              "       -2.08682766e-02, -3.81289672e-03,  1.65855093e-02, -3.24991427e-02,\n",
              "        3.78823581e-02,  2.60613415e-02, -6.50341996e-04,  2.73050275e-02,\n",
              "        2.73363774e-03, -4.64617902e-03,  4.50215468e-02,  8.49382333e-02,\n",
              "       -4.50874136e-02, -6.45675362e-03, -3.22732635e-02,  2.28493999e-02,\n",
              "        1.09444424e-02,  1.65416987e-02, -1.79231683e-02,  2.65905709e-03,\n",
              "       -1.48182253e-02,  1.51309255e-02,  3.09007213e-03, -9.79965749e-03,\n",
              "        9.24391523e-03, -1.41718897e-02, -1.73937322e-02,  1.21294567e-02,\n",
              "        1.10517525e-02, -1.71387098e-03,  7.62297469e-03,  6.88486913e-03,\n",
              "       -1.96997901e-02, -1.95948132e-02, -6.26858458e-03, -5.83900968e-03,\n",
              "        3.97259542e-03, -1.02906960e-03, -1.10860152e-03, -2.42753490e-02,\n",
              "        1.20245223e-02, -5.51050409e-03,  1.12855784e-02, -2.05520924e-02,\n",
              "       -1.95403119e-03,  1.42315984e-02, -7.43043946e-04,  3.62721543e-02,\n",
              "        1.75661678e-02,  2.62302609e-02, -1.20959952e-02,  4.26495376e-02,\n",
              "        4.16358820e-03, -1.82741502e-02,  3.63059239e-02,  2.98298153e-02,\n",
              "       -1.33405260e-02, -1.35351635e-02, -2.17039817e-02, -2.18697060e-02,\n",
              "        1.71776955e-02, -3.03366461e-03,  2.25198136e-02,  4.09259696e-04,\n",
              "        1.17538485e-02, -1.00532066e-02,  1.41703743e-02, -1.45699010e-02,\n",
              "       -9.96390001e-03, -1.38083872e-03, -2.59781151e-03, -1.48330478e-02,\n",
              "        1.73928408e-02,  2.48953986e-03,  8.71500602e-03, -8.52215613e-03,\n",
              "        1.49149972e-03, -5.87388930e-03, -8.27466512e-03,  6.17001382e-03,\n",
              "       -1.02974048e-02,  1.47645623e-02,  3.90467227e-03, -9.52399587e-03,\n",
              "       -8.48416779e-03, -6.97716299e-03, -1.12812681e-02,  5.95864285e-03,\n",
              "       -1.20168431e-02, -4.81985210e-03,  8.89941718e-03, -1.04573176e-02,\n",
              "        1.17151690e-02,  1.66538162e-02,  7.22774243e-03,  2.79422011e-03,\n",
              "       -3.89225962e-03,  3.40403544e-03,  2.10185837e-03,  1.01458951e-02,\n",
              "        1.66124469e-02, -5.33420156e-03, -3.22405320e-03,  1.32901547e-02,\n",
              "       -1.24172226e-02,  3.76653740e-02, -2.06570854e-04, -1.65841326e-02,\n",
              "        1.82496812e-02,  6.50023677e-03, -5.05740953e-03,  6.88522765e-04,\n",
              "        3.19451068e-03, -1.39642360e-02, -6.14064987e-03, -2.80305378e-03,\n",
              "       -1.09632738e-02,  1.38141705e-02,  1.64380717e-02,  8.85683305e-03,\n",
              "        3.60112402e-03,  2.25154459e-03, -1.65474582e-02,  1.89494319e-04,\n",
              "       -1.16325488e-02,  8.87648188e-03, -6.69145137e-03,  5.48055136e-03,\n",
              "       -8.06076963e-03,  1.08485394e-02, -1.11609206e-02, -4.84287551e-03,\n",
              "        1.88513922e-03,  8.10635560e-03,  1.02382087e-02, -4.25380214e-03,\n",
              "        4.72656153e-03,  6.14771985e-03, -6.57198917e-03, -6.59706196e-05,\n",
              "       -1.48524270e-02, -5.63661937e-03, -3.76380482e-03,  6.80520484e-03,\n",
              "       -3.22692050e-03, -7.73976216e-04, -6.63031435e-03,  1.65683533e-03,\n",
              "        9.73497439e-03, -3.12135058e-03,  8.56701379e-03, -1.64713483e-02,\n",
              "       -4.93328408e-04,  7.82022578e-03, -1.45092702e-03,  7.54824453e-03,\n",
              "       -1.46250312e-03,  3.15654468e-03,  8.90953338e-03, -6.58647321e-03,\n",
              "        1.38319663e-02,  3.19372950e-03, -6.36669778e-03,  9.49903307e-03,\n",
              "        5.36812546e-03, -2.71020884e-03,  2.73479590e-04, -5.78500711e-03,\n",
              "        1.34822945e-03, -3.04328171e-03,  1.55398628e-02, -3.44085978e-03,\n",
              "       -6.55851350e-03,  4.65861204e-03, -3.77592374e-04, -1.21105032e-03,\n",
              "        2.62623868e-04, -1.42986863e-05,  1.29000097e+01,  5.57726824e-04,\n",
              "        8.79563611e-06,  4.92708909e-05])"
            ]
          },
          "metadata": {},
          "execution_count": 56
        }
      ]
    },
    {
      "cell_type": "code",
      "source": [
        ""
      ],
      "metadata": {
        "colab": {
          "base_uri": "https://localhost:8080/"
        },
        "id": "Ywtn7ZBoG6Wt",
        "outputId": "4aead490-59f5-4636-a7f8-dab368229fa4"
      },
      "execution_count": null,
      "outputs": [
        {
          "output_type": "execute_result",
          "data": {
            "text/plain": [
              "array([-1.05379771e-03,  1.97346567e-01, -1.99894954e-01, -6.17531996e+00,\n",
              "       -1.91417541e+01,  1.97992498e+01, -2.18439336e+00, -2.04780945e+01,\n",
              "       -2.63337521e+00,  6.66491122e+00, -2.28563095e+01,  8.34588023e+00,\n",
              "       -4.08357728e-01,  7.06547801e+00, -1.30541709e+00,  2.61132350e+00,\n",
              "       -2.34183283e+01, -7.39210258e-01,  2.58172948e+00,  8.66707637e+00,\n",
              "       -1.39957562e+01, -3.68038932e+00,  1.32785060e-01,  1.03660945e+01,\n",
              "       -4.58667084e-01,  7.60598317e-01, -5.06087749e+00, -5.59855175e-01,\n",
              "        1.28095712e+00,  3.40982910e+00, -1.32940955e+01, -8.99884624e-03,\n",
              "        7.23540962e-01,  3.34286727e+00,  1.46567195e-03, -3.59950707e+00,\n",
              "       -7.35505022e+00,  1.25688335e-01,  4.64303331e+00, -2.41656847e-02,\n",
              "        8.76023988e-02,  3.41853994e+00, -3.37304048e-01,  5.10564635e-01,\n",
              "        9.14736203e-01, -7.50393128e+00, -9.58105317e-02,  4.87281419e-01,\n",
              "        1.75316216e+00,  5.57234985e-04, -2.79393549e+00,  9.12275944e-02,\n",
              "        7.11119013e-02,  8.39807868e-01,  5.85288219e-04, -1.97042904e-05,\n",
              "        1.29000000e+01,  1.06350300e-04,  1.75770509e-12,  9.60486543e+00])"
            ]
          },
          "metadata": {},
          "execution_count": 44
        }
      ]
    },
    {
      "cell_type": "markdown",
      "source": [
        "**Seems like its trying to overfit the data all the weights are too high to too low**\n",
        "\n",
        "\n",
        "**Let's use Ridge and Lasso to solve this**"
      ],
      "metadata": {
        "id": "RbILxNuWItVz"
      }
    },
    {
      "cell_type": "code",
      "source": [
        "from sklearn.linear_model import Ridge, Lasso"
      ],
      "metadata": {
        "id": "iYql1a8UG6Zd"
      },
      "execution_count": 57,
      "outputs": []
    },
    {
      "cell_type": "code",
      "source": [
        "ridge = Ridge()\n",
        "lasso = Lasso()"
      ],
      "metadata": {
        "id": "iXfiiBY00obJ"
      },
      "execution_count": 58,
      "outputs": []
    },
    {
      "cell_type": "code",
      "source": [
        "ridge.fit(X,y)\n",
        "lasso.fit(X,y)"
      ],
      "metadata": {
        "id": "Sn7njUiY090J",
        "colab": {
          "base_uri": "https://localhost:8080/"
        },
        "outputId": "edabb6d1-3b62-4dac-ed58-f2ea703fb1d7"
      },
      "execution_count": 59,
      "outputs": [
        {
          "output_type": "stream",
          "name": "stderr",
          "text": [
            "/usr/local/lib/python3.7/dist-packages/sklearn/linear_model/_ridge.py:197: UserWarning:\n",
            "\n",
            "Singular matrix in solving dual problem. Using least-squares solution instead.\n",
            "\n"
          ]
        },
        {
          "output_type": "execute_result",
          "data": {
            "text/plain": [
              "Lasso()"
            ]
          },
          "metadata": {},
          "execution_count": 59
        }
      ]
    },
    {
      "cell_type": "markdown",
      "source": [
        "**Now let's see how many unnecessary features are there**"
      ],
      "metadata": {
        "id": "yJwL1f3AJNKb"
      }
    },
    {
      "cell_type": "code",
      "source": [
        "lin_reg.coef_"
      ],
      "metadata": {
        "id": "EO-xbiMH1Hw8",
        "colab": {
          "base_uri": "https://localhost:8080/"
        },
        "outputId": "0625211e-2359-42d7-d252-c5ea4bdf2b4c"
      },
      "execution_count": 60,
      "outputs": [
        {
          "output_type": "execute_result",
          "data": {
            "text/plain": [
              "array([ 8.56714417e-07, -2.03254985e-04,  2.08750232e-04,  3.56156982e-05,\n",
              "       -5.42047503e-04,  3.95721438e-04, -2.56318946e-04, -2.41167617e-04,\n",
              "        2.91334055e-04,  8.52692211e-05, -3.09727801e-03,  2.75072033e-03,\n",
              "       -2.20456785e-04, -2.51068870e-03,  2.38823584e-05, -5.45521904e-04,\n",
              "        2.38637022e-03,  2.05487173e-04,  6.27195172e-04,  1.57327537e-04,\n",
              "       -1.03652785e-02,  8.19282949e-03, -2.19990767e-03, -6.23680894e-03,\n",
              "        2.08375511e-03, -4.57071207e-04,  4.41881264e-03, -2.11973627e-03,\n",
              "        3.84242089e-05, -1.44370727e-03, -2.65112070e-03,  2.33774553e-03,\n",
              "        4.55718705e-04,  1.60590552e-03,  2.86447754e-04, -3.39711964e-02,\n",
              "        2.66820606e-02, -3.89635010e-03, -2.09161969e-02,  2.26211642e-03,\n",
              "       -4.46136538e-03,  1.65428266e-02, -6.76575974e-04,  4.21792405e-03,\n",
              "       -1.99624869e-03, -1.34896278e-02, -9.79095401e-04, -4.29858715e-03,\n",
              "        9.09012654e-04, -4.40980209e-03,  1.17516280e-02,  2.85044964e-03,\n",
              "        4.77148578e-03,  3.34886105e-04,  4.75199247e-03,  1.51348931e-03,\n",
              "       -6.08013779e-02,  3.55820486e-02, -1.42318079e-02, -1.54536335e-02,\n",
              "        1.15302633e-02, -6.01453632e-03, -6.52478898e-04, -1.00478099e-02,\n",
              "        2.65068302e-03, -8.87085351e-03,  1.37297756e-02,  9.77808702e-03,\n",
              "        6.09502196e-04,  7.52831121e-03, -8.37232342e-03, -2.47407917e-02,\n",
              "       -1.08083752e-02, -4.01916316e-03, -7.00878310e-03,  5.11122502e-03,\n",
              "       -1.41098307e-02,  3.46694662e-02,  1.33431611e-02,  7.89189307e-03,\n",
              "        7.45760853e-03, -1.49415794e-03,  1.56760021e-02,  1.47784071e-02,\n",
              "       -6.67921920e-02,  2.05487935e-02, -2.80922816e-02,  7.00153979e-03,\n",
              "        1.75959144e-02,  2.73445598e-03, -1.93860278e-02, -8.95612529e-03,\n",
              "       -7.55473349e-03,  1.71914274e-03,  1.93810715e-02,  1.25933130e-03,\n",
              "        9.84618677e-03, -8.76768874e-03, -1.38910176e-02, -9.05180320e-03,\n",
              "        6.42707078e-03, -9.62411100e-03,  1.49418210e-02,  7.64684170e-03,\n",
              "       -2.70139558e-02, -1.02421954e-02, -1.51291320e-02,  6.70435352e-03,\n",
              "       -2.08682766e-02, -3.81289672e-03,  1.65855093e-02, -3.24991427e-02,\n",
              "        3.78823581e-02,  2.60613415e-02, -6.50341996e-04,  2.73050275e-02,\n",
              "        2.73363774e-03, -4.64617902e-03,  4.50215468e-02,  8.49382333e-02,\n",
              "       -4.50874136e-02, -6.45675362e-03, -3.22732635e-02,  2.28493999e-02,\n",
              "        1.09444424e-02,  1.65416987e-02, -1.79231683e-02,  2.65905709e-03,\n",
              "       -1.48182253e-02,  1.51309255e-02,  3.09007213e-03, -9.79965749e-03,\n",
              "        9.24391523e-03, -1.41718897e-02, -1.73937322e-02,  1.21294567e-02,\n",
              "        1.10517525e-02, -1.71387098e-03,  7.62297469e-03,  6.88486913e-03,\n",
              "       -1.96997901e-02, -1.95948132e-02, -6.26858458e-03, -5.83900968e-03,\n",
              "        3.97259542e-03, -1.02906960e-03, -1.10860152e-03, -2.42753490e-02,\n",
              "        1.20245223e-02, -5.51050409e-03,  1.12855784e-02, -2.05520924e-02,\n",
              "       -1.95403119e-03,  1.42315984e-02, -7.43043946e-04,  3.62721543e-02,\n",
              "        1.75661678e-02,  2.62302609e-02, -1.20959952e-02,  4.26495376e-02,\n",
              "        4.16358820e-03, -1.82741502e-02,  3.63059239e-02,  2.98298153e-02,\n",
              "       -1.33405260e-02, -1.35351635e-02, -2.17039817e-02, -2.18697060e-02,\n",
              "        1.71776955e-02, -3.03366461e-03,  2.25198136e-02,  4.09259696e-04,\n",
              "        1.17538485e-02, -1.00532066e-02,  1.41703743e-02, -1.45699010e-02,\n",
              "       -9.96390001e-03, -1.38083872e-03, -2.59781151e-03, -1.48330478e-02,\n",
              "        1.73928408e-02,  2.48953986e-03,  8.71500602e-03, -8.52215613e-03,\n",
              "        1.49149972e-03, -5.87388930e-03, -8.27466512e-03,  6.17001382e-03,\n",
              "       -1.02974048e-02,  1.47645623e-02,  3.90467227e-03, -9.52399587e-03,\n",
              "       -8.48416779e-03, -6.97716299e-03, -1.12812681e-02,  5.95864285e-03,\n",
              "       -1.20168431e-02, -4.81985210e-03,  8.89941718e-03, -1.04573176e-02,\n",
              "        1.17151690e-02,  1.66538162e-02,  7.22774243e-03,  2.79422011e-03,\n",
              "       -3.89225962e-03,  3.40403544e-03,  2.10185837e-03,  1.01458951e-02,\n",
              "        1.66124469e-02, -5.33420156e-03, -3.22405320e-03,  1.32901547e-02,\n",
              "       -1.24172226e-02,  3.76653740e-02, -2.06570854e-04, -1.65841326e-02,\n",
              "        1.82496812e-02,  6.50023677e-03, -5.05740953e-03,  6.88522765e-04,\n",
              "        3.19451068e-03, -1.39642360e-02, -6.14064987e-03, -2.80305378e-03,\n",
              "       -1.09632738e-02,  1.38141705e-02,  1.64380717e-02,  8.85683305e-03,\n",
              "        3.60112402e-03,  2.25154459e-03, -1.65474582e-02,  1.89494319e-04,\n",
              "       -1.16325488e-02,  8.87648188e-03, -6.69145137e-03,  5.48055136e-03,\n",
              "       -8.06076963e-03,  1.08485394e-02, -1.11609206e-02, -4.84287551e-03,\n",
              "        1.88513922e-03,  8.10635560e-03,  1.02382087e-02, -4.25380214e-03,\n",
              "        4.72656153e-03,  6.14771985e-03, -6.57198917e-03, -6.59706196e-05,\n",
              "       -1.48524270e-02, -5.63661937e-03, -3.76380482e-03,  6.80520484e-03,\n",
              "       -3.22692050e-03, -7.73976216e-04, -6.63031435e-03,  1.65683533e-03,\n",
              "        9.73497439e-03, -3.12135058e-03,  8.56701379e-03, -1.64713483e-02,\n",
              "       -4.93328408e-04,  7.82022578e-03, -1.45092702e-03,  7.54824453e-03,\n",
              "       -1.46250312e-03,  3.15654468e-03,  8.90953338e-03, -6.58647321e-03,\n",
              "        1.38319663e-02,  3.19372950e-03, -6.36669778e-03,  9.49903307e-03,\n",
              "        5.36812546e-03, -2.71020884e-03,  2.73479590e-04, -5.78500711e-03,\n",
              "        1.34822945e-03, -3.04328171e-03,  1.55398628e-02, -3.44085978e-03,\n",
              "       -6.55851350e-03,  4.65861204e-03, -3.77592374e-04, -1.21105032e-03,\n",
              "        2.62623868e-04, -1.42986863e-05,  1.29000097e+01,  5.57726824e-04,\n",
              "        8.79563611e-06,  4.92708909e-05])"
            ]
          },
          "metadata": {},
          "execution_count": 60
        }
      ]
    },
    {
      "cell_type": "code",
      "source": [
        "ridge.coef_\n"
      ],
      "metadata": {
        "id": "m9gr6p6kJUSq",
        "colab": {
          "base_uri": "https://localhost:8080/"
        },
        "outputId": "43a4dbcf-4fca-4f65-ad21-f4bab002656f"
      },
      "execution_count": 61,
      "outputs": [
        {
          "output_type": "execute_result",
          "data": {
            "text/plain": [
              "array([ 0.00000000e+00, -4.12331438e-09,  4.23182265e-09, -1.18388005e-09,\n",
              "       -2.57166667e-08,  2.31381729e-08, -3.20076680e-08, -2.04061596e-08,\n",
              "        3.19153329e-08, -1.74321412e-08, -5.78131042e-07,  5.73042385e-07,\n",
              "       -2.24460575e-07, -5.69855469e-07,  2.05098221e-07, -2.62649716e-07,\n",
              "        5.68741539e-07, -1.85299227e-07,  2.55799334e-07, -2.22137958e-07,\n",
              "       -5.32159922e-06,  5.00522206e-06, -3.77635015e-06, -4.68453654e-06,\n",
              "        3.69852206e-06, -1.84456227e-06,  4.35792793e-06, -3.63393194e-06,\n",
              "        1.68574834e-06, -2.25767086e-06, -4.02360376e-06,  3.58327287e-06,\n",
              "       -1.52816330e-06,  2.14171118e-06, -2.65210464e-06, -7.12470398e-05,\n",
              "        6.89206994e-05, -3.00098894e-05, -6.67829109e-05,  2.78182942e-05,\n",
              "       -2.58876895e-05,  6.48420376e-05, -2.56304688e-05,  2.51127111e-05,\n",
              "       -1.47361714e-05, -6.31079376e-05,  2.34360612e-05, -2.44427180e-05,\n",
              "        1.33415936e-05, -1.85625151e-05,  6.15921435e-05, -2.12239000e-05,\n",
              "        2.38795027e-05, -1.20018636e-05,  1.69572355e-05, -2.86332889e-05,\n",
              "       -5.81663329e-04,  5.40722596e-04, -3.00260641e-04, -5.00541059e-04,\n",
              "        2.84470219e-04, -1.63994907e-04,  4.60989842e-04, -2.69994467e-04,\n",
              "        1.47872913e-04, -1.78005995e-04, -4.21930071e-04,  2.56865003e-04,\n",
              "       -1.31938481e-04,  1.71056544e-04, -1.02367527e-04,  3.83211438e-04,\n",
              "       -2.45122455e-04,  1.16113664e-04, -1.65025195e-04,  9.04067918e-05,\n",
              "       -1.25280005e-04, -3.44670573e-04,  2.34817336e-04, -1.00317047e-04,\n",
              "        1.59892807e-04, -7.93986267e-05,  1.05971619e-04, -2.55087508e-04,\n",
              "       -4.66549301e-03,  4.32906125e-03, -1.38378785e-03, -4.01609765e-03,\n",
              "        1.18315544e-03, -1.04260909e-03,  3.72662044e-03, -9.89709358e-04,\n",
              "        9.40576510e-04, -7.69228772e-04, -3.46075005e-03,  8.02600815e-04,\n",
              "       -8.48586750e-04,  6.48940585e-04, -1.00640455e-03,  3.21871973e-03,\n",
              "       -6.20933728e-04,  7.66756022e-04, -5.30973329e-04,  9.52072415e-04,\n",
              "       -4.52826489e-04, -3.00088753e-03,  4.43756362e-04, -6.95265130e-04,\n",
              "        4.14663263e-04, -9.05753169e-04,  3.65837708e-04, -4.52054689e-04,\n",
              "        2.80774991e-03, -2.70052054e-04,  6.34363912e-04, -2.99344291e-04,\n",
              "        8.66905653e-04, -2.91803211e-04,  2.62565990e-04, -1.49218820e-03,\n",
              "       -1.16895004e-02,  8.31383488e-03, -3.85019490e-03, -5.11494008e-03,\n",
              "        2.85905173e-03,  1.98543008e-04,  2.07894035e-03, -2.00021985e-03,\n",
              "       -1.02688027e-03, -1.91929838e-03,  8.08419455e-04,  1.27150772e-03,\n",
              "        1.79646383e-03,  1.36252036e-03, -1.59485901e-03, -3.56186474e-03,\n",
              "       -6.71336228e-04, -2.51367611e-03, -8.86054640e-04,  8.42299077e-04,\n",
              "       -2.63658604e-03,  6.19669255e-03,  1.98792133e-04,  3.18515918e-03,\n",
              "        4.90182397e-04, -1.12828725e-04,  2.34847529e-03,  4.54424521e-04,\n",
              "       -8.72888514e-03,  1.46310465e-04, -3.81787268e-03, -1.75716200e-04,\n",
              "       -5.99270389e-04, -2.12145802e-03, -8.23268342e-04,  1.84989101e-03,\n",
              "        1.11752373e-02, -3.63359730e-04,  4.41915663e-03, -5.59841297e-05,\n",
              "        1.29943986e-03,  1.94691491e-03,  1.05222224e-03, -3.07661567e-03,\n",
              "       -1.14936392e-03, -1.43212051e-02,  5.46952597e-03, -6.57552712e-03,\n",
              "        9.50092983e-04,  3.70893975e-03,  4.75808037e-03, -5.01320601e-03,\n",
              "       -1.54939733e-03, -4.72654853e-03, -3.58875643e-03,  6.78640119e-03,\n",
              "        1.10500083e-05,  4.04023644e-03,  2.16796183e-03, -1.17775167e-03,\n",
              "       -6.32676481e-03,  9.92481088e-04, -2.72829753e-03, -1.14933949e-03,\n",
              "       -5.03540851e-05, -3.17399496e-03,  3.68126014e-03, -1.54860130e-03,\n",
              "        8.15613696e-04,  4.80068443e-04,  7.16652148e-04,  1.17600585e-03,\n",
              "        7.15314400e-04,  1.11399029e-03,  1.74629512e-03,  1.67752214e-03,\n",
              "       -1.05715720e-04, -8.24586725e-04,  6.47106061e-04, -3.75382262e-04,\n",
              "        1.60186945e-03, -8.03453093e-03, -1.67674199e-03, -4.73577747e-03,\n",
              "       -3.02256033e-05,  3.73178173e-04, -2.33897045e-03, -2.64687948e-04,\n",
              "       -1.83583638e-04, -5.95162772e-04,  1.70685217e-02,  1.43400384e-03,\n",
              "        8.34921106e-03, -1.31769835e-05,  6.42874924e-04,  3.93756039e-03,\n",
              "        1.10235519e-03, -2.24049232e-03, -2.96567621e-04,  1.27743084e-04,\n",
              "       -7.12822699e-03, -3.99040264e-03, -6.17292378e-03,  8.41346009e-03,\n",
              "        1.14416353e-03,  7.75072365e-03, -7.88479352e-03,  1.75383724e-03,\n",
              "       -4.19831084e-03, -4.45451619e-03,  4.13449386e-03, -3.02319928e-03,\n",
              "        5.77307007e-04,  1.73851154e-03, -1.66955453e-04,  1.11438885e-03,\n",
              "        3.11148085e-03,  2.59716104e-03, -7.27130341e-05, -7.58454929e-04,\n",
              "       -1.30183011e-03, -6.13852916e-03, -2.40982423e-03, -4.81942648e-03,\n",
              "       -8.32746743e-04,  7.38661046e-04, -1.16969671e-03,  3.25237363e-04,\n",
              "        9.20632739e-03,  1.25066065e-03,  5.59015905e-03,  1.23366253e-03,\n",
              "       -1.92321480e-04,  2.12890386e-03,  2.30925659e-04,  5.84214594e-04,\n",
              "       -8.56913319e-03,  9.50812655e-05, -4.41290892e-03, -1.34958712e-03,\n",
              "       -4.53606943e-04, -1.67405444e-03, -5.33357068e-04,  6.65045119e-04,\n",
              "       -2.25056149e-04,  2.45158592e-03, -1.42132707e-03,  7.90266407e-04,\n",
              "        1.36124026e-03,  7.60158313e-04, -1.28447109e-04,  3.38428618e-04,\n",
              "       -8.27480759e-04, -2.38886665e-04,  5.32984295e-05,  1.09590474e-02,\n",
              "        2.59083871e-03,  5.78041952e-03, -1.40746524e-03, -2.72629643e-04,\n",
              "        3.24042760e-03,  5.22945783e-04, -9.19553159e-04,  1.10408214e-05,\n",
              "        4.61487721e-05, -4.04457205e-06,  1.29000271e+01,  1.24945042e-06,\n",
              "        1.59491775e-05, -2.99997300e-10])"
            ]
          },
          "metadata": {},
          "execution_count": 61
        }
      ]
    },
    {
      "cell_type": "code",
      "source": [
        "lasso.coef_"
      ],
      "metadata": {
        "id": "cvOcPwlSJVJy",
        "colab": {
          "base_uri": "https://localhost:8080/"
        },
        "outputId": "901f8fd4-748d-416e-c168-c0cdd31498a7"
      },
      "execution_count": 62,
      "outputs": [
        {
          "output_type": "execute_result",
          "data": {
            "text/plain": [
              "array([ 0.00000000e+00, -8.51906989e+10,  1.00191163e-01,  3.17387215e+10,\n",
              "        9.81931914e+09, -2.92713489e+08,  2.53663094e+09, -9.44866266e+08,\n",
              "       -8.38070860e+08, -1.61539509e+09, -2.98936043e+07, -4.21403016e+05,\n",
              "       -3.30277030e+08,  1.46632952e+08,  2.00857637e+08,  9.20897843e+07,\n",
              "       -6.49389323e+07, -1.79419389e+08, -9.15042384e+07,  6.60308137e+07,\n",
              "       -4.69988442e+06,  1.98679919e+05, -5.80740754e+06,  2.35316960e+06,\n",
              "        3.55326806e+06,  3.40324348e+06, -5.17709205e+05, -3.58647519e+06,\n",
              "       -3.14469495e+06, -1.10678607e+06,  7.35625259e+05,  2.99574060e+06,\n",
              "        3.38949411e+06,  8.35462803e+05, -1.16359437e+05, -1.75487260e+05,\n",
              "        6.26508280e+03, -4.34870609e+04,  1.22984401e+04,  2.56838721e+04,\n",
              "        2.51596847e+05,  5.74852273e+04, -1.07171190e+05, -2.06650796e+05,\n",
              "        2.48893049e+04, -1.52279059e+04,  1.50075619e+05,  1.78361117e+05,\n",
              "        9.98968613e+02, -1.50066731e+05, -2.32595796e+04, -1.11594659e+05,\n",
              "       -2.18212941e+05,  4.87409143e+04,  1.03692398e+05, -3.06354756e+04,\n",
              "       -3.73441061e+03,  1.20432007e+02, -2.49593544e+03,  9.16679790e+02,\n",
              "        1.52397352e+03,  1.50686554e+04,  3.10778017e+03, -6.09732930e+03,\n",
              "       -1.28242632e+04, -2.30990375e+03, -3.13269444e+02,  7.55176353e+03,\n",
              "        1.21302202e+04,  3.19008404e+03, -1.93478880e+03, -7.63053167e+02,\n",
              "       -7.49677540e+03, -1.23558942e+04, -3.23285433e+03,  1.63089004e+03,\n",
              "       -3.06885131e+03,  7.34176889e+02,  6.92713807e+03,  1.31957063e+04,\n",
              "        2.33551802e+03, -5.08822510e+01,  1.78108673e+03, -7.35439732e+02,\n",
              "        1.99715186e+01,  4.88517484e-02, -2.33365395e+02,  9.38531295e+01,\n",
              "        1.46240905e+02,  5.72064919e+02,  7.42883094e+01, -2.83135257e+02,\n",
              "       -5.05397471e+02,  7.23435167e+01, -1.45568173e+01,  3.66834431e+02,\n",
              "        4.57941031e+02, -3.29926754e+01, -3.72175900e+02, -7.24877853e+01,\n",
              "       -3.10979982e+02, -4.94139571e+02,  7.27823612e+01,  3.39927958e+02,\n",
              "        3.34808356e+01,  3.10048664e+01,  3.11928627e+02,  4.99621033e+02,\n",
              "       -8.69576550e+01, -3.37392035e+02, -5.39556248e+01,  2.98776691e+01,\n",
              "       -2.69910963e+01, -3.27147298e+02, -4.93305296e+02,  8.66555164e+01,\n",
              "        3.56685172e+02,  5.06354187e+01, -2.71963604e+01, -1.62678068e+01,\n",
              "        5.49241198e+00, -1.20984322e-01, -1.01153294e+01,  4.06098506e+00,\n",
              "        6.27597842e+00,  1.75138189e+01,  1.35446165e+00, -9.73020496e+00,\n",
              "       -1.57867877e+01,  8.14245977e-01,  2.60995066e-01,  1.15232708e+01,\n",
              "        1.46982403e+01,  1.41825950e-01, -6.86243339e+00, -2.02129666e+00,\n",
              "       -1.06099024e+01, -1.50306796e+01,  4.81515272e-02,  6.34912901e+00,\n",
              "       -1.15216867e+01,  2.22851030e+00,  8.40517675e+00,  1.64676353e+01,\n",
              "       -1.62130405e+00, -3.82162630e+00,  9.22191113e+00,  6.22085175e+00,\n",
              "       -2.75056825e-01, -9.65854125e+00, -1.58247539e+01,  1.15094279e+00,\n",
              "        4.01907581e+00, -1.03081592e+01, -5.74360839e+00,  3.29659886e+00,\n",
              "        1.14033233e+00,  1.01729214e+01,  1.53369473e+01, -5.00864537e-01,\n",
              "       -4.70885636e+00,  1.24006069e+01,  4.02569750e+00, -2.15516544e+00,\n",
              "       -4.26659837e-01,  2.87570713e-01, -7.35540510e-03, -2.51957811e-01,\n",
              "        1.02247709e-01,  1.52590676e-01,  4.54327401e-01,  3.25439052e-02,\n",
              "       -2.44587704e-01, -4.07093866e-01, -2.35246901e-01,  4.56046325e-02,\n",
              "        2.24004603e-01,  4.09800215e-01,  2.41013247e-01, -2.99804453e-01,\n",
              "       -6.70939264e-02, -1.50847017e-01, -4.43260586e-01, -2.19574049e-01,\n",
              "        2.67788726e-01,  9.50980536e-02,  2.03235082e-02,  1.43928115e-01,\n",
              "        4.45454296e-01,  2.19895561e-01, -2.60434527e-01, -1.25119488e-01,\n",
              "       -1.31180700e-01, -1.97746757e-02, -1.30326164e-01, -4.54422137e-01,\n",
              "       -2.10844584e-01,  2.38343380e-01,  1.78349868e-01,  1.07990897e-01,\n",
              "        1.77224944e-01,  3.29760638e-03,  1.60184268e-01,  4.33671850e-01,\n",
              "        2.34581987e-01, -2.65155563e-01, -1.62536522e-01, -1.67848664e-01,\n",
              "       -1.36411837e-01,  8.43265858e-02, -3.09994530e-02, -1.52380786e-01,\n",
              "       -4.29567059e-01, -2.48764870e-01,  2.84638612e-01,  1.52060239e-01,\n",
              "        2.34577738e-01,  7.91724061e-02, -4.98752026e-02,  6.49400510e-03,\n",
              "        1.07423853e-02, -3.27911878e-04, -4.43018418e-04,  4.91207889e-04,\n",
              "        1.29774918e-04,  9.95189522e-03,  1.65562204e-03, -3.34729679e-03,\n",
              "       -8.37387684e-03, -2.24079510e-02,  2.86526182e-03, -1.09144820e-03,\n",
              "        1.02242546e-02,  2.15668887e-02, -2.34318078e-02, -2.93879188e-03,\n",
              "        7.54180282e-03, -1.34781491e-02, -1.93391633e-02,  2.08025226e-02,\n",
              "        1.02162131e-02, -1.25646952e-03, -7.68373076e-03,  1.38761902e-02,\n",
              "        1.89042423e-02, -2.00839638e-02, -1.17673559e-02,  3.25200679e-02,\n",
              "        2.96339507e-03,  3.33653494e-03, -1.14146566e-02, -2.12872300e-02,\n",
              "        2.32274560e-02,  7.89945604e-03, -2.87238194e-02, -3.34735910e-03,\n",
              "        2.01496914e-04, -4.13350668e-03,  1.14215273e-02,  2.19428396e-02,\n",
              "       -2.43604705e-02, -6.68626637e-03,  2.81650254e-02,  5.64708663e-03,\n",
              "       -6.79779997e-03, -2.63893703e-04,  5.94862839e-03, -1.22514775e-02,\n",
              "       -2.16065115e-02,  2.39623456e-02,  7.85530060e-03, -3.09838870e-02,\n",
              "       -4.41345539e-03,  5.99205817e-03,  9.53356171e-04, -8.27447204e-04,\n",
              "       -5.87364459e-03,  1.21057916e-02,  2.20498846e-02, -2.45809203e-02,\n",
              "       -7.53502178e-03,  3.19204868e-02,  5.25922658e-03, -6.74831747e-03,\n",
              "       -7.16299037e-04,  2.27377204e-03,  1.15598720e+01, -9.22642107e+07,\n",
              "       -1.02004267e-01, -7.26478739e+10])"
            ]
          },
          "metadata": {},
          "execution_count": 62
        }
      ]
    },
    {
      "cell_type": "markdown",
      "source": [
        "**Too Many data**\n",
        "\n",
        "Check in Validation DataSet"
      ],
      "metadata": {
        "id": "d_9AQ3SNNWge"
      }
    },
    {
      "cell_type": "markdown",
      "source": [
        "**Split data set into train and validation**"
      ],
      "metadata": {
        "id": "djbY-yY1NPyJ"
      }
    },
    {
      "cell_type": "code",
      "source": [
        "from sklearn.model_selection import train_test_split\n",
        "\n",
        "xtrain, xtest, ytrain, ytest = train_test_split(X,y,test_size=0.33,random_state=42)"
      ],
      "metadata": {
        "id": "NN8r-iiUJWWq"
      },
      "execution_count": 63,
      "outputs": []
    },
    {
      "cell_type": "code",
      "source": [
        "lin_reg.fit(xtrain, ytrain)\n",
        "ridge.fit(xtrain, ytrain)\n",
        "lasso.fit(xtrain, ytrain)"
      ],
      "metadata": {
        "colab": {
          "base_uri": "https://localhost:8080/"
        },
        "id": "BFOEetf1L39Q",
        "outputId": "c20e4d67-1840-4120-9f6e-462788525507"
      },
      "execution_count": 64,
      "outputs": [
        {
          "output_type": "stream",
          "name": "stderr",
          "text": [
            "/usr/local/lib/python3.7/dist-packages/sklearn/linear_model/_ridge.py:197: UserWarning:\n",
            "\n",
            "Singular matrix in solving dual problem. Using least-squares solution instead.\n",
            "\n"
          ]
        },
        {
          "output_type": "execute_result",
          "data": {
            "text/plain": [
              "Lasso()"
            ]
          },
          "metadata": {},
          "execution_count": 64
        }
      ]
    },
    {
      "cell_type": "markdown",
      "source": [
        "**Check for errors and compare all 3 of them**"
      ],
      "metadata": {
        "id": "S0IjEZ1mM_G0"
      }
    },
    {
      "cell_type": "code",
      "source": [
        "print('Linear', mean_squared_error(ytest, lin_reg.predict(xtest) ))\n",
        "print('Ridge', mean_squared_error(ytest, ridge.predict(xtest) ))\n",
        "print('Lasso', mean_squared_error(ytest, lasso.predict(xtest) ))"
      ],
      "metadata": {
        "id": "2aeB8vXQQdSV",
        "colab": {
          "base_uri": "https://localhost:8080/"
        },
        "outputId": "f998d765-b2f4-440c-ecb3-a212d93a8d33"
      },
      "execution_count": 65,
      "outputs": [
        {
          "output_type": "stream",
          "name": "stdout",
          "text": [
            "Linear 3.6028959303049596e+20\n",
            "Ridge 1.4017523325279362e+21\n",
            "Lasso 5.701811897718536e+23\n"
          ]
        }
      ]
    },
    {
      "cell_type": "code",
      "source": [
        ""
      ],
      "metadata": {
        "colab": {
          "base_uri": "https://localhost:8080/"
        },
        "id": "g6AUPNkRL-Js",
        "outputId": "85eeaccb-5705-4f19-93ea-fa84afef0828"
      },
      "execution_count": null,
      "outputs": [
        {
          "output_type": "stream",
          "name": "stdout",
          "text": [
            "Linear 2.340818611496725e+19\n",
            "Ridge 3.998413905356502e+22\n",
            "Lasso 3.0844465939438438e+25\n"
          ]
        }
      ]
    },
    {
      "cell_type": "markdown",
      "source": [
        "**Seems like Ridge and Lasso have not done a great job This time, Unfortunately**"
      ],
      "metadata": {
        "id": "ud9TcGcTLqpB"
      }
    }
  ]
}