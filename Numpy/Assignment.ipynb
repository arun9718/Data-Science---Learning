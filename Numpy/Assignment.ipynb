{
  "nbformat": 4,
  "nbformat_minor": 0,
  "metadata": {
    "colab": {
      "name": "numpy_excercise0_SOLUTIONS.ipynb",
      "provenance": [],
      "collapsed_sections": [],
      "include_colab_link": true
    },
    "kernelspec": {
      "name": "python3",
      "display_name": "Python 3"
    },
    "language_info": {
      "name": "python"
    }
  },
  "cells": [
    {
      "cell_type": "markdown",
      "metadata": {
        "id": "view-in-github",
        "colab_type": "text"
      },
      "source": [
        "<a href=\"https://colab.research.google.com/github/arun9718/Data-Science---Learning/blob/Day2/Numpy/Assignment.ipynb\" target=\"_parent\"><img src=\"https://colab.research.google.com/assets/colab-badge.svg\" alt=\"Open In Colab\"/></a>"
      ]
    },
    {
      "cell_type": "markdown",
      "metadata": {
        "id": "gX8SgQjYg9Pv"
      },
      "source": [
        "**Import numpy as np**"
      ]
    },
    {
      "cell_type": "code",
      "metadata": {
        "id": "jv3Xo5nXg3tA"
      },
      "source": [
        "import numpy as np"
      ],
      "execution_count": 2,
      "outputs": []
    },
    {
      "cell_type": "markdown",
      "metadata": {
        "id": "oTfF2hlPhCmF"
      },
      "source": [
        "**Create an array of 10 zeros**"
      ]
    },
    {
      "cell_type": "code",
      "source": [
        "arr=np.zeros(10,dtype='int32')"
      ],
      "metadata": {
        "id": "O8skHcZRXMx1"
      },
      "execution_count": 5,
      "outputs": []
    },
    {
      "cell_type": "code",
      "metadata": {
        "colab": {
          "base_uri": "https://localhost:8080/"
        },
        "id": "wIwsJrYchFsj",
        "outputId": "5eb9a867-d8f7-4892-b3e1-204b9fb62f6c"
      },
      "source": [
        "arr"
      ],
      "execution_count": 7,
      "outputs": [
        {
          "output_type": "execute_result",
          "data": {
            "text/plain": [
              "array([0, 0, 0, 0, 0, 0, 0, 0, 0, 0], dtype=int32)"
            ]
          },
          "metadata": {},
          "execution_count": 7
        }
      ]
    },
    {
      "cell_type": "markdown",
      "metadata": {
        "id": "vcIl9pJ8hGAM"
      },
      "source": [
        "**Create an array of 10 ones**"
      ]
    },
    {
      "cell_type": "code",
      "source": [
        "arr1=np.ones(10)"
      ],
      "metadata": {
        "id": "jdPnOfCnKxoz"
      },
      "execution_count": 9,
      "outputs": []
    },
    {
      "cell_type": "code",
      "source": [
        "arr1"
      ],
      "metadata": {
        "id": "6PrKN5xUXNzz",
        "outputId": "ec82410a-6541-4bc4-f7bb-a51c89048e51",
        "colab": {
          "base_uri": "https://localhost:8080/"
        }
      },
      "execution_count": 10,
      "outputs": [
        {
          "output_type": "execute_result",
          "data": {
            "text/plain": [
              "array([1., 1., 1., 1., 1., 1., 1., 1., 1., 1.])"
            ]
          },
          "metadata": {},
          "execution_count": 10
        }
      ]
    },
    {
      "cell_type": "code",
      "metadata": {
        "colab": {
          "base_uri": "https://localhost:8080/"
        },
        "id": "FNBOoy7YhJDz",
        "outputId": "b0b91615-e122-41a1-f38a-8c9e9c90859a"
      },
      "source": [
        ""
      ],
      "execution_count": null,
      "outputs": [
        {
          "output_type": "execute_result",
          "data": {
            "text/plain": [
              "array([1., 1., 1., 1., 1., 1., 1., 1., 1., 1.])"
            ]
          },
          "metadata": {},
          "execution_count": 4
        }
      ]
    },
    {
      "cell_type": "markdown",
      "metadata": {
        "id": "iGTVWS-xhJR_"
      },
      "source": [
        "**Create an array of 10 fives**"
      ]
    },
    {
      "cell_type": "code",
      "source": [
        "arr5=np.ones(10)*5\n",
        "print(arr5)"
      ],
      "metadata": {
        "id": "bHn2OEkOXO91",
        "outputId": "7d064968-6688-46e0-8da1-e01d51214ca9",
        "colab": {
          "base_uri": "https://localhost:8080/"
        }
      },
      "execution_count": 12,
      "outputs": [
        {
          "output_type": "stream",
          "name": "stdout",
          "text": [
            "[5. 5. 5. 5. 5. 5. 5. 5. 5. 5.]\n"
          ]
        }
      ]
    },
    {
      "cell_type": "code",
      "metadata": {
        "colab": {
          "base_uri": "https://localhost:8080/"
        },
        "id": "bioPQimlhMaF",
        "outputId": "1a171883-7947-415d-a25f-17950a9e3e96"
      },
      "source": [
        ""
      ],
      "execution_count": null,
      "outputs": [
        {
          "output_type": "stream",
          "name": "stdout",
          "text": [
            "[5. 5. 5. 5. 5. 5. 5. 5. 5. 5.]\n"
          ]
        }
      ]
    },
    {
      "cell_type": "markdown",
      "metadata": {
        "id": "DhZUq38whgCu"
      },
      "source": [
        "**Create an array of the integers from 10 to 50**\n",
        "\n",
        "New "
      ]
    },
    {
      "cell_type": "code",
      "source": [
        "arr10_50=np.arange(10,51)\n",
        "print(arr10_50)"
      ],
      "metadata": {
        "id": "eYZRS_7FXoAe",
        "outputId": "3ad7d8c1-e01f-43eb-9241-384fe2afa11f",
        "colab": {
          "base_uri": "https://localhost:8080/"
        }
      },
      "execution_count": 14,
      "outputs": [
        {
          "output_type": "stream",
          "name": "stdout",
          "text": [
            "[10 11 12 13 14 15 16 17 18 19 20 21 22 23 24 25 26 27 28 29 30 31 32 33\n",
            " 34 35 36 37 38 39 40 41 42 43 44 45 46 47 48 49 50]\n"
          ]
        }
      ]
    },
    {
      "cell_type": "code",
      "metadata": {
        "colab": {
          "base_uri": "https://localhost:8080/"
        },
        "id": "j_u7EixahfS-",
        "outputId": "18803b22-8aa9-482e-f47a-cefe23ea2870"
      },
      "source": [
        "arr10_50"
      ],
      "execution_count": 15,
      "outputs": [
        {
          "output_type": "execute_result",
          "data": {
            "text/plain": [
              "array([10, 11, 12, 13, 14, 15, 16, 17, 18, 19, 20, 21, 22, 23, 24, 25, 26,\n",
              "       27, 28, 29, 30, 31, 32, 33, 34, 35, 36, 37, 38, 39, 40, 41, 42, 43,\n",
              "       44, 45, 46, 47, 48, 49, 50])"
            ]
          },
          "metadata": {},
          "execution_count": 15
        }
      ]
    },
    {
      "cell_type": "markdown",
      "metadata": {
        "id": "yL3qc8vmhtMX"
      },
      "source": [
        "**Create an array of all the even integers from 10 to 50**"
      ]
    },
    {
      "cell_type": "code",
      "source": [
        "arr10_50even=np.arange(10,51,2)\n",
        "arr10_50even"
      ],
      "metadata": {
        "id": "_K679d18XsRk",
        "outputId": "8bfc8651-aee6-4a6d-cbcc-b4e9ab5aa6b0",
        "colab": {
          "base_uri": "https://localhost:8080/"
        }
      },
      "execution_count": 16,
      "outputs": [
        {
          "output_type": "execute_result",
          "data": {
            "text/plain": [
              "array([10, 12, 14, 16, 18, 20, 22, 24, 26, 28, 30, 32, 34, 36, 38, 40, 42,\n",
              "       44, 46, 48, 50])"
            ]
          },
          "metadata": {},
          "execution_count": 16
        }
      ]
    },
    {
      "cell_type": "code",
      "metadata": {
        "colab": {
          "base_uri": "https://localhost:8080/"
        },
        "id": "0pckFbQGhw4Z",
        "outputId": "6cbd33a3-ef5d-4b9c-e50b-30563a5472c2"
      },
      "source": [
        ""
      ],
      "execution_count": null,
      "outputs": [
        {
          "output_type": "execute_result",
          "data": {
            "text/plain": [
              "array([10, 12, 14, 16, 18, 20, 22, 24, 26, 28, 30, 32, 34, 36, 38, 40, 42,\n",
              "       44, 46, 48, 50])"
            ]
          },
          "metadata": {},
          "execution_count": 4
        }
      ]
    },
    {
      "cell_type": "markdown",
      "metadata": {
        "id": "SdtofJi_h5WM"
      },
      "source": [
        "**Create a 3x4 matrix with numbers ranging from 0 to 12**"
      ]
    },
    {
      "cell_type": "code",
      "source": [
        "arr2d=np.arange(0,12).reshape(3,4)\n",
        "arr2d"
      ],
      "metadata": {
        "id": "K8oyEzBdX0Zz",
        "outputId": "9a3a92f1-0581-4228-aed5-b791d74d6449",
        "colab": {
          "base_uri": "https://localhost:8080/"
        }
      },
      "execution_count": 17,
      "outputs": [
        {
          "output_type": "execute_result",
          "data": {
            "text/plain": [
              "array([[ 0,  1,  2,  3],\n",
              "       [ 4,  5,  6,  7],\n",
              "       [ 8,  9, 10, 11]])"
            ]
          },
          "metadata": {},
          "execution_count": 17
        }
      ]
    },
    {
      "cell_type": "code",
      "metadata": {
        "colab": {
          "base_uri": "https://localhost:8080/"
        },
        "id": "V_mDcyyPh0kM",
        "outputId": "1d65253d-b650-4b57-a60a-c34d9f9a75f3"
      },
      "source": [
        ""
      ],
      "execution_count": null,
      "outputs": [
        {
          "output_type": "execute_result",
          "data": {
            "text/plain": [
              "array([[ 0,  1,  2,  3],\n",
              "       [ 4,  5,  6,  7],\n",
              "       [ 8,  9, 10, 11]])"
            ]
          },
          "metadata": {},
          "execution_count": 20
        }
      ]
    },
    {
      "cell_type": "markdown",
      "metadata": {
        "id": "TF63DVYdiHUp"
      },
      "source": [
        "**Create a 3x3 identity matrix**"
      ]
    },
    {
      "cell_type": "code",
      "source": [
        "arr3_3=np.ones(9).reshape(3,3)\n",
        "arr3_3"
      ],
      "metadata": {
        "id": "j6yc-24LX3nP",
        "outputId": "f2b391c2-6278-4c3a-8953-73eff9a65295",
        "colab": {
          "base_uri": "https://localhost:8080/"
        }
      },
      "execution_count": 18,
      "outputs": [
        {
          "output_type": "execute_result",
          "data": {
            "text/plain": [
              "array([[1., 1., 1.],\n",
              "       [1., 1., 1.],\n",
              "       [1., 1., 1.]])"
            ]
          },
          "metadata": {},
          "execution_count": 18
        }
      ]
    },
    {
      "cell_type": "code",
      "metadata": {
        "colab": {
          "base_uri": "https://localhost:8080/"
        },
        "id": "5Z8Kl49niDj_",
        "outputId": "c2d48cb1-64e9-4054-a981-51c7a4e468ff"
      },
      "source": [
        ""
      ],
      "execution_count": null,
      "outputs": [
        {
          "output_type": "execute_result",
          "data": {
            "text/plain": [
              "array([[1, 0, 0],\n",
              "       [0, 1, 0],\n",
              "       [0, 0, 1]], dtype=int32)"
            ]
          },
          "metadata": {},
          "execution_count": 22
        }
      ]
    },
    {
      "cell_type": "markdown",
      "metadata": {
        "id": "7-TKphGniSni"
      },
      "source": [
        "**Use Numpy to generate a random number between 0 and 1**\n",
        "\n",
        "Note: output may differ from yours output"
      ]
    },
    {
      "cell_type": "code",
      "metadata": {
        "colab": {
          "base_uri": "https://localhost:8080/"
        },
        "id": "qqXA7JMPiRod",
        "outputId": "d7238ae1-ef01-451b-cac5-414f8a63b5b2"
      },
      "source": [
        "print(np.random.rand())"
      ],
      "execution_count": 30,
      "outputs": [
        {
          "output_type": "stream",
          "name": "stdout",
          "text": [
            "0.04927868298699467\n"
          ]
        }
      ]
    },
    {
      "cell_type": "markdown",
      "metadata": {
        "id": "z3xKZYsSjDDE"
      },
      "source": [
        "**Use Numpy to generate an array of 25 random numbers sampled from a standard normal distribution**\n",
        "\n",
        "Note: output may differ from yours output"
      ]
    },
    {
      "cell_type": "code",
      "metadata": {
        "colab": {
          "base_uri": "https://localhost:8080/"
        },
        "id": "okMA4he2ib4V",
        "outputId": "f0f6f809-5be8-48ca-d31d-d021e7554d58"
      },
      "source": [
        "np.random.randn(25)"
      ],
      "execution_count": 34,
      "outputs": [
        {
          "output_type": "execute_result",
          "data": {
            "text/plain": [
              "array([ 0.74933759, -0.02372445,  0.03153408,  0.80413436,  0.97432665,\n",
              "       -0.18071791, -1.15754075, -1.50171582, -0.47861285,  2.02431857,\n",
              "       -0.53720786,  1.83137927, -0.84239573,  0.63207153, -0.52282922,\n",
              "       -1.90109411, -0.6623827 , -0.47644424, -1.49785821,  0.14944564,\n",
              "       -0.54256201, -0.44617033, -0.39089609, -1.78896142, -2.06678665])"
            ]
          },
          "metadata": {},
          "execution_count": 34
        }
      ]
    },
    {
      "cell_type": "markdown",
      "metadata": {
        "id": "LNnEXURBjcLs"
      },
      "source": [
        "**Create an (10x10)array having numbers from 0.01 to 1 increasing by 0.01**"
      ]
    },
    {
      "cell_type": "code",
      "metadata": {
        "colab": {
          "base_uri": "https://localhost:8080/"
        },
        "id": "Fskh08Q1jmXp",
        "outputId": "1b438edf-2552-40fa-b524-54f5158dd073"
      },
      "source": [
        "np.arange(0.0,1,0.01).reshape(10,10)"
      ],
      "execution_count": 41,
      "outputs": [
        {
          "output_type": "execute_result",
          "data": {
            "text/plain": [
              "array([[0.  , 0.01, 0.02, 0.03, 0.04, 0.05, 0.06, 0.07, 0.08, 0.09],\n",
              "       [0.1 , 0.11, 0.12, 0.13, 0.14, 0.15, 0.16, 0.17, 0.18, 0.19],\n",
              "       [0.2 , 0.21, 0.22, 0.23, 0.24, 0.25, 0.26, 0.27, 0.28, 0.29],\n",
              "       [0.3 , 0.31, 0.32, 0.33, 0.34, 0.35, 0.36, 0.37, 0.38, 0.39],\n",
              "       [0.4 , 0.41, 0.42, 0.43, 0.44, 0.45, 0.46, 0.47, 0.48, 0.49],\n",
              "       [0.5 , 0.51, 0.52, 0.53, 0.54, 0.55, 0.56, 0.57, 0.58, 0.59],\n",
              "       [0.6 , 0.61, 0.62, 0.63, 0.64, 0.65, 0.66, 0.67, 0.68, 0.69],\n",
              "       [0.7 , 0.71, 0.72, 0.73, 0.74, 0.75, 0.76, 0.77, 0.78, 0.79],\n",
              "       [0.8 , 0.81, 0.82, 0.83, 0.84, 0.85, 0.86, 0.87, 0.88, 0.89],\n",
              "       [0.9 , 0.91, 0.92, 0.93, 0.94, 0.95, 0.96, 0.97, 0.98, 0.99]])"
            ]
          },
          "metadata": {},
          "execution_count": 41
        }
      ]
    },
    {
      "cell_type": "markdown",
      "metadata": {
        "id": "aJk9hkikliYL"
      },
      "source": [
        "#Numpy Indexing and Slicing\n"
      ]
    },
    {
      "cell_type": "code",
      "metadata": {
        "colab": {
          "base_uri": "https://localhost:8080/"
        },
        "id": "oBLqBk-0lnKC",
        "outputId": "10291fb1-af3a-431b-8e00-3cb092a9ff92"
      },
      "source": [
        "ar = (np.arange(25)+1).reshape(5,5)\n",
        "ar"
      ],
      "execution_count": 43,
      "outputs": [
        {
          "output_type": "execute_result",
          "data": {
            "text/plain": [
              "array([[ 1,  2,  3,  4,  5],\n",
              "       [ 6,  7,  8,  9, 10],\n",
              "       [11, 12, 13, 14, 15],\n",
              "       [16, 17, 18, 19, 20],\n",
              "       [21, 22, 23, 24, 25]])"
            ]
          },
          "metadata": {},
          "execution_count": 43
        }
      ]
    },
    {
      "cell_type": "markdown",
      "metadata": {
        "id": "JjWRLf4omWwt"
      },
      "source": [
        "**extract array**\n",
        "\n",
        "[\n",
        "  [12,13,14],\n",
        "\n",
        "  [17,18,19],\n",
        "\n",
        "  [22,23,24]\n",
        "]"
      ]
    },
    {
      "cell_type": "code",
      "source": [
        "ar[2:,1:4]"
      ],
      "metadata": {
        "id": "_0yGSwZOYi3s",
        "outputId": "f82e10ed-c28a-42a7-940c-556001e431f9",
        "colab": {
          "base_uri": "https://localhost:8080/"
        }
      },
      "execution_count": 44,
      "outputs": [
        {
          "output_type": "execute_result",
          "data": {
            "text/plain": [
              "array([[12, 13, 14],\n",
              "       [17, 18, 19],\n",
              "       [22, 23, 24]])"
            ]
          },
          "metadata": {},
          "execution_count": 44
        }
      ]
    },
    {
      "cell_type": "code",
      "metadata": {
        "id": "G_F5Qn-EmQnX",
        "colab": {
          "base_uri": "https://localhost:8080/"
        },
        "outputId": "430cf30b-b3cb-458b-848b-f74a485d6b3d"
      },
      "source": [
        ""
      ],
      "execution_count": null,
      "outputs": [
        {
          "output_type": "execute_result",
          "data": {
            "text/plain": [
              "array([[12, 13, 14],\n",
              "       [17, 18, 19],\n",
              "       [22, 23, 24]])"
            ]
          },
          "metadata": {},
          "execution_count": 37
        }
      ]
    },
    {
      "cell_type": "markdown",
      "metadata": {
        "id": "wIb1kQsSmupr"
      },
      "source": [
        "**extract array**\n",
        "\n",
        "[\n",
        "  [14, 13, 12],\n",
        "\n",
        "  [19, 18, 17],\n",
        "\n",
        "  [24, 23, 22]\n",
        "]"
      ]
    },
    {
      "cell_type": "code",
      "source": [
        "ar[2::,-2:-5:-1]"
      ],
      "metadata": {
        "id": "MhFM4MoxYlv7",
        "outputId": "65113ec2-b6af-46af-a6c4-2933c21c5131",
        "colab": {
          "base_uri": "https://localhost:8080/"
        }
      },
      "execution_count": 48,
      "outputs": [
        {
          "output_type": "execute_result",
          "data": {
            "text/plain": [
              "array([[14, 13, 12],\n",
              "       [19, 18, 17],\n",
              "       [24, 23, 22]])"
            ]
          },
          "metadata": {},
          "execution_count": 48
        }
      ]
    },
    {
      "cell_type": "code",
      "metadata": {
        "id": "0GbIQPLkm1vT",
        "colab": {
          "base_uri": "https://localhost:8080/"
        },
        "outputId": "704b22d1-9bee-4f6f-cdf6-1a78cf340811"
      },
      "source": [
        ""
      ],
      "execution_count": null,
      "outputs": [
        {
          "output_type": "execute_result",
          "data": {
            "text/plain": [
              "array([[14, 13, 12],\n",
              "       [19, 18, 17],\n",
              "       [24, 23, 22]])"
            ]
          },
          "metadata": {},
          "execution_count": 38
        }
      ]
    },
    {
      "cell_type": "markdown",
      "metadata": {
        "id": "Q3fF94y1m4qC"
      },
      "source": [
        "**extract array**\n",
        "\n",
        "[\n",
        "  [24, 23, 22],\n",
        "\n",
        "  [19, 18, 17],\n",
        "\n",
        "  [14, 13, 12],  \n",
        "]"
      ]
    },
    {
      "cell_type": "code",
      "source": [
        "ar[-1:-4:-1,-2:-5:-1]"
      ],
      "metadata": {
        "id": "7gNvYwYDYm3c",
        "outputId": "db62610c-333d-490b-d494-ddc5cba04f88",
        "colab": {
          "base_uri": "https://localhost:8080/"
        }
      },
      "execution_count": 49,
      "outputs": [
        {
          "output_type": "execute_result",
          "data": {
            "text/plain": [
              "array([[24, 23, 22],\n",
              "       [19, 18, 17],\n",
              "       [14, 13, 12]])"
            ]
          },
          "metadata": {},
          "execution_count": 49
        }
      ]
    },
    {
      "cell_type": "code",
      "metadata": {
        "id": "_ZqZT-l8m82Z",
        "colab": {
          "base_uri": "https://localhost:8080/"
        },
        "outputId": "621c9907-943d-4e0e-c7ab-698b33bab715"
      },
      "source": [
        ""
      ],
      "execution_count": null,
      "outputs": [
        {
          "output_type": "execute_result",
          "data": {
            "text/plain": [
              "array([[24, 23, 22],\n",
              "       [19, 18, 17],\n",
              "       [14, 13, 12]])"
            ]
          },
          "metadata": {},
          "execution_count": 40
        }
      ]
    },
    {
      "cell_type": "markdown",
      "metadata": {
        "id": "YHmvl3VrnEzY"
      },
      "source": [
        "#Split Concatinate"
      ]
    },
    {
      "cell_type": "code",
      "metadata": {
        "colab": {
          "base_uri": "https://localhost:8080/"
        },
        "id": "bNbdzPb8nH5c",
        "outputId": "f3c37799-61e2-45ae-f6c1-d7099f466582"
      },
      "source": [
        "ar = np.arange(2,10)\n",
        "ar"
      ],
      "execution_count": 3,
      "outputs": [
        {
          "output_type": "execute_result",
          "data": {
            "text/plain": [
              "array([2, 3, 4, 5, 6, 7, 8, 9])"
            ]
          },
          "metadata": {},
          "execution_count": 3
        }
      ]
    },
    {
      "cell_type": "markdown",
      "metadata": {
        "id": "Q7JpN_ElnV0E"
      },
      "source": [
        "**Split array to generate 3 arrays with content**\n",
        "\n",
        "[2,3,4]\n",
        "\n",
        "[5, 6]\n",
        "\n",
        "[]\n",
        "\n",
        "[7,8,9]"
      ]
    },
    {
      "cell_type": "code",
      "source": [
        "np.split(ar,[3,5,5])"
      ],
      "metadata": {
        "id": "inGoi-SxYp1u",
        "outputId": "202fbdc0-d233-4699-fd66-b0d277162525",
        "colab": {
          "base_uri": "https://localhost:8080/"
        }
      },
      "execution_count": 8,
      "outputs": [
        {
          "output_type": "execute_result",
          "data": {
            "text/plain": [
              "[array([2, 3, 4]), array([5, 6]), array([], dtype=int64), array([7, 8, 9])]"
            ]
          },
          "metadata": {},
          "execution_count": 8
        }
      ]
    },
    {
      "cell_type": "code",
      "metadata": {
        "colab": {
          "base_uri": "https://localhost:8080/"
        },
        "id": "DD9ppBCpnR94",
        "outputId": "44892da8-6f85-4f3f-abf8-a599e08c3594"
      },
      "source": [
        ""
      ],
      "execution_count": null,
      "outputs": [
        {
          "output_type": "execute_result",
          "data": {
            "text/plain": [
              "[array([2, 3, 4]), array([5, 6]), array([], dtype=int64), array([7, 8, 9])]"
            ]
          },
          "metadata": {},
          "execution_count": 44
        }
      ]
    },
    {
      "cell_type": "markdown",
      "source": [
        "**2D**"
      ],
      "metadata": {
        "id": "tUdDNIHJYvFr"
      }
    },
    {
      "cell_type": "code",
      "metadata": {
        "id": "waNqYReToJvC"
      },
      "source": [
        "a = np.array([\n",
        "              [1,2,3],\n",
        "              [4,5,6]\n",
        "])\n",
        "b = np.array([\n",
        "              [7,8,9]\n",
        "])"
      ],
      "execution_count": 9,
      "outputs": []
    },
    {
      "cell_type": "markdown",
      "metadata": {
        "id": "D9KgMNsOn__h"
      },
      "source": [
        "**Concatinate array to create new array with content**\n",
        "\n",
        "[\n",
        "  [1,2,3],\n",
        "\n",
        "  [4,5,6],\n",
        "  \n",
        "  [7,8,9]\n",
        "]"
      ]
    },
    {
      "cell_type": "code",
      "source": [
        "np.concatenate([a,b])"
      ],
      "metadata": {
        "id": "Q2Xv0AZRY4ZQ",
        "outputId": "277991a0-97e4-4d01-c943-ca8fc32d10cb",
        "colab": {
          "base_uri": "https://localhost:8080/"
        }
      },
      "execution_count": 12,
      "outputs": [
        {
          "output_type": "execute_result",
          "data": {
            "text/plain": [
              "array([[1, 2, 3],\n",
              "       [4, 5, 6],\n",
              "       [7, 8, 9]])"
            ]
          },
          "metadata": {},
          "execution_count": 12
        }
      ]
    },
    {
      "cell_type": "code",
      "metadata": {
        "colab": {
          "base_uri": "https://localhost:8080/"
        },
        "id": "uRc1NdAr_SRW",
        "outputId": "c5d4daa2-20c0-482c-92ed-7a26fe68a373"
      },
      "source": [
        ""
      ],
      "execution_count": null,
      "outputs": [
        {
          "output_type": "execute_result",
          "data": {
            "text/plain": [
              "array([[1, 2, 3],\n",
              "       [4, 5, 6],\n",
              "       [7, 8, 9]])"
            ]
          },
          "metadata": {},
          "execution_count": 7
        }
      ]
    },
    {
      "cell_type": "code",
      "metadata": {
        "id": "3HZZlRPtobB1"
      },
      "source": [
        "a = np.array([\n",
        "              [1,2,3],\n",
        "              [4,5,6]\n",
        "])\n",
        "b = np.array([\n",
        "              [7,8,9, 10],\n",
        "              [11, 12, 13, 14]\n",
        "])"
      ],
      "execution_count": 13,
      "outputs": []
    },
    {
      "cell_type": "markdown",
      "metadata": {
        "id": "V9LH9_agowZr"
      },
      "source": [
        "**Concatinate array to create new array with content**\n",
        "\n",
        "[\n",
        "\n",
        "  [1,2,3, 7,8,9, 10],\n",
        "\n",
        "  [4,5,6, 11, 12, 13, 14]\n",
        "  \n",
        "]"
      ]
    },
    {
      "cell_type": "code",
      "metadata": {
        "id": "EivQu5Eaou4A",
        "outputId": "9dcfa887-e166-4a56-fdd2-fcac890240b2",
        "colab": {
          "base_uri": "https://localhost:8080/"
        }
      },
      "source": [
        "np.concatenate([a,b],axis=1)"
      ],
      "execution_count": 15,
      "outputs": [
        {
          "output_type": "execute_result",
          "data": {
            "text/plain": [
              "array([[ 1,  2,  3,  7,  8,  9, 10],\n",
              "       [ 4,  5,  6, 11, 12, 13, 14]])"
            ]
          },
          "metadata": {},
          "execution_count": 15
        }
      ]
    },
    {
      "cell_type": "code",
      "metadata": {
        "colab": {
          "base_uri": "https://localhost:8080/"
        },
        "id": "AwPpcU7i_qrJ",
        "outputId": "fbf5d1ee-8a7f-445a-ca3f-2c6cfdccc17a"
      },
      "source": [
        ""
      ],
      "execution_count": null,
      "outputs": [
        {
          "output_type": "execute_result",
          "data": {
            "text/plain": [
              "array([[ 1,  2,  3,  7,  8,  9, 10],\n",
              "       [ 4,  5,  6, 11, 12, 13, 14]])"
            ]
          },
          "metadata": {},
          "execution_count": 50
        }
      ]
    },
    {
      "cell_type": "markdown",
      "metadata": {
        "id": "-uCyX-bvo-23"
      },
      "source": [
        "#Broadcasting and Indexing\n",
        "\n",
        "below array is created using random values so your output may differ. "
      ]
    },
    {
      "cell_type": "code",
      "metadata": {
        "colab": {
          "base_uri": "https://localhost:8080/"
        },
        "id": "dmdf9qNgpDGt",
        "outputId": "5f63cf97-7a86-41ea-944b-c78d311eb697"
      },
      "source": [
        "ar = np.round(np.random.rand(10)*10)\n",
        "ar"
      ],
      "execution_count": 17,
      "outputs": [
        {
          "output_type": "execute_result",
          "data": {
            "text/plain": [
              "array([10.,  6.,  5.,  1.,  4.,  2.,  6.,  6.,  6.,  8.])"
            ]
          },
          "metadata": {},
          "execution_count": 17
        }
      ]
    },
    {
      "cell_type": "markdown",
      "metadata": {
        "id": "UWHDTOfMpWhs"
      },
      "source": [
        "**create new array containing all numbers which are smaller than 10 in ar**"
      ]
    },
    {
      "cell_type": "code",
      "metadata": {
        "id": "6hwVV5lWpU8s",
        "outputId": "7a30a02e-a8ac-46ab-ec46-c5d7d03fee95",
        "colab": {
          "base_uri": "https://localhost:8080/"
        }
      },
      "source": [
        "ar[ar<10]"
      ],
      "execution_count": 20,
      "outputs": [
        {
          "output_type": "execute_result",
          "data": {
            "text/plain": [
              "array([6., 5., 1., 4., 2., 6., 6., 6., 8.])"
            ]
          },
          "metadata": {},
          "execution_count": 20
        }
      ]
    },
    {
      "cell_type": "markdown",
      "metadata": {
        "id": "GlwR-PQdpmGD"
      },
      "source": [
        "**create new array containing all numbers which are in range [3, 11] in ar**"
      ]
    },
    {
      "cell_type": "code",
      "metadata": {
        "id": "aVBrLn2Hpr1n",
        "outputId": "3b848b69-bdab-4ff0-c4c8-a9a08d94ca57",
        "colab": {
          "base_uri": "https://localhost:8080/"
        }
      },
      "source": [
        "ar[(ar>=3)&(ar<=11)]"
      ],
      "execution_count": 22,
      "outputs": [
        {
          "output_type": "execute_result",
          "data": {
            "text/plain": [
              "array([10.,  6.,  5.,  4.,  6.,  6.,  6.,  8.])"
            ]
          },
          "metadata": {},
          "execution_count": 22
        }
      ]
    },
    {
      "cell_type": "markdown",
      "metadata": {
        "id": "aGY4VLiPptFG"
      },
      "source": [
        "**count how many numbers are minimum in ar**\n",
        "\n",
        "example for arr = [2, 4, 6, 2, 9, 2]\n",
        "\n",
        "min is 2\n",
        "\n",
        "there are 3 occurences of 2"
      ]
    },
    {
      "cell_type": "code",
      "metadata": {
        "colab": {
          "base_uri": "https://localhost:8080/"
        },
        "id": "gIdSqYkmAgNw",
        "outputId": "291bf01c-3ee9-4e98-ae88-e75a4b782e9e"
      },
      "source": [
        "arr = np.round(np.random.rand(10)*10)\n",
        "arr"
      ],
      "execution_count": 26,
      "outputs": [
        {
          "output_type": "execute_result",
          "data": {
            "text/plain": [
              "array([2., 8., 7., 2., 3., 4., 4., 6., 7., 2.])"
            ]
          },
          "metadata": {},
          "execution_count": 26
        }
      ]
    },
    {
      "cell_type": "code",
      "metadata": {
        "id": "EgT3w1GUqVRM",
        "outputId": "ff3221b2-434e-44cc-c528-9eaa8436c2e1",
        "colab": {
          "base_uri": "https://localhost:8080/"
        }
      },
      "source": [
        "arr[arr==arr.min()].size\n"
      ],
      "execution_count": 33,
      "outputs": [
        {
          "output_type": "execute_result",
          "data": {
            "text/plain": [
              "3"
            ]
          },
          "metadata": {},
          "execution_count": 33
        }
      ]
    },
    {
      "cell_type": "markdown",
      "metadata": {
        "id": "dpBgZ_PjqXoR"
      },
      "source": [
        "# **Create an array of length 20 with first 15 numbers equal to 2 and last 5 numbers = -5**"
      ]
    },
    {
      "cell_type": "code",
      "source": [
        "np.concatenate([np.ones(15)*2,np.ones(5)*-5])"
      ],
      "metadata": {
        "id": "sPzHcWMuZh1y",
        "outputId": "3c970e10-4cf6-4928-b472-5eb54b301b9d",
        "colab": {
          "base_uri": "https://localhost:8080/"
        }
      },
      "execution_count": 50,
      "outputs": [
        {
          "output_type": "execute_result",
          "data": {
            "text/plain": [
              "array([ 2.,  2.,  2.,  2.,  2.,  2.,  2.,  2.,  2.,  2.,  2.,  2.,  2.,\n",
              "        2.,  2., -5., -5., -5., -5., -5.])"
            ]
          },
          "metadata": {},
          "execution_count": 50
        }
      ]
    },
    {
      "cell_type": "code",
      "metadata": {
        "id": "i4xc-k3WqoPi",
        "colab": {
          "base_uri": "https://localhost:8080/"
        },
        "outputId": "5e741e97-c4d5-46f5-e5a7-86acfaf2d0ba"
      },
      "source": [
        ""
      ],
      "execution_count": null,
      "outputs": [
        {
          "output_type": "execute_result",
          "data": {
            "text/plain": [
              "array([ 2.,  2.,  2.,  2.,  2.,  2.,  2.,  2.,  2.,  2.,  2.,  2.,  2.,\n",
              "        2.,  2., -5., -5., -5., -5., -5.])"
            ]
          },
          "metadata": {},
          "execution_count": 63
        }
      ]
    },
    {
      "cell_type": "markdown",
      "metadata": {
        "id": "4o5xRHS7sAh_"
      },
      "source": [
        "**Sum min max of all elements of matrix**"
      ]
    },
    {
      "cell_type": "code",
      "metadata": {
        "colab": {
          "base_uri": "https://localhost:8080/"
        },
        "id": "oFaWcgjysF-j",
        "outputId": "47d80446-4013-4077-dd76-bd2f8b0185c4"
      },
      "source": [
        "mat = np.array(\n",
        "    [[57., 33., 44., 36., 11., 75., 51., 22., 86., 13.],\n",
        "       [51., 16., 30., 92., 66., 54., 73.,  2., 25., 12.],\n",
        "       [68., 14., 90., 27., 44., 54., 26., 61.,  1.,  3.],\n",
        "       [86., 82., 10., 76., 12.,  1., 15., 89., 75., 12.],\n",
        "       [85.,  6., 80., 14., 99., 12., 72., 14., 27., 20.]]\n",
        ")\n",
        "mat"
      ],
      "execution_count": 35,
      "outputs": [
        {
          "output_type": "execute_result",
          "data": {
            "text/plain": [
              "array([[57., 33., 44., 36., 11., 75., 51., 22., 86., 13.],\n",
              "       [51., 16., 30., 92., 66., 54., 73.,  2., 25., 12.],\n",
              "       [68., 14., 90., 27., 44., 54., 26., 61.,  1.,  3.],\n",
              "       [86., 82., 10., 76., 12.,  1., 15., 89., 75., 12.],\n",
              "       [85.,  6., 80., 14., 99., 12., 72., 14., 27., 20.]])"
            ]
          },
          "metadata": {},
          "execution_count": 35
        }
      ]
    },
    {
      "cell_type": "code",
      "source": [
        "mat.sum()"
      ],
      "metadata": {
        "id": "zuoKYd8YZyEi",
        "outputId": "95f1b205-de07-44f4-c4c0-7e351794c57b",
        "colab": {
          "base_uri": "https://localhost:8080/"
        }
      },
      "execution_count": 37,
      "outputs": [
        {
          "output_type": "execute_result",
          "data": {
            "text/plain": [
              "2124.0"
            ]
          },
          "metadata": {},
          "execution_count": 37
        }
      ]
    },
    {
      "cell_type": "code",
      "metadata": {
        "id": "jJZKNPsYsFb-",
        "colab": {
          "base_uri": "https://localhost:8080/"
        },
        "outputId": "2e6d4ab0-5e23-49ce-fe7d-78fb7b13266f"
      },
      "source": [
        "mat.min()\n",
        "mat.max()"
      ],
      "execution_count": 39,
      "outputs": [
        {
          "output_type": "execute_result",
          "data": {
            "text/plain": [
              "99.0"
            ]
          },
          "metadata": {},
          "execution_count": 39
        }
      ]
    },
    {
      "cell_type": "markdown",
      "metadata": {
        "id": "BLvLnGGNsYdv"
      },
      "source": [
        "**Standard deviation of mat**"
      ]
    },
    {
      "cell_type": "code",
      "source": [
        "mat.std()"
      ],
      "metadata": {
        "id": "71f2xa6zZxVK",
        "outputId": "66e82d5a-7379-40b8-f3e8-2bbe50023acd",
        "colab": {
          "base_uri": "https://localhost:8080/"
        }
      },
      "execution_count": 40,
      "outputs": [
        {
          "output_type": "execute_result",
          "data": {
            "text/plain": [
              "30.531452634946806"
            ]
          },
          "metadata": {},
          "execution_count": 40
        }
      ]
    },
    {
      "cell_type": "code",
      "metadata": {
        "id": "3surFJbasbWX",
        "colab": {
          "base_uri": "https://localhost:8080/"
        },
        "outputId": "bde8f259-288a-4038-9c45-fb2e3c93db9d"
      },
      "source": [
        ""
      ],
      "execution_count": null,
      "outputs": [
        {
          "output_type": "execute_result",
          "data": {
            "text/plain": [
              "28.664654192925475"
            ]
          },
          "metadata": {},
          "execution_count": 67
        }
      ]
    },
    {
      "cell_type": "markdown",
      "metadata": {
        "id": "0fJVpTNBsbqi"
      },
      "source": [
        "**Sum of all columns of mat**"
      ]
    },
    {
      "cell_type": "code",
      "source": [
        "mat.sum(axis=0)"
      ],
      "metadata": {
        "id": "ffxz_0NQZ-iJ",
        "outputId": "4d5479f7-e48e-4784-de87-bdbcfb5f937f",
        "colab": {
          "base_uri": "https://localhost:8080/"
        }
      },
      "execution_count": 42,
      "outputs": [
        {
          "output_type": "execute_result",
          "data": {
            "text/plain": [
              "array([347., 151., 254., 245., 232., 196., 237., 188., 214.,  60.])"
            ]
          },
          "metadata": {},
          "execution_count": 42
        }
      ]
    },
    {
      "cell_type": "code",
      "metadata": {
        "id": "p2xPyXinsfVS",
        "colab": {
          "base_uri": "https://localhost:8080/"
        },
        "outputId": "07cca1df-ac95-40cb-db23-9860a07ce736"
      },
      "source": [
        ""
      ],
      "execution_count": null,
      "outputs": [
        {
          "output_type": "execute_result",
          "data": {
            "text/plain": [
              "array([347., 151., 254., 245., 232., 196., 237., 188., 214.,  60.])"
            ]
          },
          "metadata": {},
          "execution_count": 15
        }
      ]
    },
    {
      "cell_type": "markdown",
      "metadata": {
        "id": "u_xIopR4B-7V"
      },
      "source": [
        "**create array of dimension same as arr using arr.shape variable**"
      ]
    },
    {
      "cell_type": "code",
      "metadata": {
        "id": "pkfSo-CBCCrF"
      },
      "source": [
        "arr = np.arange(100).reshape(4,5,5)\n",
        "dim = arr.shape"
      ],
      "execution_count": 44,
      "outputs": []
    },
    {
      "cell_type": "code",
      "metadata": {
        "id": "JyO5TFBcCMxa",
        "outputId": "019c5879-1a8f-4afd-9192-8bd376f72c8a",
        "colab": {
          "base_uri": "https://localhost:8080/"
        }
      },
      "source": [
        "np.arange(100).reshape(dim)\n"
      ],
      "execution_count": 47,
      "outputs": [
        {
          "output_type": "execute_result",
          "data": {
            "text/plain": [
              "array([[[ 0,  1,  2,  3,  4],\n",
              "        [ 5,  6,  7,  8,  9],\n",
              "        [10, 11, 12, 13, 14],\n",
              "        [15, 16, 17, 18, 19],\n",
              "        [20, 21, 22, 23, 24]],\n",
              "\n",
              "       [[25, 26, 27, 28, 29],\n",
              "        [30, 31, 32, 33, 34],\n",
              "        [35, 36, 37, 38, 39],\n",
              "        [40, 41, 42, 43, 44],\n",
              "        [45, 46, 47, 48, 49]],\n",
              "\n",
              "       [[50, 51, 52, 53, 54],\n",
              "        [55, 56, 57, 58, 59],\n",
              "        [60, 61, 62, 63, 64],\n",
              "        [65, 66, 67, 68, 69],\n",
              "        [70, 71, 72, 73, 74]],\n",
              "\n",
              "       [[75, 76, 77, 78, 79],\n",
              "        [80, 81, 82, 83, 84],\n",
              "        [85, 86, 87, 88, 89],\n",
              "        [90, 91, 92, 93, 94],\n",
              "        [95, 96, 97, 98, 99]]])"
            ]
          },
          "metadata": {},
          "execution_count": 47
        }
      ]
    },
    {
      "cell_type": "code",
      "metadata": {
        "id": "AJM5JHKPCQ6V",
        "colab": {
          "base_uri": "https://localhost:8080/"
        },
        "outputId": "69a0d245-5e7b-4ed2-cbc8-a66a131193cc"
      },
      "source": [
        ""
      ],
      "execution_count": null,
      "outputs": [
        {
          "output_type": "execute_result",
          "data": {
            "text/plain": [
              "array([[[ 0,  1,  2,  3,  4],\n",
              "        [ 5,  6,  7,  8,  9],\n",
              "        [10, 11, 12, 13, 14],\n",
              "        [15, 16, 17, 18, 19],\n",
              "        [20, 21, 22, 23, 24]],\n",
              "\n",
              "       [[25, 26, 27, 28, 29],\n",
              "        [30, 31, 32, 33, 34],\n",
              "        [35, 36, 37, 38, 39],\n",
              "        [40, 41, 42, 43, 44],\n",
              "        [45, 46, 47, 48, 49]],\n",
              "\n",
              "       [[50, 51, 52, 53, 54],\n",
              "        [55, 56, 57, 58, 59],\n",
              "        [60, 61, 62, 63, 64],\n",
              "        [65, 66, 67, 68, 69],\n",
              "        [70, 71, 72, 73, 74]],\n",
              "\n",
              "       [[75, 76, 77, 78, 79],\n",
              "        [80, 81, 82, 83, 84],\n",
              "        [85, 86, 87, 88, 89],\n",
              "        [90, 91, 92, 93, 94],\n",
              "        [95, 96, 97, 98, 99]]])"
            ]
          },
          "metadata": {},
          "execution_count": 85
        }
      ]
    }
  ]
}