{
  "nbformat": 4,
  "nbformat_minor": 0,
  "metadata": {
    "colab": {
      "name": "Numpy.ipynb",
      "provenance": [],
      "authorship_tag": "ABX9TyOBn+/kmdjPsNd9xSkD9kD+",
      "include_colab_link": true
    },
    "kernelspec": {
      "name": "python3",
      "display_name": "Python 3"
    },
    "language_info": {
      "name": "python"
    }
  },
  "cells": [
    {
      "cell_type": "markdown",
      "metadata": {
        "id": "view-in-github",
        "colab_type": "text"
      },
      "source": [
        "<a href=\"https://colab.research.google.com/github/arun9718/Data-Science---Learning/blob/Day2/Numpy.ipynb\" target=\"_parent\"><img src=\"https://colab.research.google.com/assets/colab-badge.svg\" alt=\"Open In Colab\"/></a>"
      ]
    },
    {
      "cell_type": "code",
      "execution_count": 1,
      "metadata": {
        "id": "w_gEdQBZMh91"
      },
      "outputs": [],
      "source": [
        "import numpy as np"
      ]
    },
    {
      "cell_type": "code",
      "source": [
        "arr=np.array([1,2,3,4])"
      ],
      "metadata": {
        "id": "Y0cKBeovN00F"
      },
      "execution_count": 2,
      "outputs": []
    },
    {
      "cell_type": "code",
      "source": [
        "print(type(arr))"
      ],
      "metadata": {
        "colab": {
          "base_uri": "https://localhost:8080/"
        },
        "id": "3PmE7NsEN5cf",
        "outputId": "6be5ac28-5708-430d-ce1e-4f360548b6b8"
      },
      "execution_count": 3,
      "outputs": [
        {
          "output_type": "stream",
          "name": "stdout",
          "text": [
            "<class 'numpy.ndarray'>\n"
          ]
        }
      ]
    },
    {
      "cell_type": "code",
      "source": [
        "print(arr.ndim)"
      ],
      "metadata": {
        "colab": {
          "base_uri": "https://localhost:8080/"
        },
        "id": "Bb1343MHN7W8",
        "outputId": "7bc5fc50-e320-4688-a1af-c23e48f8fc8c"
      },
      "execution_count": 4,
      "outputs": [
        {
          "output_type": "stream",
          "name": "stdout",
          "text": [
            "1\n"
          ]
        }
      ]
    },
    {
      "cell_type": "code",
      "source": [
        "arr.dtype"
      ],
      "metadata": {
        "colab": {
          "base_uri": "https://localhost:8080/"
        },
        "id": "lvgJpv8_N-f0",
        "outputId": "eadbd8d3-7d5d-49e3-c54e-6a415272ff6b"
      },
      "execution_count": 5,
      "outputs": [
        {
          "output_type": "execute_result",
          "data": {
            "text/plain": [
              "dtype('int64')"
            ]
          },
          "metadata": {},
          "execution_count": 5
        }
      ]
    },
    {
      "cell_type": "code",
      "source": [
        "arr1=np.array([1,2,3,4,5],dtype='uint8')"
      ],
      "metadata": {
        "id": "jLcW28hWOI5_"
      },
      "execution_count": 6,
      "outputs": []
    },
    {
      "cell_type": "code",
      "source": [
        "arr1"
      ],
      "metadata": {
        "colab": {
          "base_uri": "https://localhost:8080/"
        },
        "id": "VLIqVBDRORLj",
        "outputId": "1936685b-48e3-4ee5-c730-921feb4fdea4"
      },
      "execution_count": 7,
      "outputs": [
        {
          "output_type": "execute_result",
          "data": {
            "text/plain": [
              "array([1, 2, 3, 4, 5], dtype=uint8)"
            ]
          },
          "metadata": {},
          "execution_count": 7
        }
      ]
    },
    {
      "cell_type": "markdown",
      "source": [
        "## Time Diff of numpy array and normal python list"
      ],
      "metadata": {
        "id": "ZT8iQ7jkQ0Ay"
      }
    },
    {
      "cell_type": "code",
      "source": [
        "lst= [1] * 1000000"
      ],
      "metadata": {
        "id": "77BXqEITQ9KQ"
      },
      "execution_count": 8,
      "outputs": []
    },
    {
      "cell_type": "code",
      "source": [
        "print(lst)\n",
        "print(type(lst))\n",
        "\n",
        "%timeit sum(lst)"
      ],
      "metadata": {
        "colab": {
          "base_uri": "https://localhost:8080/"
        },
        "id": "PFwY_I4ZRAvk",
        "outputId": "812998f0-bdf7-46fb-b317-ff192addc68e"
      },
      "execution_count": 9,
      "outputs": [
        {
          "output_type": "stream",
          "name": "stderr",
          "text": [
            "IOPub data rate exceeded.\n",
            "The notebook server will temporarily stop sending output\n",
            "to the client in order to avoid crashing it.\n",
            "To change this limit, set the config variable\n",
            "`--NotebookApp.iopub_data_rate_limit`.\n",
            "\n",
            "Current values:\n",
            "NotebookApp.iopub_data_rate_limit=1000000.0 (bytes/sec)\n",
            "NotebookApp.rate_limit_window=3.0 (secs)\n",
            "\n"
          ]
        },
        {
          "output_type": "stream",
          "name": "stdout",
          "text": [
            "100 loops, best of 5: 7.49 ms per loop\n"
          ]
        }
      ]
    },
    {
      "cell_type": "code",
      "source": [
        "arr= np.ones(1000000,dtype='uint8')\n",
        "\n",
        "%timeit arr.sum()"
      ],
      "metadata": {
        "colab": {
          "base_uri": "https://localhost:8080/"
        },
        "id": "-83zfpBsRNXL",
        "outputId": "fa5510a5-94aa-44f8-ac30-c073ddd7516c"
      },
      "execution_count": 11,
      "outputs": [
        {
          "output_type": "stream",
          "name": "stdout",
          "text": [
            "The slowest run took 5.06 times longer than the fastest. This could mean that an intermediate result is being cached.\n",
            "1000 loops, best of 5: 1.11 ms per loop\n"
          ]
        }
      ]
    },
    {
      "cell_type": "markdown",
      "source": [
        "**Numpy stands for Numerical Python\n",
        "It is a library in python to work with arrays\n",
        "We can clearly see the diff between the two operations this is because numpy on the backend is implemented in C++ so the array elements is stored as contiguos elements\n",
        "Another reason for the numpy array to be fast is that in list the list stores the addresses of the elements while the elements are stored in some other places in the memory But in numpy array the elements are itself stored in the array Hence it is fast**"
      ],
      "metadata": {
        "id": "kqlXtgttRkIc"
      }
    },
    {
      "cell_type": "code",
      "source": [
        "arr=arr*1000"
      ],
      "metadata": {
        "id": "jRc23czrR4j8"
      },
      "execution_count": 12,
      "outputs": []
    },
    {
      "cell_type": "code",
      "source": [
        "print(arr)"
      ],
      "metadata": {
        "colab": {
          "base_uri": "https://localhost:8080/"
        },
        "id": "mfBhIGevRbwk",
        "outputId": "adaa2a72-35d6-4373-be4b-22fc5d5d424a"
      },
      "execution_count": 13,
      "outputs": [
        {
          "output_type": "stream",
          "name": "stdout",
          "text": [
            "[1000 1000 1000 ... 1000 1000 1000]\n"
          ]
        }
      ]
    },
    {
      "cell_type": "markdown",
      "source": [
        "## Slicing in Numpy"
      ],
      "metadata": {
        "id": "cmgAim8GYM5t"
      }
    },
    {
      "cell_type": "code",
      "source": [
        "arr=np.arange(5,50,5)"
      ],
      "metadata": {
        "id": "Y7KSdRqWTZUN"
      },
      "execution_count": 14,
      "outputs": []
    },
    {
      "cell_type": "code",
      "source": [
        "print(arr)"
      ],
      "metadata": {
        "colab": {
          "base_uri": "https://localhost:8080/"
        },
        "id": "MijElnMQYX2y",
        "outputId": "4e6a2c56-5d9c-42fe-f8de-9b4611e41d2c"
      },
      "execution_count": 15,
      "outputs": [
        {
          "output_type": "stream",
          "name": "stdout",
          "text": [
            "[ 5 10 15 20 25 30 35 40 45]\n"
          ]
        }
      ]
    },
    {
      "cell_type": "code",
      "source": [
        "## Diff of slicing in numpy and python is that in python list everytime we slice a new copy is made while in numpy array \n",
        "##only a view of the numpy array is shown"
      ],
      "metadata": {
        "id": "Kbg7FPxXYZFc"
      },
      "execution_count": 16,
      "outputs": []
    },
    {
      "cell_type": "code",
      "source": [
        "list1=[1,2,3,4,5]\n",
        "list2=list1[2:5]\n",
        "print(list1)\n",
        "print(list2)\n",
        "list2[0]=100\n",
        "print(list1)\n",
        "print(list2)"
      ],
      "metadata": {
        "colab": {
          "base_uri": "https://localhost:8080/"
        },
        "id": "hTabMMBCYuBQ",
        "outputId": "b8d9d129-466d-4a8a-85e7-a92e402e2599"
      },
      "execution_count": 17,
      "outputs": [
        {
          "output_type": "stream",
          "name": "stdout",
          "text": [
            "[1, 2, 3, 4, 5]\n",
            "[3, 4, 5]\n",
            "[1, 2, 3, 4, 5]\n",
            "[100, 4, 5]\n"
          ]
        }
      ]
    },
    {
      "cell_type": "markdown",
      "source": [
        "## We can see that the original list is not affected"
      ],
      "metadata": {
        "id": "mZi5_MrtZE8Y"
      }
    },
    {
      "cell_type": "code",
      "source": [
        "arr1=np.array([1,2,3,4,5])\n",
        "arr2=arr1[2:5]\n",
        "print(arr1)\n",
        "print(arr2)\n",
        "arr2[0]=100\n",
        "print(arr1)\n",
        "print(arr2)"
      ],
      "metadata": {
        "colab": {
          "base_uri": "https://localhost:8080/"
        },
        "id": "6RqBcSC3ZCWI",
        "outputId": "fd647846-c9da-41e8-bca1-04fa76e4c272"
      },
      "execution_count": 19,
      "outputs": [
        {
          "output_type": "stream",
          "name": "stdout",
          "text": [
            "[1 2 3 4 5]\n",
            "[3 4 5]\n",
            "[  1   2 100   4   5]\n",
            "[100   4   5]\n"
          ]
        }
      ]
    },
    {
      "cell_type": "markdown",
      "source": [
        "## We can see that the original array is affected as the new slcing only just a view of the original array"
      ],
      "metadata": {
        "id": "eybPmYU2Zekj"
      }
    },
    {
      "cell_type": "code",
      "source": [
        "arr1=np.array([1,2,3,4,5])\n",
        "arr2=arr1[2:5].copy()\n",
        "print(arr1)\n",
        "print(arr2)\n",
        "arr2[0]=100\n",
        "print(arr1)\n",
        "print(arr2)"
      ],
      "metadata": {
        "colab": {
          "base_uri": "https://localhost:8080/"
        },
        "id": "vLNBiv5CZbIH",
        "outputId": "1914b5b7-40cd-4fdb-e715-495333e8db0f"
      },
      "execution_count": 20,
      "outputs": [
        {
          "output_type": "stream",
          "name": "stdout",
          "text": [
            "[1 2 3 4 5]\n",
            "[3 4 5]\n",
            "[1 2 3 4 5]\n",
            "[100   4   5]\n"
          ]
        }
      ]
    },
    {
      "cell_type": "markdown",
      "source": [
        "## Now we made a copy() purposely"
      ],
      "metadata": {
        "id": "lq8Xw80kZqNx"
      }
    },
    {
      "cell_type": "markdown",
      "source": [
        "## 2D Array"
      ],
      "metadata": {
        "id": "LwQarqnyiU3v"
      }
    },
    {
      "cell_type": "code",
      "source": [
        "arr=np.array([[1,2,3],[4,5,6],[7,8,9]])"
      ],
      "metadata": {
        "id": "siOJEwT_Zos6"
      },
      "execution_count": 21,
      "outputs": []
    },
    {
      "cell_type": "code",
      "source": [
        "print(arr)"
      ],
      "metadata": {
        "colab": {
          "base_uri": "https://localhost:8080/"
        },
        "id": "K1T7an5YbeXf",
        "outputId": "940d3dd1-fa0c-4035-e08f-eaa32f2a0c55"
      },
      "execution_count": 22,
      "outputs": [
        {
          "output_type": "stream",
          "name": "stdout",
          "text": [
            "[[1 2 3]\n",
            " [4 5 6]\n",
            " [7 8 9]]\n"
          ]
        }
      ]
    },
    {
      "cell_type": "code",
      "source": [
        "arr1=arr[-1::-1,-1::-1]\n",
        "print(arr1)"
      ],
      "metadata": {
        "colab": {
          "base_uri": "https://localhost:8080/"
        },
        "id": "kqMSn-U5bfwI",
        "outputId": "2f5763c0-b687-4eb8-dc3e-3d5a49946828"
      },
      "execution_count": 26,
      "outputs": [
        {
          "output_type": "stream",
          "name": "stdout",
          "text": [
            "[[9 8 7]\n",
            " [6 5 4]\n",
            " [3 2 1]]\n"
          ]
        }
      ]
    },
    {
      "cell_type": "code",
      "source": [
        "arr.ndim"
      ],
      "metadata": {
        "colab": {
          "base_uri": "https://localhost:8080/"
        },
        "id": "CQNTbwM5boS-",
        "outputId": "3ad54224-841e-4d06-df99-106da25b19d6"
      },
      "execution_count": 27,
      "outputs": [
        {
          "output_type": "execute_result",
          "data": {
            "text/plain": [
              "2"
            ]
          },
          "metadata": {},
          "execution_count": 27
        }
      ]
    },
    {
      "cell_type": "code",
      "source": [
        "arr.shape"
      ],
      "metadata": {
        "colab": {
          "base_uri": "https://localhost:8080/"
        },
        "id": "NEAR9Crlicvq",
        "outputId": "44f5cc4b-1786-4c66-e1e3-da27190c821c"
      },
      "execution_count": 28,
      "outputs": [
        {
          "output_type": "execute_result",
          "data": {
            "text/plain": [
              "(3, 3)"
            ]
          },
          "metadata": {},
          "execution_count": 28
        }
      ]
    },
    {
      "cell_type": "code",
      "source": [
        "arr.size"
      ],
      "metadata": {
        "colab": {
          "base_uri": "https://localhost:8080/"
        },
        "id": "dhMCpTrzieAh",
        "outputId": "03d2c893-cda8-4772-fdec-c60a3d5bd9bd"
      },
      "execution_count": 29,
      "outputs": [
        {
          "output_type": "execute_result",
          "data": {
            "text/plain": [
              "9"
            ]
          },
          "metadata": {},
          "execution_count": 29
        }
      ]
    },
    {
      "cell_type": "code",
      "source": [
        "arr[0][1]"
      ],
      "metadata": {
        "colab": {
          "base_uri": "https://localhost:8080/"
        },
        "id": "P4Elk_qUifLf",
        "outputId": "ad7f1139-b835-4825-9431-920d6a416227"
      },
      "execution_count": 30,
      "outputs": [
        {
          "output_type": "execute_result",
          "data": {
            "text/plain": [
              "2"
            ]
          },
          "metadata": {},
          "execution_count": 30
        }
      ]
    },
    {
      "cell_type": "code",
      "source": [
        "arr[0,1]"
      ],
      "metadata": {
        "colab": {
          "base_uri": "https://localhost:8080/"
        },
        "id": "4qazySMZijnN",
        "outputId": "446a98ec-626c-4820-d5fa-786a6c3f557e"
      },
      "execution_count": 31,
      "outputs": [
        {
          "output_type": "execute_result",
          "data": {
            "text/plain": [
              "2"
            ]
          },
          "metadata": {},
          "execution_count": 31
        }
      ]
    },
    {
      "cell_type": "code",
      "source": [
        "#We can create an array of ones of any dimension\n",
        "aar2=np.ones((2,3,4,5))"
      ],
      "metadata": {
        "id": "himAGa5RimWT"
      },
      "execution_count": 32,
      "outputs": []
    },
    {
      "cell_type": "code",
      "source": [
        "aar2"
      ],
      "metadata": {
        "colab": {
          "base_uri": "https://localhost:8080/"
        },
        "id": "k_BtPWXEiv0H",
        "outputId": "9df9c985-3757-4e94-9914-8d02c7aba5ba"
      },
      "execution_count": 33,
      "outputs": [
        {
          "output_type": "execute_result",
          "data": {
            "text/plain": [
              "array([[[[1., 1., 1., 1., 1.],\n",
              "         [1., 1., 1., 1., 1.],\n",
              "         [1., 1., 1., 1., 1.],\n",
              "         [1., 1., 1., 1., 1.]],\n",
              "\n",
              "        [[1., 1., 1., 1., 1.],\n",
              "         [1., 1., 1., 1., 1.],\n",
              "         [1., 1., 1., 1., 1.],\n",
              "         [1., 1., 1., 1., 1.]],\n",
              "\n",
              "        [[1., 1., 1., 1., 1.],\n",
              "         [1., 1., 1., 1., 1.],\n",
              "         [1., 1., 1., 1., 1.],\n",
              "         [1., 1., 1., 1., 1.]]],\n",
              "\n",
              "\n",
              "       [[[1., 1., 1., 1., 1.],\n",
              "         [1., 1., 1., 1., 1.],\n",
              "         [1., 1., 1., 1., 1.],\n",
              "         [1., 1., 1., 1., 1.]],\n",
              "\n",
              "        [[1., 1., 1., 1., 1.],\n",
              "         [1., 1., 1., 1., 1.],\n",
              "         [1., 1., 1., 1., 1.],\n",
              "         [1., 1., 1., 1., 1.]],\n",
              "\n",
              "        [[1., 1., 1., 1., 1.],\n",
              "         [1., 1., 1., 1., 1.],\n",
              "         [1., 1., 1., 1., 1.],\n",
              "         [1., 1., 1., 1., 1.]]]])"
            ]
          },
          "metadata": {},
          "execution_count": 33
        }
      ]
    },
    {
      "cell_type": "code",
      "source": [
        "#We can see a 4d array above"
      ],
      "metadata": {
        "id": "SOzfDftfixA8"
      },
      "execution_count": 34,
      "outputs": []
    },
    {
      "cell_type": "markdown",
      "source": [
        "## Some more functions in numpy"
      ],
      "metadata": {
        "id": "9Ev0jb_si60y"
      }
    },
    {
      "cell_type": "code",
      "source": [
        "ar=np.arange(2,30,3)"
      ],
      "metadata": {
        "id": "4viHvC-_i0zu"
      },
      "execution_count": 35,
      "outputs": []
    },
    {
      "cell_type": "code",
      "source": [
        "ar"
      ],
      "metadata": {
        "colab": {
          "base_uri": "https://localhost:8080/"
        },
        "id": "mschAp2ujERp",
        "outputId": "1e682895-1f34-40e4-a2c3-b040a7f5d2a1"
      },
      "execution_count": 36,
      "outputs": [
        {
          "output_type": "execute_result",
          "data": {
            "text/plain": [
              "array([ 2,  5,  8, 11, 14, 17, 20, 23, 26, 29])"
            ]
          },
          "metadata": {},
          "execution_count": 36
        }
      ]
    },
    {
      "cell_type": "code",
      "source": [
        "np.random.permutation(ar) #It randomly arranges the given numpy array"
      ],
      "metadata": {
        "colab": {
          "base_uri": "https://localhost:8080/"
        },
        "id": "PGVWG4UwjFiD",
        "outputId": "cddacf24-443b-485e-d161-86db6d31c930"
      },
      "execution_count": 38,
      "outputs": [
        {
          "output_type": "execute_result",
          "data": {
            "text/plain": [
              "array([11,  5, 14, 23, 17,  2, 20, 29, 26,  8])"
            ]
          },
          "metadata": {},
          "execution_count": 38
        }
      ]
    },
    {
      "cell_type": "code",
      "source": [
        "np.random.randint(1,20)"
      ],
      "metadata": {
        "colab": {
          "base_uri": "https://localhost:8080/"
        },
        "id": "nV-ngsJ-jNCT",
        "outputId": "f7bf86e1-26cb-4aab-bb51-36b04add8756"
      },
      "execution_count": 43,
      "outputs": [
        {
          "output_type": "execute_result",
          "data": {
            "text/plain": [
              "1"
            ]
          },
          "metadata": {},
          "execution_count": 43
        }
      ]
    },
    {
      "cell_type": "code",
      "source": [
        "#now we are going to use a random funtion which in back uses gaussian distribution to store the array"
      ],
      "metadata": {
        "id": "4wwcopDojeHt"
      },
      "execution_count": 44,
      "outputs": []
    },
    {
      "cell_type": "code",
      "source": [
        "a=np.random.randn(100)"
      ],
      "metadata": {
        "id": "vORws6e7j5MI"
      },
      "execution_count": 46,
      "outputs": []
    },
    {
      "cell_type": "code",
      "source": [
        "print(a.mean(),a.std())"
      ],
      "metadata": {
        "colab": {
          "base_uri": "https://localhost:8080/"
        },
        "id": "uix8icrJj7tQ",
        "outputId": "9c53c584-f3af-49a6-d62f-d9823e561be6"
      },
      "execution_count": 47,
      "outputs": [
        {
          "output_type": "stream",
          "name": "stdout",
          "text": [
            "0.07764710730933574 1.0507494816923846\n"
          ]
        }
      ]
    },
    {
      "cell_type": "code",
      "source": [
        "#Since it follow normal/gaussian distribution the mean will always be around 0 and the stadard deviation will always be around 1"
      ],
      "metadata": {
        "id": "gkT5Xq_4kGuc"
      },
      "execution_count": 48,
      "outputs": []
    },
    {
      "cell_type": "code",
      "source": [
        "#We have another function linspace which gives an array of numbers between two intervals which are equally spaced and number of numbers in between the interval can be explicitly mentioned"
      ],
      "metadata": {
        "id": "kBSgP959kRfp"
      },
      "execution_count": 49,
      "outputs": []
    },
    {
      "cell_type": "code",
      "source": [
        "linarr=np.linspace(1,5,100)"
      ],
      "metadata": {
        "id": "078tkZ_zknrx"
      },
      "execution_count": 50,
      "outputs": []
    },
    {
      "cell_type": "code",
      "source": [
        "#Now we can check be checking the diff between two consecutive elements\n",
        "print(linarr[10]-linarr[9])\n",
        "print(linarr[20]-linarr[19])\n",
        "\n",
        "#We can see the diff is moreover same"
      ],
      "metadata": {
        "colab": {
          "base_uri": "https://localhost:8080/"
        },
        "id": "GTD31hFmksqz",
        "outputId": "8ae5336e-6c63-466f-dd5a-f59f1dfc6679"
      },
      "execution_count": 53,
      "outputs": [
        {
          "output_type": "stream",
          "name": "stdout",
          "text": [
            "0.04040404040404022\n",
            "0.04040404040404044\n"
          ]
        }
      ]
    },
    {
      "cell_type": "code",
      "source": [
        "#We have where() function and reshape function\n",
        "#Where() funciton is like if else applied inside the numpy array"
      ],
      "metadata": {
        "id": "3k4YXBn_kykV"
      },
      "execution_count": null,
      "outputs": []
    }
  ]
}