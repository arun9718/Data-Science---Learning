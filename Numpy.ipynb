{
  "nbformat": 4,
  "nbformat_minor": 0,
  "metadata": {
    "colab": {
      "name": "Numpy.ipynb",
      "provenance": [],
      "authorship_tag": "ABX9TyN7OFvZgui8aZH58v3iGkBO",
      "include_colab_link": true
    },
    "kernelspec": {
      "name": "python3",
      "display_name": "Python 3"
    },
    "language_info": {
      "name": "python"
    }
  },
  "cells": [
    {
      "cell_type": "markdown",
      "metadata": {
        "id": "view-in-github",
        "colab_type": "text"
      },
      "source": [
        "<a href=\"https://colab.research.google.com/github/arun9718/Data-Science---Learning/blob/Day2/Numpy.ipynb\" target=\"_parent\"><img src=\"https://colab.research.google.com/assets/colab-badge.svg\" alt=\"Open In Colab\"/></a>"
      ]
    },
    {
      "cell_type": "code",
      "execution_count": 1,
      "metadata": {
        "id": "w_gEdQBZMh91"
      },
      "outputs": [],
      "source": [
        "import numpy as np"
      ]
    },
    {
      "cell_type": "code",
      "source": [
        "arr=np.array([1,2,3,4])"
      ],
      "metadata": {
        "id": "Y0cKBeovN00F"
      },
      "execution_count": 2,
      "outputs": []
    },
    {
      "cell_type": "code",
      "source": [
        "print(type(arr))"
      ],
      "metadata": {
        "colab": {
          "base_uri": "https://localhost:8080/"
        },
        "id": "3PmE7NsEN5cf",
        "outputId": "6be5ac28-5708-430d-ce1e-4f360548b6b8"
      },
      "execution_count": 3,
      "outputs": [
        {
          "output_type": "stream",
          "name": "stdout",
          "text": [
            "<class 'numpy.ndarray'>\n"
          ]
        }
      ]
    },
    {
      "cell_type": "code",
      "source": [
        "print(arr.ndim)"
      ],
      "metadata": {
        "colab": {
          "base_uri": "https://localhost:8080/"
        },
        "id": "Bb1343MHN7W8",
        "outputId": "7bc5fc50-e320-4688-a1af-c23e48f8fc8c"
      },
      "execution_count": 4,
      "outputs": [
        {
          "output_type": "stream",
          "name": "stdout",
          "text": [
            "1\n"
          ]
        }
      ]
    },
    {
      "cell_type": "code",
      "source": [
        "arr.dtype"
      ],
      "metadata": {
        "colab": {
          "base_uri": "https://localhost:8080/"
        },
        "id": "lvgJpv8_N-f0",
        "outputId": "eadbd8d3-7d5d-49e3-c54e-6a415272ff6b"
      },
      "execution_count": 5,
      "outputs": [
        {
          "output_type": "execute_result",
          "data": {
            "text/plain": [
              "dtype('int64')"
            ]
          },
          "metadata": {},
          "execution_count": 5
        }
      ]
    },
    {
      "cell_type": "code",
      "source": [
        "arr1=np.array([1,2,3,4,5],dtype='uint8')"
      ],
      "metadata": {
        "id": "jLcW28hWOI5_"
      },
      "execution_count": 6,
      "outputs": []
    },
    {
      "cell_type": "code",
      "source": [
        "arr1"
      ],
      "metadata": {
        "colab": {
          "base_uri": "https://localhost:8080/"
        },
        "id": "VLIqVBDRORLj",
        "outputId": "1936685b-48e3-4ee5-c730-921feb4fdea4"
      },
      "execution_count": 7,
      "outputs": [
        {
          "output_type": "execute_result",
          "data": {
            "text/plain": [
              "array([1, 2, 3, 4, 5], dtype=uint8)"
            ]
          },
          "metadata": {},
          "execution_count": 7
        }
      ]
    },
    {
      "cell_type": "markdown",
      "source": [
        "## Time Diff of numpy array and normal python list"
      ],
      "metadata": {
        "id": "ZT8iQ7jkQ0Ay"
      }
    },
    {
      "cell_type": "code",
      "source": [
        "lst= [1] * 1000000"
      ],
      "metadata": {
        "id": "77BXqEITQ9KQ"
      },
      "execution_count": 8,
      "outputs": []
    },
    {
      "cell_type": "code",
      "source": [
        "print(lst)\n",
        "print(type(lst))\n",
        "\n",
        "%timeit sum(lst)"
      ],
      "metadata": {
        "colab": {
          "base_uri": "https://localhost:8080/"
        },
        "id": "PFwY_I4ZRAvk",
        "outputId": "812998f0-bdf7-46fb-b317-ff192addc68e"
      },
      "execution_count": 9,
      "outputs": [
        {
          "output_type": "stream",
          "name": "stderr",
          "text": [
            "IOPub data rate exceeded.\n",
            "The notebook server will temporarily stop sending output\n",
            "to the client in order to avoid crashing it.\n",
            "To change this limit, set the config variable\n",
            "`--NotebookApp.iopub_data_rate_limit`.\n",
            "\n",
            "Current values:\n",
            "NotebookApp.iopub_data_rate_limit=1000000.0 (bytes/sec)\n",
            "NotebookApp.rate_limit_window=3.0 (secs)\n",
            "\n"
          ]
        },
        {
          "output_type": "stream",
          "name": "stdout",
          "text": [
            "100 loops, best of 5: 7.49 ms per loop\n"
          ]
        }
      ]
    },
    {
      "cell_type": "code",
      "source": [
        "arr= np.ones(1000000,dtype='uint8')\n",
        "\n",
        "%timeit arr.sum()"
      ],
      "metadata": {
        "colab": {
          "base_uri": "https://localhost:8080/"
        },
        "id": "-83zfpBsRNXL",
        "outputId": "fa5510a5-94aa-44f8-ac30-c073ddd7516c"
      },
      "execution_count": 11,
      "outputs": [
        {
          "output_type": "stream",
          "name": "stdout",
          "text": [
            "The slowest run took 5.06 times longer than the fastest. This could mean that an intermediate result is being cached.\n",
            "1000 loops, best of 5: 1.11 ms per loop\n"
          ]
        }
      ]
    },
    {
      "cell_type": "markdown",
      "source": [
        "**Numpy stands for Numerical Python\n",
        "It is a library in python to work with arrays\n",
        "We can clearly see the diff between the two operations this is because numpy on the backend is implemented in C++ so the array elements is stored as contiguos elements\n",
        "Another reason for the numpy array to be fast is that in list the list stores the addresses of the elements while the elements are stored in some other places in the memory But in numpy array the elements are itself stored in the array Hence it is fast**"
      ],
      "metadata": {
        "id": "kqlXtgttRkIc"
      }
    },
    {
      "cell_type": "code",
      "source": [
        "arr=arr*1000"
      ],
      "metadata": {
        "id": "jRc23czrR4j8"
      },
      "execution_count": 12,
      "outputs": []
    },
    {
      "cell_type": "code",
      "source": [
        "print(arr)"
      ],
      "metadata": {
        "colab": {
          "base_uri": "https://localhost:8080/"
        },
        "id": "mfBhIGevRbwk",
        "outputId": "adaa2a72-35d6-4373-be4b-22fc5d5d424a"
      },
      "execution_count": 13,
      "outputs": [
        {
          "output_type": "stream",
          "name": "stdout",
          "text": [
            "[1000 1000 1000 ... 1000 1000 1000]\n"
          ]
        }
      ]
    },
    {
      "cell_type": "markdown",
      "source": [
        "## Slicing in Numpy"
      ],
      "metadata": {
        "id": "cmgAim8GYM5t"
      }
    },
    {
      "cell_type": "code",
      "source": [
        "arr=np.arange(5,50,5)"
      ],
      "metadata": {
        "id": "Y7KSdRqWTZUN"
      },
      "execution_count": 14,
      "outputs": []
    },
    {
      "cell_type": "code",
      "source": [
        "print(arr)"
      ],
      "metadata": {
        "colab": {
          "base_uri": "https://localhost:8080/"
        },
        "id": "MijElnMQYX2y",
        "outputId": "4e6a2c56-5d9c-42fe-f8de-9b4611e41d2c"
      },
      "execution_count": 15,
      "outputs": [
        {
          "output_type": "stream",
          "name": "stdout",
          "text": [
            "[ 5 10 15 20 25 30 35 40 45]\n"
          ]
        }
      ]
    },
    {
      "cell_type": "code",
      "source": [
        "## Diff of slicing in numpy and python is that in python list everytime we slice a new copy is made while in numpy array \n",
        "##only a view of the numpy array is shown"
      ],
      "metadata": {
        "id": "Kbg7FPxXYZFc"
      },
      "execution_count": 16,
      "outputs": []
    },
    {
      "cell_type": "code",
      "source": [
        "list1=[1,2,3,4,5]\n",
        "list2=list1[2:5]\n",
        "print(list1)\n",
        "print(list2)\n",
        "list2[0]=100\n",
        "print(list1)\n",
        "print(list2)"
      ],
      "metadata": {
        "colab": {
          "base_uri": "https://localhost:8080/"
        },
        "id": "hTabMMBCYuBQ",
        "outputId": "b8d9d129-466d-4a8a-85e7-a92e402e2599"
      },
      "execution_count": 17,
      "outputs": [
        {
          "output_type": "stream",
          "name": "stdout",
          "text": [
            "[1, 2, 3, 4, 5]\n",
            "[3, 4, 5]\n",
            "[1, 2, 3, 4, 5]\n",
            "[100, 4, 5]\n"
          ]
        }
      ]
    },
    {
      "cell_type": "markdown",
      "source": [
        "## We can see that the original list is not affected"
      ],
      "metadata": {
        "id": "mZi5_MrtZE8Y"
      }
    },
    {
      "cell_type": "code",
      "source": [
        "arr1=np.array([1,2,3,4,5])\n",
        "arr2=arr1[2:5]\n",
        "print(arr1)\n",
        "print(arr2)\n",
        "arr2[0]=100\n",
        "print(arr1)\n",
        "print(arr2)"
      ],
      "metadata": {
        "colab": {
          "base_uri": "https://localhost:8080/"
        },
        "id": "6RqBcSC3ZCWI",
        "outputId": "fd647846-c9da-41e8-bca1-04fa76e4c272"
      },
      "execution_count": 19,
      "outputs": [
        {
          "output_type": "stream",
          "name": "stdout",
          "text": [
            "[1 2 3 4 5]\n",
            "[3 4 5]\n",
            "[  1   2 100   4   5]\n",
            "[100   4   5]\n"
          ]
        }
      ]
    },
    {
      "cell_type": "markdown",
      "source": [
        "## We can see that the original array is affected as the new slcing only just a view of the original array"
      ],
      "metadata": {
        "id": "eybPmYU2Zekj"
      }
    },
    {
      "cell_type": "code",
      "source": [
        "arr1=np.array([1,2,3,4,5])\n",
        "arr2=arr1[2:5].copy()\n",
        "print(arr1)\n",
        "print(arr2)\n",
        "arr2[0]=100\n",
        "print(arr1)\n",
        "print(arr2)"
      ],
      "metadata": {
        "colab": {
          "base_uri": "https://localhost:8080/"
        },
        "id": "vLNBiv5CZbIH",
        "outputId": "1914b5b7-40cd-4fdb-e715-495333e8db0f"
      },
      "execution_count": 20,
      "outputs": [
        {
          "output_type": "stream",
          "name": "stdout",
          "text": [
            "[1 2 3 4 5]\n",
            "[3 4 5]\n",
            "[1 2 3 4 5]\n",
            "[100   4   5]\n"
          ]
        }
      ]
    },
    {
      "cell_type": "markdown",
      "source": [
        "## Now we made a copy() purposely"
      ],
      "metadata": {
        "id": "lq8Xw80kZqNx"
      }
    },
    {
      "cell_type": "code",
      "source": [
        ""
      ],
      "metadata": {
        "id": "siOJEwT_Zos6"
      },
      "execution_count": null,
      "outputs": []
    }
  ]
}